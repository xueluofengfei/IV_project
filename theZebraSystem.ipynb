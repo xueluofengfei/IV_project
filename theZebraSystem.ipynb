{
 "cells": [
  {
   "cell_type": "code",
   "execution_count": null,
   "metadata": {},
   "outputs": [],
   "source": [
    "import altair as alt\n",
    "import numpy as np\n",
    "import pandas as pd\n",
    "import seaborn as sns\n",
    "import matplotlib.pyplot as plt"
   ]
  },
  {
   "cell_type": "code",
   "execution_count": null,
   "metadata": {},
   "outputs": [],
   "source": [
    "iris = pd.read_csv('iris.csv')\n",
    "iris.info()\n",
    "iris.head(5)\n",
    "iris.describe()"
   ]
  },
  {
   "cell_type": "markdown",
   "metadata": {},
   "source": [
    "# Design Decision 1: 散点图可视化iris特征"
   ]
  },
  {
   "cell_type": "markdown",
   "metadata": {},
   "source": [
    "choice 1: 直接的散点图\n",
    "choice 2: 回归散点图"
   ]
  },
  {
   "cell_type": "code",
   "execution_count": null,
   "metadata": {},
   "outputs": [],
   "source": [
    "f, axes = plt.subplots(3, 2, figsize=(15, 15))\n",
    "\n",
    "swsl = sns.scatterplot(data=iris, x='SepalWidth', y='SepalLength', palette='nipy_spectral_r', hue='Species', ax = axes[0,0])\n",
    "swpl = sns.scatterplot(data=iris, x='SepalWidth', y='PetalLength', palette='nipy_spectral_r', hue='Species', ax = axes[1,0])\n",
    "swpw = sns.scatterplot(data=iris, x='SepalWidth', y='PetalWidth', palette='nipy_spectral_r', hue='Species', ax = axes[2,0])\n",
    "slpl = sns.scatterplot(data=iris, x='SepalLength', y='PetalLength', palette='nipy_spectral_r', hue='Species', ax = axes[0,1])\n",
    "slpw = sns.scatterplot(data=iris, x='SepalLength', y='PetalWidth', palette='nipy_spectral_r', hue='Species', ax = axes[1,1])\n",
    "plpw = sns.scatterplot(data=iris, x='PetalLength', y='PetalWidth', palette='nipy_spectral_r', hue='Species', ax = axes[2,1])\n"
   ]
  },
  {
   "cell_type": "markdown",
   "metadata": {},
   "source": [
    "# Design Decision 2: 核密度估计图\n",
    "choice 1: 单属性kde choice 2: 双属性kde"
   ]
  },
  {
   "cell_type": "code",
   "execution_count": null,
   "metadata": {},
   "outputs": [],
   "source": [
    "f, axes = plt.subplots(3, 2, figsize=(10, 10))\n",
    "\n",
    "swsl = sns.kdeplot(data=iris, x='SepalWidth', hue='Species', ax = axes[0,0], shade=True)\n",
    "swpl = sns.kdeplot(data=iris, x='SepalLength',hue='Species', ax = axes[1,0], shade=True)\n",
    "swpw = sns.kdeplot(data=iris, x='SepalWidth', hue='Species', ax = axes[2,0], shade=True)\n",
    "slpl = sns.kdeplot(data=iris, x='SepalLength',hue='Species', ax = axes[0,1], shade=True)\n",
    "slpw = sns.kdeplot(data=iris, x='SepalLength',hue='Species', ax = axes[1,1], shade=True)\n",
    "plpw = sns.kdeplot(data=iris, x='PetalLength',hue='Species', ax = axes[2,1], shade=True)"
   ]
  },
  {
   "cell_type": "markdown",
   "metadata": {},
   "source": [
    "# Design Decision 3: 是否合并箱线图和琴图"
   ]
  },
  {
   "cell_type": "code",
   "execution_count": null,
   "metadata": {},
   "outputs": [],
   "source": [
    "###琴图###\n",
    "f, axes = plt.subplots(2, 2, figsize=(8, 8), sharex=True)\n",
    "sns.despine(left=True)\n",
    "\n",
    "sns.violinplot(x='Species', y='SepalLength', data=iris, palette='cool', ax=axes[0, 0])\n",
    "sns.violinplot(x='Species', y='SepalWidth', data=iris, palette='cool', ax=axes[0, 1])\n",
    "sns.violinplot(x='Species', y='PetalLength', data=iris, palette='cool', ax=axes[1, 0])\n",
    "sns.violinplot(x='Species', y='PetalWidth', data=iris, palette='cool', ax=axes[1, 1])\n",
    "\n",
    "plt.show()"
   ]
  },
  {
   "cell_type": "markdown",
   "metadata": {},
   "source": [
    "# Design Decision 4: Andrew曲线 或者 Parallel_coordinates"
   ]
  },
  {
   "cell_type": "code",
   "execution_count": null,
   "metadata": {},
   "outputs": [],
   "source": [
    "plt.subplots(figsize = (10,8))\n",
    "pd.plotting.andrews_curves(iris, 'Species', colormap='cividis')\n",
    "plt.show()"
   ]
  },
  {
   "cell_type": "code",
   "execution_count": null,
   "metadata": {},
   "outputs": [],
   "source": [
    "####################################Not In Decisions#########################################"
   ]
  },
  {
   "cell_type": "code",
   "execution_count": null,
   "metadata": {},
   "outputs": [],
   "source": [
    "first = alt.Chart().mark_point(filled=True,size=20).encode(\n",
    "    alt.X(alt.repeat('column'), type='quantitative'),\n",
    "    alt.Y(alt.repeat('row'), type='quantitative'),\n",
    "    color='Species:N',\n",
    ").properties(\n",
    "    width=150,\n",
    "    height=150\n",
    ").repeat(\n",
    "    data = iris,\n",
    "    row=['SepalLength'],\n",
    "    column=['SepalWidth', 'PetalLength', 'PetalWidth']\n",
    ").transform_filter(\n",
    "    alt.FieldOneOfPredicate(field='Species', oneOf=['Iris-setosa', 'Iris-versicolor'])\n",
    ")\n",
    "#--------------------------------------------------------------------\n",
    "second = alt.Chart().mark_point(filled=True,size=29).encode(\n",
    "    alt.X(alt.repeat('column'), type='quantitative'),\n",
    "    alt.Y(alt.repeat('row'), type='quantitative'),\n",
    "    color='Species:N',\n",
    ").properties(\n",
    "    width=150,\n",
    "    height=150\n",
    ").repeat(\n",
    "    data = iris,\n",
    "    row=['SepalWidth'],\n",
    "    column=['PetalLength', 'PetalWidth']\n",
    ").transform_filter(\n",
    "    alt.FieldOneOfPredicate(field='Species', oneOf=['Iris-setosa', 'Iris-versicolor'])\n",
    ")\n",
    "#--------------------------------------------------------------------\n",
    "third = alt.Chart().mark_point(filled=True,size=20).encode(\n",
    "    alt.X(alt.repeat('column'), type='quantitative'),\n",
    "    alt.Y(alt.repeat('row'), type='quantitative'),\n",
    "    color='Species:N',\n",
    ").properties(\n",
    "    width=150,\n",
    "    height=150\n",
    ").repeat(\n",
    "    data = iris,\n",
    "    row=['PetalLength'],\n",
    "    column=['PetalWidth']\n",
    ").transform_filter(\n",
    "    alt.FieldOneOfPredicate(field='Species', oneOf=['Iris-setosa', 'Iris-versicolor'])\n",
    ")\n",
    "#--------------------------------------------------------------------\n",
    "alt.vconcat(first,second,third)"
   ]
  },
  {
   "cell_type": "markdown",
   "metadata": {},
   "source": [
    "# 密度预估曲线图"
   ]
  },
  {
   "cell_type": "code",
   "execution_count": null,
   "metadata": {},
   "outputs": [],
   "source": [
    "###密度预估曲线图###\n",
    "alt.Chart(iris).transform_fold(\n",
    "    ['PetalWidth',\n",
    "     'PetalLength',\n",
    "     'SepalWidth',\n",
    "     'SepalLength'],\n",
    "    as_ = ['Measurement_type', 'value']\n",
    ").transform_density(\n",
    "    density='value',\n",
    "    bandwidth=0.3,\n",
    "    groupby=['Measurement_type'],\n",
    "    extent= [0, 8],\n",
    "    counts = True,\n",
    "    steps=200\n",
    ").mark_area().encode(\n",
    "    alt.X('value:Q'),\n",
    "    alt.Y('density:Q', stack='zero'),\n",
    "    alt.Color('Measurement_type:N')\n",
    ").properties(width=400, height=100)"
   ]
  },
  {
   "cell_type": "code",
   "execution_count": null,
   "metadata": {},
   "outputs": [],
   "source": [
    "alt.Chart(iris).mark_area(interpolate='monotone').encode(\n",
    "    x='SepalLength:Q',\n",
    "    y='count(SepalLength):Q',\n",
    "    color='Species:N',\n",
    "    facet=alt.Facet('Species:N', title=None)\n",
    ").transform_filter(\n",
    "    alt.FieldRangePredicate(field='SepalLength', range=[0, 5.5])\n",
    ").properties(width=200, height=150)"
   ]
  },
  {
   "cell_type": "code",
   "execution_count": null,
   "metadata": {},
   "outputs": [],
   "source": [
    "sns.jointplot(x=\"SepalLength\", y=\"SepalWidth\", data=iris, size=5)"
   ]
  },
  {
   "cell_type": "code",
   "execution_count": null,
   "metadata": {},
   "outputs": [],
   "source": [
    "# 'Accent', 'Accent_r', 'Blues', 'Blues_r', 'BrBG', 'BrBG_r', 'BuGn', 'BuGn_r', 'BuPu', 'BuPu_r', 'CMRmap', 'CMRmap_r', 'Dark2', 'Dark2_r', 'GnBu', 'GnBu_r', 'Greens', 'Greens_r', 'Greys', 'Greys_r', 'OrRd', 'OrRd_r', 'Oranges', 'Oranges_r', 'PRGn', 'PRGn_r', 'Paired', 'Paired_r', 'Pastel1', 'Pastel1_r', 'Pastel2', 'Pastel2_r', 'PiYG', 'PiYG_r', 'PuBu', 'PuBuGn', 'PuBuGn_r', 'PuBu_r', 'PuOr', 'PuOr_r', 'PuRd', 'PuRd_r', 'Purples', 'Purples_r', 'RdBu', 'RdBu_r', 'RdGy', 'RdGy_r', 'RdPu', 'RdPu_r', 'RdYlBu', 'RdYlBu_r', 'RdYlGn', 'RdYlGn_r', 'Reds', 'Reds_r', 'Set1', 'Set1_r', 'Set2', 'Set2_r', 'Set3', 'Set3_r', 'Spectral', 'Spectral_r', 'Wistia', 'Wistia_r', 'YlGn', 'YlGnBu', 'YlGnBu_r', 'YlGn_r', 'YlOrBr', 'YlOrBr_r', 'YlOrRd', 'YlOrRd_r', 'afmhot', 'afmhot_r', 'autumn', 'autumn_r', 'binary', 'binary_r', 'bone', 'bone_r', 'brg', 'brg_r', 'bwr', 'bwr_r', 'cividis', 'cividis_r', 'cool', 'cool_r', 'coolwarm', 'coolwarm_r', 'copper', 'copper_r', 'crest', 'crest_r', 'cubehelix', 'cubehelix_r', 'flag', 'flag_r', 'flare', 'flare_r', 'gist_earth', 'gist_earth_r', 'gist_gray', 'gist_gray_r', 'gist_heat', 'gist_heat_r', 'gist_ncar', 'gist_ncar_r', 'gist_rainbow', 'gist_rainbow_r', 'gist_stern', 'gist_stern_r', 'gist_yarg', 'gist_yarg_r', 'gnuplot', 'gnuplot2', 'gnuplot2_r', 'gnuplot_r', 'gray', 'gray_r', 'hot', 'hot_r', 'hsv', 'hsv_r', 'icefire', 'icefire_r', 'inferno', 'inferno_r', 'jet', 'jet_r', 'magma', 'magma_r', 'mako', 'mako_r', 'nipy_spectral', 'nipy_spectral_r', 'ocean', 'ocean_r', 'pink', 'pink_r', 'plasma', 'plasma_r', 'prism', 'prism_r', 'rainbow', 'rainbow_r', 'rocket', 'rocket_r', 'seismic', 'seismic_r', 'spring', 'spring_r', 'summer', 'summer_r', 'tab10', 'tab10_r', 'tab20', 'tab20_r', 'tab20b', 'tab20b_r', 'tab20c', 'tab20c_r', 'terrain', 'terrain_r', 'turbo', 'turbo_r', 'twilight', 'twilight_r', 'twilight_shifted', 'twilight_shifted_r', 'viridis', 'viridis_r', 'vlag', 'vlag_r', 'winter', 'winter_r'"
   ]
  },
  {
   "cell_type": "markdown",
   "metadata": {},
   "source": [
    "# 热力图"
   ]
  },
  {
   "cell_type": "code",
   "execution_count": null,
   "metadata": {},
   "outputs": [],
   "source": [
    "###相关性热力图，绝对值大的代表相关性高###\n",
    "fig=plt.gcf()\n",
    "fig.set_size_inches(12, 8)\n",
    "fig=sns.heatmap(iris.corr(), annot=True, cmap='GnBu', linewidths=1, linecolor='k', square=True, mask=False, vmin=-1, vmax=1, cbar_kws={\"orientation\": \"vertical\"}, cbar=True)"
   ]
  },
  {
   "cell_type": "markdown",
   "metadata": {},
   "source": [
    "# 数据分布"
   ]
  },
  {
   "cell_type": "code",
   "execution_count": null,
   "metadata": {},
   "outputs": [],
   "source": [
    "###数据分布图###\n",
    "line1 = alt.Chart(iris).mark_bar(interpolate='monotone').encode(\n",
    "    x='PetalLength:Q', \n",
    "    y='count(PetalLength):Q',\n",
    "    color='Species:N',\n",
    "    # facet=alt.Facet('Species:N', title=None)\n",
    ").properties(width=180, height=150)\n",
    "\n",
    "line2 = alt.Chart(iris).mark_line(interpolate='monotone').encode(\n",
    "    x='PetalWidth:Q',\n",
    "    y='count(PetalWidth):Q',\n",
    "    color='Species:N',\n",
    "    # facet=alt.Facet('Species:N', title=None)\n",
    ").properties(width=180, height=150)\n",
    "\n",
    "line3 = alt.Chart(iris).mark_area(interpolate='monotone').encode(\n",
    "    x='SepalLength:Q',\n",
    "    y='count(SepalLength):Q',\n",
    "    color='Species:N',\n",
    "    # facet=alt.Facet('Species:N', title=None)\n",
    ").properties(width=180, height=150)\n",
    "\n",
    "line4 = alt.Chart(iris).mark_area(interpolate='monotone').encode(\n",
    "    x='SepalWidth:Q',\n",
    "    y='count(SepalWidth):Q',\n",
    "    color='Species:N',\n",
    "    # facet=alt.Facet('Species:N', title=None)\n",
    ").properties(width=180, height=150)\n",
    "\n",
    "alt.hconcat(line1,line2,line3,line4)"
   ]
  }
 ],
 "metadata": {
  "interpreter": {
   "hash": "47d97859861914db0cae8ef85b434b86c94eb8b41d7951e6413cfaacb17f8e54"
  },
  "kernelspec": {
   "display_name": "Python 3",
   "language": "python",
   "name": "python3"
  },
  "language_info": {
   "codemirror_mode": {
    "name": "ipython",
    "version": 3
   },
   "file_extension": ".py",
   "mimetype": "text/x-python",
   "name": "python",
   "nbconvert_exporter": "python",
   "pygments_lexer": "ipython3",
   "version": "3.7.2"
  }
 },
 "nbformat": 4,
 "nbformat_minor": 2
}
