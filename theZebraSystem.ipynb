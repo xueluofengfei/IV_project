{
 "cells": [
  {
   "cell_type": "code",
   "execution_count": 3,
   "metadata": {},
   "outputs": [
    {
     "output_type": "error",
     "ename": "ImportError",
     "evalue": "DLL load failed: 找不到指定的模块。",
     "traceback": [
      "\u001b[1;31m---------------------------------------------------------------------------\u001b[0m",
      "\u001b[1;31mImportError\u001b[0m                               Traceback (most recent call last)",
      "\u001b[1;32m<ipython-input-3-e65fefd38765>\u001b[0m in \u001b[0;36m<module>\u001b[1;34m\u001b[0m\n\u001b[0;32m      2\u001b[0m \u001b[1;32mimport\u001b[0m \u001b[0mnumpy\u001b[0m \u001b[1;32mas\u001b[0m \u001b[0mnp\u001b[0m\u001b[1;33m\u001b[0m\u001b[1;33m\u001b[0m\u001b[0m\n\u001b[0;32m      3\u001b[0m \u001b[1;32mimport\u001b[0m \u001b[0mpandas\u001b[0m \u001b[1;32mas\u001b[0m \u001b[0mpd\u001b[0m\u001b[1;33m\u001b[0m\u001b[1;33m\u001b[0m\u001b[0m\n\u001b[1;32m----> 4\u001b[1;33m \u001b[1;32mimport\u001b[0m \u001b[0mseaborn\u001b[0m \u001b[1;32mas\u001b[0m \u001b[0msns\u001b[0m\u001b[1;33m\u001b[0m\u001b[1;33m\u001b[0m\u001b[0m\n\u001b[0m\u001b[0;32m      5\u001b[0m \u001b[1;32mimport\u001b[0m \u001b[0mmatplotlib\u001b[0m\u001b[1;33m.\u001b[0m\u001b[0mpyplot\u001b[0m \u001b[1;32mas\u001b[0m \u001b[0mplt\u001b[0m\u001b[1;33m\u001b[0m\u001b[1;33m\u001b[0m\u001b[0m\n",
      "\u001b[1;32mC:\\Anaconda\\lib\\site-packages\\seaborn\\__init__.py\u001b[0m in \u001b[0;36m<module>\u001b[1;34m\u001b[0m\n\u001b[0;32m      1\u001b[0m \u001b[1;31m# Import seaborn objects\u001b[0m\u001b[1;33m\u001b[0m\u001b[1;33m\u001b[0m\u001b[1;33m\u001b[0m\u001b[0m\n\u001b[1;32m----> 2\u001b[1;33m \u001b[1;32mfrom\u001b[0m \u001b[1;33m.\u001b[0m\u001b[0mrcmod\u001b[0m \u001b[1;32mimport\u001b[0m \u001b[1;33m*\u001b[0m  \u001b[1;31m# noqa: F401,F403\u001b[0m\u001b[1;33m\u001b[0m\u001b[1;33m\u001b[0m\u001b[0m\n\u001b[0m\u001b[0;32m      3\u001b[0m \u001b[1;32mfrom\u001b[0m \u001b[1;33m.\u001b[0m\u001b[0mutils\u001b[0m \u001b[1;32mimport\u001b[0m \u001b[1;33m*\u001b[0m  \u001b[1;31m# noqa: F401,F403\u001b[0m\u001b[1;33m\u001b[0m\u001b[1;33m\u001b[0m\u001b[0m\n\u001b[0;32m      4\u001b[0m \u001b[1;32mfrom\u001b[0m \u001b[1;33m.\u001b[0m\u001b[0mpalettes\u001b[0m \u001b[1;32mimport\u001b[0m \u001b[1;33m*\u001b[0m  \u001b[1;31m# noqa: F401,F403\u001b[0m\u001b[1;33m\u001b[0m\u001b[1;33m\u001b[0m\u001b[0m\n\u001b[0;32m      5\u001b[0m \u001b[1;32mfrom\u001b[0m \u001b[1;33m.\u001b[0m\u001b[0mrelational\u001b[0m \u001b[1;32mimport\u001b[0m \u001b[1;33m*\u001b[0m  \u001b[1;31m# noqa: F401,F403\u001b[0m\u001b[1;33m\u001b[0m\u001b[1;33m\u001b[0m\u001b[0m\n",
      "\u001b[1;32mC:\\Anaconda\\lib\\site-packages\\seaborn\\rcmod.py\u001b[0m in \u001b[0;36m<module>\u001b[1;34m\u001b[0m\n\u001b[0;32m      5\u001b[0m \u001b[1;32mimport\u001b[0m \u001b[0mmatplotlib\u001b[0m \u001b[1;32mas\u001b[0m \u001b[0mmpl\u001b[0m\u001b[1;33m\u001b[0m\u001b[1;33m\u001b[0m\u001b[0m\n\u001b[0;32m      6\u001b[0m \u001b[1;32mfrom\u001b[0m \u001b[0mcycler\u001b[0m \u001b[1;32mimport\u001b[0m \u001b[0mcycler\u001b[0m\u001b[1;33m\u001b[0m\u001b[1;33m\u001b[0m\u001b[0m\n\u001b[1;32m----> 7\u001b[1;33m \u001b[1;32mfrom\u001b[0m \u001b[1;33m.\u001b[0m \u001b[1;32mimport\u001b[0m \u001b[0mpalettes\u001b[0m\u001b[1;33m\u001b[0m\u001b[1;33m\u001b[0m\u001b[0m\n\u001b[0m\u001b[0;32m      8\u001b[0m \u001b[1;33m\u001b[0m\u001b[0m\n\u001b[0;32m      9\u001b[0m \u001b[1;33m\u001b[0m\u001b[0m\n",
      "\u001b[1;32mC:\\Anaconda\\lib\\site-packages\\seaborn\\palettes.py\u001b[0m in \u001b[0;36m<module>\u001b[1;34m\u001b[0m\n\u001b[0;32m      7\u001b[0m \u001b[1;32mfrom\u001b[0m \u001b[1;33m.\u001b[0m\u001b[0mexternal\u001b[0m \u001b[1;32mimport\u001b[0m \u001b[0mhusl\u001b[0m\u001b[1;33m\u001b[0m\u001b[1;33m\u001b[0m\u001b[0m\n\u001b[0;32m      8\u001b[0m \u001b[1;33m\u001b[0m\u001b[0m\n\u001b[1;32m----> 9\u001b[1;33m \u001b[1;32mfrom\u001b[0m \u001b[1;33m.\u001b[0m\u001b[0mutils\u001b[0m \u001b[1;32mimport\u001b[0m \u001b[0mdesaturate\u001b[0m\u001b[1;33m,\u001b[0m \u001b[0mget_color_cycle\u001b[0m\u001b[1;33m\u001b[0m\u001b[1;33m\u001b[0m\u001b[0m\n\u001b[0m\u001b[0;32m     10\u001b[0m \u001b[1;32mfrom\u001b[0m \u001b[1;33m.\u001b[0m\u001b[0mcolors\u001b[0m \u001b[1;32mimport\u001b[0m \u001b[0mxkcd_rgb\u001b[0m\u001b[1;33m,\u001b[0m \u001b[0mcrayons\u001b[0m\u001b[1;33m\u001b[0m\u001b[1;33m\u001b[0m\u001b[0m\n\u001b[0;32m     11\u001b[0m \u001b[1;33m\u001b[0m\u001b[0m\n",
      "\u001b[1;32mC:\\Anaconda\\lib\\site-packages\\seaborn\\utils.py\u001b[0m in \u001b[0;36m<module>\u001b[1;34m\u001b[0m\n\u001b[0;32m      8\u001b[0m \u001b[1;33m\u001b[0m\u001b[0m\n\u001b[0;32m      9\u001b[0m \u001b[1;32mimport\u001b[0m \u001b[0mnumpy\u001b[0m \u001b[1;32mas\u001b[0m \u001b[0mnp\u001b[0m\u001b[1;33m\u001b[0m\u001b[1;33m\u001b[0m\u001b[0m\n\u001b[1;32m---> 10\u001b[1;33m \u001b[1;32mfrom\u001b[0m \u001b[0mscipy\u001b[0m \u001b[1;32mimport\u001b[0m \u001b[0mstats\u001b[0m\u001b[1;33m\u001b[0m\u001b[1;33m\u001b[0m\u001b[0m\n\u001b[0m\u001b[0;32m     11\u001b[0m \u001b[1;32mimport\u001b[0m \u001b[0mpandas\u001b[0m \u001b[1;32mas\u001b[0m \u001b[0mpd\u001b[0m\u001b[1;33m\u001b[0m\u001b[1;33m\u001b[0m\u001b[0m\n\u001b[0;32m     12\u001b[0m \u001b[1;32mimport\u001b[0m \u001b[0mmatplotlib\u001b[0m \u001b[1;32mas\u001b[0m \u001b[0mmpl\u001b[0m\u001b[1;33m\u001b[0m\u001b[1;33m\u001b[0m\u001b[0m\n",
      "\u001b[1;32mC:\\Anaconda\\lib\\site-packages\\scipy\\stats\\__init__.py\u001b[0m in \u001b[0;36m<module>\u001b[1;34m\u001b[0m\n\u001b[0;32m    389\u001b[0m \u001b[1;33m\u001b[0m\u001b[0m\n\u001b[0;32m    390\u001b[0m \"\"\"\n\u001b[1;32m--> 391\u001b[1;33m \u001b[1;32mfrom\u001b[0m \u001b[1;33m.\u001b[0m\u001b[0mstats\u001b[0m \u001b[1;32mimport\u001b[0m \u001b[1;33m*\u001b[0m\u001b[1;33m\u001b[0m\u001b[1;33m\u001b[0m\u001b[0m\n\u001b[0m\u001b[0;32m    392\u001b[0m \u001b[1;32mfrom\u001b[0m \u001b[1;33m.\u001b[0m\u001b[0mdistributions\u001b[0m \u001b[1;32mimport\u001b[0m \u001b[1;33m*\u001b[0m\u001b[1;33m\u001b[0m\u001b[1;33m\u001b[0m\u001b[0m\n\u001b[0;32m    393\u001b[0m \u001b[1;32mfrom\u001b[0m \u001b[1;33m.\u001b[0m\u001b[0mmorestats\u001b[0m \u001b[1;32mimport\u001b[0m \u001b[1;33m*\u001b[0m\u001b[1;33m\u001b[0m\u001b[1;33m\u001b[0m\u001b[0m\n",
      "\u001b[1;32mC:\\Anaconda\\lib\\site-packages\\scipy\\stats\\stats.py\u001b[0m in \u001b[0;36m<module>\u001b[1;34m\u001b[0m\n\u001b[0;32m    172\u001b[0m \u001b[1;32mfrom\u001b[0m \u001b[0mnumpy\u001b[0m \u001b[1;32mimport\u001b[0m \u001b[0marray\u001b[0m\u001b[1;33m,\u001b[0m \u001b[0masarray\u001b[0m\u001b[1;33m,\u001b[0m \u001b[0mma\u001b[0m\u001b[1;33m\u001b[0m\u001b[1;33m\u001b[0m\u001b[0m\n\u001b[0;32m    173\u001b[0m \u001b[1;33m\u001b[0m\u001b[0m\n\u001b[1;32m--> 174\u001b[1;33m \u001b[1;32mfrom\u001b[0m \u001b[0mscipy\u001b[0m\u001b[1;33m.\u001b[0m\u001b[0mspatial\u001b[0m\u001b[1;33m.\u001b[0m\u001b[0mdistance\u001b[0m \u001b[1;32mimport\u001b[0m \u001b[0mcdist\u001b[0m\u001b[1;33m\u001b[0m\u001b[1;33m\u001b[0m\u001b[0m\n\u001b[0m\u001b[0;32m    175\u001b[0m \u001b[1;32mfrom\u001b[0m \u001b[0mscipy\u001b[0m\u001b[1;33m.\u001b[0m\u001b[0mndimage\u001b[0m \u001b[1;32mimport\u001b[0m \u001b[0mmeasurements\u001b[0m\u001b[1;33m\u001b[0m\u001b[1;33m\u001b[0m\u001b[0m\n\u001b[0;32m    176\u001b[0m from scipy._lib._util import (_lazywhere, check_random_state, MapWrapper,\n",
      "\u001b[1;32mC:\\Anaconda\\lib\\site-packages\\scipy\\spatial\\__init__.py\u001b[0m in \u001b[0;36m<module>\u001b[1;34m\u001b[0m\n\u001b[0;32m     96\u001b[0m \u001b[1;32mfrom\u001b[0m \u001b[1;33m.\u001b[0m\u001b[0mkdtree\u001b[0m \u001b[1;32mimport\u001b[0m \u001b[1;33m*\u001b[0m\u001b[1;33m\u001b[0m\u001b[1;33m\u001b[0m\u001b[0m\n\u001b[0;32m     97\u001b[0m \u001b[1;32mfrom\u001b[0m \u001b[1;33m.\u001b[0m\u001b[0mckdtree\u001b[0m \u001b[1;32mimport\u001b[0m \u001b[1;33m*\u001b[0m\u001b[1;33m\u001b[0m\u001b[1;33m\u001b[0m\u001b[0m\n\u001b[1;32m---> 98\u001b[1;33m \u001b[1;32mfrom\u001b[0m \u001b[1;33m.\u001b[0m\u001b[0mqhull\u001b[0m \u001b[1;32mimport\u001b[0m \u001b[1;33m*\u001b[0m\u001b[1;33m\u001b[0m\u001b[1;33m\u001b[0m\u001b[0m\n\u001b[0m\u001b[0;32m     99\u001b[0m \u001b[1;32mfrom\u001b[0m \u001b[1;33m.\u001b[0m\u001b[0m_spherical_voronoi\u001b[0m \u001b[1;32mimport\u001b[0m \u001b[0mSphericalVoronoi\u001b[0m\u001b[1;33m\u001b[0m\u001b[1;33m\u001b[0m\u001b[0m\n\u001b[0;32m    100\u001b[0m \u001b[1;32mfrom\u001b[0m \u001b[1;33m.\u001b[0m\u001b[0m_plotutils\u001b[0m \u001b[1;32mimport\u001b[0m \u001b[1;33m*\u001b[0m\u001b[1;33m\u001b[0m\u001b[1;33m\u001b[0m\u001b[0m\n",
      "\u001b[1;31mImportError\u001b[0m: DLL load failed: 找不到指定的模块。"
     ]
    }
   ],
   "source": [
    "import altair as alt\n",
    "import numpy as np\n",
    "import pandas as pd\n",
    "import seaborn as sns\n",
    "import matplotlib.pyplot as plt"
   ]
  },
  {
   "cell_type": "code",
   "execution_count": 2,
   "metadata": {},
   "outputs": [
    {
     "name": "stdout",
     "output_type": "stream",
     "text": [
      "<class 'pandas.core.frame.DataFrame'>\n",
      "RangeIndex: 150 entries, 0 to 149\n",
      "Data columns (total 5 columns):\n",
      " #   Column       Non-Null Count  Dtype  \n",
      "---  ------       --------------  -----  \n",
      " 0   SepalLength  150 non-null    float64\n",
      " 1   SepalWidth   150 non-null    float64\n",
      " 2   PetalLength  150 non-null    float64\n",
      " 3   PetalWidth   150 non-null    float64\n",
      " 4   Species      150 non-null    object \n",
      "dtypes: float64(4), object(1)\n",
      "memory usage: 6.0+ KB\n"
     ]
    },
    {
     "data": {
      "text/html": [
       "<div>\n",
       "<style scoped>\n",
       "    .dataframe tbody tr th:only-of-type {\n",
       "        vertical-align: middle;\n",
       "    }\n",
       "\n",
       "    .dataframe tbody tr th {\n",
       "        vertical-align: top;\n",
       "    }\n",
       "\n",
       "    .dataframe thead th {\n",
       "        text-align: right;\n",
       "    }\n",
       "</style>\n",
       "<table border=\"1\" class=\"dataframe\">\n",
       "  <thead>\n",
       "    <tr style=\"text-align: right;\">\n",
       "      <th></th>\n",
       "      <th>SepalLength</th>\n",
       "      <th>SepalWidth</th>\n",
       "      <th>PetalLength</th>\n",
       "      <th>PetalWidth</th>\n",
       "    </tr>\n",
       "  </thead>\n",
       "  <tbody>\n",
       "    <tr>\n",
       "      <th>count</th>\n",
       "      <td>150.000000</td>\n",
       "      <td>150.000000</td>\n",
       "      <td>150.000000</td>\n",
       "      <td>150.000000</td>\n",
       "    </tr>\n",
       "    <tr>\n",
       "      <th>mean</th>\n",
       "      <td>5.843333</td>\n",
       "      <td>3.057333</td>\n",
       "      <td>3.758000</td>\n",
       "      <td>1.199333</td>\n",
       "    </tr>\n",
       "    <tr>\n",
       "      <th>std</th>\n",
       "      <td>0.828066</td>\n",
       "      <td>0.435866</td>\n",
       "      <td>1.765298</td>\n",
       "      <td>0.762238</td>\n",
       "    </tr>\n",
       "    <tr>\n",
       "      <th>min</th>\n",
       "      <td>4.300000</td>\n",
       "      <td>2.000000</td>\n",
       "      <td>1.000000</td>\n",
       "      <td>0.100000</td>\n",
       "    </tr>\n",
       "    <tr>\n",
       "      <th>25%</th>\n",
       "      <td>5.100000</td>\n",
       "      <td>2.800000</td>\n",
       "      <td>1.600000</td>\n",
       "      <td>0.300000</td>\n",
       "    </tr>\n",
       "    <tr>\n",
       "      <th>50%</th>\n",
       "      <td>5.800000</td>\n",
       "      <td>3.000000</td>\n",
       "      <td>4.350000</td>\n",
       "      <td>1.300000</td>\n",
       "    </tr>\n",
       "    <tr>\n",
       "      <th>75%</th>\n",
       "      <td>6.400000</td>\n",
       "      <td>3.300000</td>\n",
       "      <td>5.100000</td>\n",
       "      <td>1.800000</td>\n",
       "    </tr>\n",
       "    <tr>\n",
       "      <th>max</th>\n",
       "      <td>7.900000</td>\n",
       "      <td>4.400000</td>\n",
       "      <td>6.900000</td>\n",
       "      <td>2.500000</td>\n",
       "    </tr>\n",
       "  </tbody>\n",
       "</table>\n",
       "</div>"
      ],
      "text/plain": [
       "       SepalLength  SepalWidth  PetalLength  PetalWidth\n",
       "count   150.000000  150.000000   150.000000  150.000000\n",
       "mean      5.843333    3.057333     3.758000    1.199333\n",
       "std       0.828066    0.435866     1.765298    0.762238\n",
       "min       4.300000    2.000000     1.000000    0.100000\n",
       "25%       5.100000    2.800000     1.600000    0.300000\n",
       "50%       5.800000    3.000000     4.350000    1.300000\n",
       "75%       6.400000    3.300000     5.100000    1.800000\n",
       "max       7.900000    4.400000     6.900000    2.500000"
      ]
     },
     "execution_count": 2,
     "metadata": {},
     "output_type": "execute_result"
    }
   ],
   "source": [
    "iris = pd.read_csv('iris.csv')\n",
    "iris.info()\n",
    "iris.head(5)\n",
    "iris.describe()"
   ]
  },
  {
   "source": [
    "# Design Decision 1: 散点图可视化iris特征"
   ],
   "cell_type": "markdown",
   "metadata": {}
  },
  {
   "source": [
    "choice 1: 同一张图展示三个品种，观察品种之间的区别\n",
    "choice 2: 三张图分别展示，观察某一品种的特征"
   ],
   "cell_type": "markdown",
   "metadata": {}
  },
  {
   "cell_type": "code",
   "execution_count": 3,
   "metadata": {},
   "outputs": [
    {
     "data": {
      "text/html": [
       "\n",
       "<div id=\"altair-viz-d4ddad711bd647afa349a4181e745dbe\"></div>\n",
       "<script type=\"text/javascript\">\n",
       "  (function(spec, embedOpt){\n",
       "    let outputDiv = document.currentScript.previousElementSibling;\n",
       "    if (outputDiv.id !== \"altair-viz-d4ddad711bd647afa349a4181e745dbe\") {\n",
       "      outputDiv = document.getElementById(\"altair-viz-d4ddad711bd647afa349a4181e745dbe\");\n",
       "    }\n",
       "    const paths = {\n",
       "      \"vega\": \"https://cdn.jsdelivr.net/npm//vega@5?noext\",\n",
       "      \"vega-lib\": \"https://cdn.jsdelivr.net/npm//vega-lib?noext\",\n",
       "      \"vega-lite\": \"https://cdn.jsdelivr.net/npm//vega-lite@4.8.1?noext\",\n",
       "      \"vega-embed\": \"https://cdn.jsdelivr.net/npm//vega-embed@6?noext\",\n",
       "    };\n",
       "\n",
       "    function loadScript(lib) {\n",
       "      return new Promise(function(resolve, reject) {\n",
       "        var s = document.createElement('script');\n",
       "        s.src = paths[lib];\n",
       "        s.async = true;\n",
       "        s.onload = () => resolve(paths[lib]);\n",
       "        s.onerror = () => reject(`Error loading script: ${paths[lib]}`);\n",
       "        document.getElementsByTagName(\"head\")[0].appendChild(s);\n",
       "      });\n",
       "    }\n",
       "\n",
       "    function showError(err) {\n",
       "      outputDiv.innerHTML = `<div class=\"error\" style=\"color:red;\">${err}</div>`;\n",
       "      throw err;\n",
       "    }\n",
       "\n",
       "    function displayChart(vegaEmbed) {\n",
       "      vegaEmbed(outputDiv, spec, embedOpt)\n",
       "        .catch(err => showError(`Javascript Error: ${err.message}<br>This usually means there's a typo in your chart specification. See the javascript console for the full traceback.`));\n",
       "    }\n",
       "\n",
       "    if(typeof define === \"function\" && define.amd) {\n",
       "      requirejs.config({paths});\n",
       "      require([\"vega-embed\"], displayChart, err => showError(`Error loading script: ${err.message}`));\n",
       "    } else if (typeof vegaEmbed === \"function\") {\n",
       "      displayChart(vegaEmbed);\n",
       "    } else {\n",
       "      loadScript(\"vega\")\n",
       "        .then(() => loadScript(\"vega-lite\"))\n",
       "        .then(() => loadScript(\"vega-embed\"))\n",
       "        .catch(showError)\n",
       "        .then(() => displayChart(vegaEmbed));\n",
       "    }\n",
       "  })({\"config\": {\"view\": {\"continuousWidth\": 400, \"continuousHeight\": 300}}, \"data\": {\"name\": \"data-17573b73165b324fe49516a27bcc2ed5\"}, \"mark\": {\"type\": \"point\", \"filled\": true, \"size\": 50}, \"encoding\": {\"color\": {\"type\": \"nominal\", \"field\": \"Species\"}, \"tooltip\": [{\"type\": \"nominal\", \"field\": \"Species\"}, {\"type\": \"quantitative\", \"field\": \"SepalLength\"}, {\"type\": \"quantitative\", \"field\": \"SepalWidth\"}], \"x\": {\"type\": \"quantitative\", \"axis\": {\"title\": \"Sepal Length\"}, \"field\": \"SepalLength\", \"scale\": {\"domain\": [4, 8]}}, \"y\": {\"type\": \"quantitative\", \"axis\": {\"title\": \"Sepal Width\"}, \"field\": \"SepalWidth\", \"scale\": {\"domain\": [1.5, 5]}}}, \"selection\": {\"selector001\": {\"type\": \"interval\", \"bind\": \"scales\", \"encodings\": [\"x\", \"y\"]}}, \"$schema\": \"https://vega.github.io/schema/vega-lite/v4.8.1.json\", \"datasets\": {\"data-17573b73165b324fe49516a27bcc2ed5\": [{\"SepalLength\": 5.1, \"SepalWidth\": 3.5, \"PetalLength\": 1.4, \"PetalWidth\": 0.2, \"Species\": \"Iris-setosa\"}, {\"SepalLength\": 4.9, \"SepalWidth\": 3.0, \"PetalLength\": 1.4, \"PetalWidth\": 0.2, \"Species\": \"Iris-setosa\"}, {\"SepalLength\": 4.7, \"SepalWidth\": 3.2, \"PetalLength\": 1.3, \"PetalWidth\": 0.2, \"Species\": \"Iris-setosa\"}, {\"SepalLength\": 4.6, \"SepalWidth\": 3.1, \"PetalLength\": 1.5, \"PetalWidth\": 0.2, \"Species\": \"Iris-setosa\"}, {\"SepalLength\": 5.0, \"SepalWidth\": 3.6, \"PetalLength\": 1.4, \"PetalWidth\": 0.2, \"Species\": \"Iris-setosa\"}, {\"SepalLength\": 5.4, \"SepalWidth\": 3.9, \"PetalLength\": 1.7, \"PetalWidth\": 0.4, \"Species\": \"Iris-setosa\"}, {\"SepalLength\": 4.6, \"SepalWidth\": 3.4, \"PetalLength\": 1.4, \"PetalWidth\": 0.3, \"Species\": \"Iris-setosa\"}, {\"SepalLength\": 5.0, \"SepalWidth\": 3.4, \"PetalLength\": 1.5, \"PetalWidth\": 0.2, \"Species\": \"Iris-setosa\"}, {\"SepalLength\": 4.4, \"SepalWidth\": 2.9, \"PetalLength\": 1.4, \"PetalWidth\": 0.2, \"Species\": \"Iris-setosa\"}, {\"SepalLength\": 4.9, \"SepalWidth\": 3.1, \"PetalLength\": 1.5, \"PetalWidth\": 0.1, \"Species\": \"Iris-setosa\"}, {\"SepalLength\": 5.4, \"SepalWidth\": 3.7, \"PetalLength\": 1.5, \"PetalWidth\": 0.2, \"Species\": \"Iris-setosa\"}, {\"SepalLength\": 4.8, \"SepalWidth\": 3.4, \"PetalLength\": 1.6, \"PetalWidth\": 0.2, \"Species\": \"Iris-setosa\"}, {\"SepalLength\": 4.8, \"SepalWidth\": 3.0, \"PetalLength\": 1.4, \"PetalWidth\": 0.1, \"Species\": \"Iris-setosa\"}, {\"SepalLength\": 4.3, \"SepalWidth\": 3.0, \"PetalLength\": 1.1, \"PetalWidth\": 0.1, \"Species\": \"Iris-setosa\"}, {\"SepalLength\": 5.8, \"SepalWidth\": 4.0, \"PetalLength\": 1.2, \"PetalWidth\": 0.2, \"Species\": \"Iris-setosa\"}, {\"SepalLength\": 5.7, \"SepalWidth\": 4.4, \"PetalLength\": 1.5, \"PetalWidth\": 0.4, \"Species\": \"Iris-setosa\"}, {\"SepalLength\": 5.4, \"SepalWidth\": 3.9, \"PetalLength\": 1.3, \"PetalWidth\": 0.4, \"Species\": \"Iris-setosa\"}, {\"SepalLength\": 5.1, \"SepalWidth\": 3.5, \"PetalLength\": 1.4, \"PetalWidth\": 0.3, \"Species\": \"Iris-setosa\"}, {\"SepalLength\": 5.7, \"SepalWidth\": 3.8, \"PetalLength\": 1.7, \"PetalWidth\": 0.3, \"Species\": \"Iris-setosa\"}, {\"SepalLength\": 5.1, \"SepalWidth\": 3.8, \"PetalLength\": 1.5, \"PetalWidth\": 0.3, \"Species\": \"Iris-setosa\"}, {\"SepalLength\": 5.4, \"SepalWidth\": 3.4, \"PetalLength\": 1.7, \"PetalWidth\": 0.2, \"Species\": \"Iris-setosa\"}, {\"SepalLength\": 5.1, \"SepalWidth\": 3.7, \"PetalLength\": 1.5, \"PetalWidth\": 0.4, \"Species\": \"Iris-setosa\"}, {\"SepalLength\": 4.6, \"SepalWidth\": 3.6, \"PetalLength\": 1.0, \"PetalWidth\": 0.2, \"Species\": \"Iris-setosa\"}, {\"SepalLength\": 5.1, \"SepalWidth\": 3.3, \"PetalLength\": 1.7, \"PetalWidth\": 0.5, \"Species\": \"Iris-setosa\"}, {\"SepalLength\": 4.8, \"SepalWidth\": 3.4, \"PetalLength\": 1.9, \"PetalWidth\": 0.2, \"Species\": \"Iris-setosa\"}, {\"SepalLength\": 5.0, \"SepalWidth\": 3.0, \"PetalLength\": 1.6, \"PetalWidth\": 0.2, \"Species\": \"Iris-setosa\"}, {\"SepalLength\": 5.0, \"SepalWidth\": 3.4, \"PetalLength\": 1.6, \"PetalWidth\": 0.4, \"Species\": \"Iris-setosa\"}, {\"SepalLength\": 5.2, \"SepalWidth\": 3.5, \"PetalLength\": 1.5, \"PetalWidth\": 0.2, \"Species\": \"Iris-setosa\"}, {\"SepalLength\": 5.2, \"SepalWidth\": 3.4, \"PetalLength\": 1.4, \"PetalWidth\": 0.2, \"Species\": \"Iris-setosa\"}, {\"SepalLength\": 4.7, \"SepalWidth\": 3.2, \"PetalLength\": 1.6, \"PetalWidth\": 0.2, \"Species\": \"Iris-setosa\"}, {\"SepalLength\": 4.8, \"SepalWidth\": 3.1, \"PetalLength\": 1.6, \"PetalWidth\": 0.2, \"Species\": \"Iris-setosa\"}, {\"SepalLength\": 5.4, \"SepalWidth\": 3.4, \"PetalLength\": 1.5, \"PetalWidth\": 0.4, \"Species\": \"Iris-setosa\"}, {\"SepalLength\": 5.2, \"SepalWidth\": 4.1, \"PetalLength\": 1.5, \"PetalWidth\": 0.1, \"Species\": \"Iris-setosa\"}, {\"SepalLength\": 5.5, \"SepalWidth\": 4.2, \"PetalLength\": 1.4, \"PetalWidth\": 0.2, \"Species\": \"Iris-setosa\"}, {\"SepalLength\": 4.9, \"SepalWidth\": 3.1, \"PetalLength\": 1.5, \"PetalWidth\": 0.2, \"Species\": \"Iris-setosa\"}, {\"SepalLength\": 5.0, \"SepalWidth\": 3.2, \"PetalLength\": 1.2, \"PetalWidth\": 0.2, \"Species\": \"Iris-setosa\"}, {\"SepalLength\": 5.5, \"SepalWidth\": 3.5, \"PetalLength\": 1.3, \"PetalWidth\": 0.2, \"Species\": \"Iris-setosa\"}, {\"SepalLength\": 4.9, \"SepalWidth\": 3.6, \"PetalLength\": 1.4, \"PetalWidth\": 0.1, \"Species\": \"Iris-setosa\"}, {\"SepalLength\": 4.4, \"SepalWidth\": 3.0, \"PetalLength\": 1.3, \"PetalWidth\": 0.2, \"Species\": \"Iris-setosa\"}, {\"SepalLength\": 5.1, \"SepalWidth\": 3.4, \"PetalLength\": 1.5, \"PetalWidth\": 0.2, \"Species\": \"Iris-setosa\"}, {\"SepalLength\": 5.0, \"SepalWidth\": 3.5, \"PetalLength\": 1.3, \"PetalWidth\": 0.3, \"Species\": \"Iris-setosa\"}, {\"SepalLength\": 4.5, \"SepalWidth\": 2.3, \"PetalLength\": 1.3, \"PetalWidth\": 0.3, \"Species\": \"Iris-setosa\"}, {\"SepalLength\": 4.4, \"SepalWidth\": 3.2, \"PetalLength\": 1.3, \"PetalWidth\": 0.2, \"Species\": \"Iris-setosa\"}, {\"SepalLength\": 5.0, \"SepalWidth\": 3.5, \"PetalLength\": 1.6, \"PetalWidth\": 0.6, \"Species\": \"Iris-setosa\"}, {\"SepalLength\": 5.1, \"SepalWidth\": 3.8, \"PetalLength\": 1.9, \"PetalWidth\": 0.4, \"Species\": \"Iris-setosa\"}, {\"SepalLength\": 4.8, \"SepalWidth\": 3.0, \"PetalLength\": 1.4, \"PetalWidth\": 0.3, \"Species\": \"Iris-setosa\"}, {\"SepalLength\": 5.1, \"SepalWidth\": 3.8, \"PetalLength\": 1.6, \"PetalWidth\": 0.2, \"Species\": \"Iris-setosa\"}, {\"SepalLength\": 4.6, \"SepalWidth\": 3.2, \"PetalLength\": 1.4, \"PetalWidth\": 0.2, \"Species\": \"Iris-setosa\"}, {\"SepalLength\": 5.3, \"SepalWidth\": 3.7, \"PetalLength\": 1.5, \"PetalWidth\": 0.2, \"Species\": \"Iris-setosa\"}, {\"SepalLength\": 5.0, \"SepalWidth\": 3.3, \"PetalLength\": 1.4, \"PetalWidth\": 0.2, \"Species\": \"Iris-setosa\"}, {\"SepalLength\": 7.0, \"SepalWidth\": 3.2, \"PetalLength\": 4.7, \"PetalWidth\": 1.4, \"Species\": \"Iris-versicolor\"}, {\"SepalLength\": 6.4, \"SepalWidth\": 3.2, \"PetalLength\": 4.5, \"PetalWidth\": 1.5, \"Species\": \"Iris-versicolor\"}, {\"SepalLength\": 6.9, \"SepalWidth\": 3.1, \"PetalLength\": 4.9, \"PetalWidth\": 1.5, \"Species\": \"Iris-versicolor\"}, {\"SepalLength\": 5.5, \"SepalWidth\": 2.3, \"PetalLength\": 4.0, \"PetalWidth\": 1.3, \"Species\": \"Iris-versicolor\"}, {\"SepalLength\": 6.5, \"SepalWidth\": 2.8, \"PetalLength\": 4.6, \"PetalWidth\": 1.5, \"Species\": \"Iris-versicolor\"}, {\"SepalLength\": 5.7, \"SepalWidth\": 2.8, \"PetalLength\": 4.5, \"PetalWidth\": 1.3, \"Species\": \"Iris-versicolor\"}, {\"SepalLength\": 6.3, \"SepalWidth\": 3.3, \"PetalLength\": 4.7, \"PetalWidth\": 1.6, \"Species\": \"Iris-versicolor\"}, {\"SepalLength\": 4.9, \"SepalWidth\": 2.4, \"PetalLength\": 3.3, \"PetalWidth\": 1.0, \"Species\": \"Iris-versicolor\"}, {\"SepalLength\": 6.6, \"SepalWidth\": 2.9, \"PetalLength\": 4.6, \"PetalWidth\": 1.3, \"Species\": \"Iris-versicolor\"}, {\"SepalLength\": 5.2, \"SepalWidth\": 2.7, \"PetalLength\": 3.9, \"PetalWidth\": 1.4, \"Species\": \"Iris-versicolor\"}, {\"SepalLength\": 5.0, \"SepalWidth\": 2.0, \"PetalLength\": 3.5, \"PetalWidth\": 1.0, \"Species\": \"Iris-versicolor\"}, {\"SepalLength\": 5.9, \"SepalWidth\": 3.0, \"PetalLength\": 4.2, \"PetalWidth\": 1.5, \"Species\": \"Iris-versicolor\"}, {\"SepalLength\": 6.0, \"SepalWidth\": 2.2, \"PetalLength\": 4.0, \"PetalWidth\": 1.0, \"Species\": \"Iris-versicolor\"}, {\"SepalLength\": 6.1, \"SepalWidth\": 2.9, \"PetalLength\": 4.7, \"PetalWidth\": 1.4, \"Species\": \"Iris-versicolor\"}, {\"SepalLength\": 5.6, \"SepalWidth\": 2.9, \"PetalLength\": 3.6, \"PetalWidth\": 1.3, \"Species\": \"Iris-versicolor\"}, {\"SepalLength\": 6.7, \"SepalWidth\": 3.1, \"PetalLength\": 4.4, \"PetalWidth\": 1.4, \"Species\": \"Iris-versicolor\"}, {\"SepalLength\": 5.6, \"SepalWidth\": 3.0, \"PetalLength\": 4.5, \"PetalWidth\": 1.5, \"Species\": \"Iris-versicolor\"}, {\"SepalLength\": 5.8, \"SepalWidth\": 2.7, \"PetalLength\": 4.1, \"PetalWidth\": 1.0, \"Species\": \"Iris-versicolor\"}, {\"SepalLength\": 6.2, \"SepalWidth\": 2.2, \"PetalLength\": 4.5, \"PetalWidth\": 1.5, \"Species\": \"Iris-versicolor\"}, {\"SepalLength\": 5.6, \"SepalWidth\": 2.5, \"PetalLength\": 3.9, \"PetalWidth\": 1.1, \"Species\": \"Iris-versicolor\"}, {\"SepalLength\": 5.9, \"SepalWidth\": 3.2, \"PetalLength\": 4.8, \"PetalWidth\": 1.8, \"Species\": \"Iris-versicolor\"}, {\"SepalLength\": 6.1, \"SepalWidth\": 2.8, \"PetalLength\": 4.0, \"PetalWidth\": 1.3, \"Species\": \"Iris-versicolor\"}, {\"SepalLength\": 6.3, \"SepalWidth\": 2.5, \"PetalLength\": 4.9, \"PetalWidth\": 1.5, \"Species\": \"Iris-versicolor\"}, {\"SepalLength\": 6.1, \"SepalWidth\": 2.8, \"PetalLength\": 4.7, \"PetalWidth\": 1.2, \"Species\": \"Iris-versicolor\"}, {\"SepalLength\": 6.4, \"SepalWidth\": 2.9, \"PetalLength\": 4.3, \"PetalWidth\": 1.3, \"Species\": \"Iris-versicolor\"}, {\"SepalLength\": 6.6, \"SepalWidth\": 3.0, \"PetalLength\": 4.4, \"PetalWidth\": 1.4, \"Species\": \"Iris-versicolor\"}, {\"SepalLength\": 6.8, \"SepalWidth\": 2.8, \"PetalLength\": 4.8, \"PetalWidth\": 1.4, \"Species\": \"Iris-versicolor\"}, {\"SepalLength\": 6.7, \"SepalWidth\": 3.0, \"PetalLength\": 5.0, \"PetalWidth\": 1.7, \"Species\": \"Iris-versicolor\"}, {\"SepalLength\": 6.0, \"SepalWidth\": 2.9, \"PetalLength\": 4.5, \"PetalWidth\": 1.5, \"Species\": \"Iris-versicolor\"}, {\"SepalLength\": 5.7, \"SepalWidth\": 2.6, \"PetalLength\": 3.5, \"PetalWidth\": 1.0, \"Species\": \"Iris-versicolor\"}, {\"SepalLength\": 5.5, \"SepalWidth\": 2.4, \"PetalLength\": 3.8, \"PetalWidth\": 1.1, \"Species\": \"Iris-versicolor\"}, {\"SepalLength\": 5.5, \"SepalWidth\": 2.4, \"PetalLength\": 3.7, \"PetalWidth\": 1.0, \"Species\": \"Iris-versicolor\"}, {\"SepalLength\": 5.8, \"SepalWidth\": 2.7, \"PetalLength\": 3.9, \"PetalWidth\": 1.2, \"Species\": \"Iris-versicolor\"}, {\"SepalLength\": 6.0, \"SepalWidth\": 2.7, \"PetalLength\": 5.1, \"PetalWidth\": 1.6, \"Species\": \"Iris-versicolor\"}, {\"SepalLength\": 5.4, \"SepalWidth\": 3.0, \"PetalLength\": 4.5, \"PetalWidth\": 1.5, \"Species\": \"Iris-versicolor\"}, {\"SepalLength\": 6.0, \"SepalWidth\": 3.4, \"PetalLength\": 4.5, \"PetalWidth\": 1.6, \"Species\": \"Iris-versicolor\"}, {\"SepalLength\": 6.7, \"SepalWidth\": 3.1, \"PetalLength\": 4.7, \"PetalWidth\": 1.5, \"Species\": \"Iris-versicolor\"}, {\"SepalLength\": 6.3, \"SepalWidth\": 2.3, \"PetalLength\": 4.4, \"PetalWidth\": 1.3, \"Species\": \"Iris-versicolor\"}, {\"SepalLength\": 5.6, \"SepalWidth\": 3.0, \"PetalLength\": 4.1, \"PetalWidth\": 1.3, \"Species\": \"Iris-versicolor\"}, {\"SepalLength\": 5.5, \"SepalWidth\": 2.5, \"PetalLength\": 4.0, \"PetalWidth\": 1.3, \"Species\": \"Iris-versicolor\"}, {\"SepalLength\": 5.5, \"SepalWidth\": 2.6, \"PetalLength\": 4.4, \"PetalWidth\": 1.2, \"Species\": \"Iris-versicolor\"}, {\"SepalLength\": 6.1, \"SepalWidth\": 3.0, \"PetalLength\": 4.6, \"PetalWidth\": 1.4, \"Species\": \"Iris-versicolor\"}, {\"SepalLength\": 5.8, \"SepalWidth\": 2.6, \"PetalLength\": 4.0, \"PetalWidth\": 1.2, \"Species\": \"Iris-versicolor\"}, {\"SepalLength\": 5.0, \"SepalWidth\": 2.3, \"PetalLength\": 3.3, \"PetalWidth\": 1.0, \"Species\": \"Iris-versicolor\"}, {\"SepalLength\": 5.6, \"SepalWidth\": 2.7, \"PetalLength\": 4.2, \"PetalWidth\": 1.3, \"Species\": \"Iris-versicolor\"}, {\"SepalLength\": 5.7, \"SepalWidth\": 3.0, \"PetalLength\": 4.2, \"PetalWidth\": 1.2, \"Species\": \"Iris-versicolor\"}, {\"SepalLength\": 5.7, \"SepalWidth\": 2.9, \"PetalLength\": 4.2, \"PetalWidth\": 1.3, \"Species\": \"Iris-versicolor\"}, {\"SepalLength\": 6.2, \"SepalWidth\": 2.9, \"PetalLength\": 4.3, \"PetalWidth\": 1.3, \"Species\": \"Iris-versicolor\"}, {\"SepalLength\": 5.1, \"SepalWidth\": 2.5, \"PetalLength\": 3.0, \"PetalWidth\": 1.1, \"Species\": \"Iris-versicolor\"}, {\"SepalLength\": 5.7, \"SepalWidth\": 2.8, \"PetalLength\": 4.1, \"PetalWidth\": 1.3, \"Species\": \"Iris-versicolor\"}, {\"SepalLength\": 6.3, \"SepalWidth\": 3.3, \"PetalLength\": 6.0, \"PetalWidth\": 2.5, \"Species\": \"Iris-virginica\"}, {\"SepalLength\": 5.8, \"SepalWidth\": 2.7, \"PetalLength\": 5.1, \"PetalWidth\": 1.9, \"Species\": \"Iris-virginica\"}, {\"SepalLength\": 7.1, \"SepalWidth\": 3.0, \"PetalLength\": 5.9, \"PetalWidth\": 2.1, \"Species\": \"Iris-virginica\"}, {\"SepalLength\": 6.3, \"SepalWidth\": 2.9, \"PetalLength\": 5.6, \"PetalWidth\": 1.8, \"Species\": \"Iris-virginica\"}, {\"SepalLength\": 6.5, \"SepalWidth\": 3.0, \"PetalLength\": 5.8, \"PetalWidth\": 2.2, \"Species\": \"Iris-virginica\"}, {\"SepalLength\": 7.6, \"SepalWidth\": 3.0, \"PetalLength\": 6.6, \"PetalWidth\": 2.1, \"Species\": \"Iris-virginica\"}, {\"SepalLength\": 4.9, \"SepalWidth\": 2.5, \"PetalLength\": 4.5, \"PetalWidth\": 1.7, \"Species\": \"Iris-virginica\"}, {\"SepalLength\": 7.3, \"SepalWidth\": 2.9, \"PetalLength\": 6.3, \"PetalWidth\": 1.8, \"Species\": \"Iris-virginica\"}, {\"SepalLength\": 6.7, \"SepalWidth\": 2.5, \"PetalLength\": 5.8, \"PetalWidth\": 1.8, \"Species\": \"Iris-virginica\"}, {\"SepalLength\": 7.2, \"SepalWidth\": 3.6, \"PetalLength\": 6.1, \"PetalWidth\": 2.5, \"Species\": \"Iris-virginica\"}, {\"SepalLength\": 6.5, \"SepalWidth\": 3.2, \"PetalLength\": 5.1, \"PetalWidth\": 2.0, \"Species\": \"Iris-virginica\"}, {\"SepalLength\": 6.4, \"SepalWidth\": 2.7, \"PetalLength\": 5.3, \"PetalWidth\": 1.9, \"Species\": \"Iris-virginica\"}, {\"SepalLength\": 6.8, \"SepalWidth\": 3.0, \"PetalLength\": 5.5, \"PetalWidth\": 2.1, \"Species\": \"Iris-virginica\"}, {\"SepalLength\": 5.7, \"SepalWidth\": 2.5, \"PetalLength\": 5.0, \"PetalWidth\": 2.0, \"Species\": \"Iris-virginica\"}, {\"SepalLength\": 5.8, \"SepalWidth\": 2.8, \"PetalLength\": 5.1, \"PetalWidth\": 2.4, \"Species\": \"Iris-virginica\"}, {\"SepalLength\": 6.4, \"SepalWidth\": 3.2, \"PetalLength\": 5.3, \"PetalWidth\": 2.3, \"Species\": \"Iris-virginica\"}, {\"SepalLength\": 6.5, \"SepalWidth\": 3.0, \"PetalLength\": 5.5, \"PetalWidth\": 1.8, \"Species\": \"Iris-virginica\"}, {\"SepalLength\": 7.7, \"SepalWidth\": 3.8, \"PetalLength\": 6.7, \"PetalWidth\": 2.2, \"Species\": \"Iris-virginica\"}, {\"SepalLength\": 7.7, \"SepalWidth\": 2.6, \"PetalLength\": 6.9, \"PetalWidth\": 2.3, \"Species\": \"Iris-virginica\"}, {\"SepalLength\": 6.0, \"SepalWidth\": 2.2, \"PetalLength\": 5.0, \"PetalWidth\": 1.5, \"Species\": \"Iris-virginica\"}, {\"SepalLength\": 6.9, \"SepalWidth\": 3.2, \"PetalLength\": 5.7, \"PetalWidth\": 2.3, \"Species\": \"Iris-virginica\"}, {\"SepalLength\": 5.6, \"SepalWidth\": 2.8, \"PetalLength\": 4.9, \"PetalWidth\": 2.0, \"Species\": \"Iris-virginica\"}, {\"SepalLength\": 7.7, \"SepalWidth\": 2.8, \"PetalLength\": 6.7, \"PetalWidth\": 2.0, \"Species\": \"Iris-virginica\"}, {\"SepalLength\": 6.3, \"SepalWidth\": 2.7, \"PetalLength\": 4.9, \"PetalWidth\": 1.8, \"Species\": \"Iris-virginica\"}, {\"SepalLength\": 6.7, \"SepalWidth\": 3.3, \"PetalLength\": 5.7, \"PetalWidth\": 2.1, \"Species\": \"Iris-virginica\"}, {\"SepalLength\": 7.2, \"SepalWidth\": 3.2, \"PetalLength\": 6.0, \"PetalWidth\": 1.8, \"Species\": \"Iris-virginica\"}, {\"SepalLength\": 6.2, \"SepalWidth\": 2.8, \"PetalLength\": 4.8, \"PetalWidth\": 1.8, \"Species\": \"Iris-virginica\"}, {\"SepalLength\": 6.1, \"SepalWidth\": 3.0, \"PetalLength\": 4.9, \"PetalWidth\": 1.8, \"Species\": \"Iris-virginica\"}, {\"SepalLength\": 6.4, \"SepalWidth\": 2.8, \"PetalLength\": 5.6, \"PetalWidth\": 2.1, \"Species\": \"Iris-virginica\"}, {\"SepalLength\": 7.2, \"SepalWidth\": 3.0, \"PetalLength\": 5.8, \"PetalWidth\": 1.6, \"Species\": \"Iris-virginica\"}, {\"SepalLength\": 7.4, \"SepalWidth\": 2.8, \"PetalLength\": 6.1, \"PetalWidth\": 1.9, \"Species\": \"Iris-virginica\"}, {\"SepalLength\": 7.9, \"SepalWidth\": 3.8, \"PetalLength\": 6.4, \"PetalWidth\": 2.0, \"Species\": \"Iris-virginica\"}, {\"SepalLength\": 6.4, \"SepalWidth\": 2.8, \"PetalLength\": 5.6, \"PetalWidth\": 2.2, \"Species\": \"Iris-virginica\"}, {\"SepalLength\": 6.3, \"SepalWidth\": 2.8, \"PetalLength\": 5.1, \"PetalWidth\": 1.5, \"Species\": \"Iris-virginica\"}, {\"SepalLength\": 6.1, \"SepalWidth\": 2.6, \"PetalLength\": 5.6, \"PetalWidth\": 1.4, \"Species\": \"Iris-virginica\"}, {\"SepalLength\": 7.7, \"SepalWidth\": 3.0, \"PetalLength\": 6.1, \"PetalWidth\": 2.3, \"Species\": \"Iris-virginica\"}, {\"SepalLength\": 6.3, \"SepalWidth\": 3.4, \"PetalLength\": 5.6, \"PetalWidth\": 2.4, \"Species\": \"Iris-virginica\"}, {\"SepalLength\": 6.4, \"SepalWidth\": 3.1, \"PetalLength\": 5.5, \"PetalWidth\": 1.8, \"Species\": \"Iris-virginica\"}, {\"SepalLength\": 6.0, \"SepalWidth\": 3.0, \"PetalLength\": 4.8, \"PetalWidth\": 1.8, \"Species\": \"Iris-virginica\"}, {\"SepalLength\": 6.9, \"SepalWidth\": 3.1, \"PetalLength\": 5.4, \"PetalWidth\": 2.1, \"Species\": \"Iris-virginica\"}, {\"SepalLength\": 6.7, \"SepalWidth\": 3.1, \"PetalLength\": 5.6, \"PetalWidth\": 2.4, \"Species\": \"Iris-virginica\"}, {\"SepalLength\": 6.9, \"SepalWidth\": 3.1, \"PetalLength\": 5.1, \"PetalWidth\": 2.3, \"Species\": \"Iris-virginica\"}, {\"SepalLength\": 5.8, \"SepalWidth\": 2.7, \"PetalLength\": 5.1, \"PetalWidth\": 1.9, \"Species\": \"Iris-virginica\"}, {\"SepalLength\": 6.8, \"SepalWidth\": 3.2, \"PetalLength\": 5.9, \"PetalWidth\": 2.3, \"Species\": \"Iris-virginica\"}, {\"SepalLength\": 6.7, \"SepalWidth\": 3.3, \"PetalLength\": 5.7, \"PetalWidth\": 2.5, \"Species\": \"Iris-virginica\"}, {\"SepalLength\": 6.7, \"SepalWidth\": 3.0, \"PetalLength\": 5.2, \"PetalWidth\": 2.3, \"Species\": \"Iris-virginica\"}, {\"SepalLength\": 6.3, \"SepalWidth\": 2.5, \"PetalLength\": 5.0, \"PetalWidth\": 1.9, \"Species\": \"Iris-virginica\"}, {\"SepalLength\": 6.5, \"SepalWidth\": 3.0, \"PetalLength\": 5.2, \"PetalWidth\": 2.0, \"Species\": \"Iris-virginica\"}, {\"SepalLength\": 6.2, \"SepalWidth\": 3.4, \"PetalLength\": 5.4, \"PetalWidth\": 2.3, \"Species\": \"Iris-virginica\"}, {\"SepalLength\": 5.9, \"SepalWidth\": 3.0, \"PetalLength\": 5.1, \"PetalWidth\": 1.8, \"Species\": \"Iris-virginica\"}]}}, {\"mode\": \"vega-lite\"});\n",
       "</script>"
      ],
      "text/plain": [
       "alt.Chart(...)"
      ]
     },
     "execution_count": 3,
     "metadata": {},
     "output_type": "execute_result"
    }
   ],
   "source": [
    "alt.Chart(iris).mark_point(filled=True,size=50).encode(\n",
    "    alt.X('SepalLength:Q', scale=alt.Scale(domain= [4,8]), axis=alt.Axis(title='Sepal Length')),\n",
    "    alt.Y('SepalWidth:Q', scale=alt.Scale(domain= [1.5,5]), axis=alt.Axis(title='Sepal Width')),\n",
    "    color='Species:N',\n",
    "    tooltip=['Species', 'SepalLength', 'SepalWidth']\n",
    ").interactive()"
   ]
  },
  {
   "source": [
    "# Design Decision 2: 回归与不回归"
   ],
   "cell_type": "markdown",
   "metadata": {}
  },
  {
   "source": [
    "对某一特征进行拟合（如对花萼），运用拟合线观察花萼长度与宽度之间的线性关系"
   ],
   "cell_type": "markdown",
   "metadata": {}
  },
  {
   "cell_type": "code",
   "execution_count": 1,
   "metadata": {},
   "outputs": [
    {
     "output_type": "error",
     "ename": "NameError",
     "evalue": "name 'alt' is not defined",
     "traceback": [
      "\u001b[1;31m---------------------------------------------------------------------------\u001b[0m",
      "\u001b[1;31mNameError\u001b[0m                                 Traceback (most recent call last)",
      "\u001b[1;32m<ipython-input-1-c1d099be7965>\u001b[0m in \u001b[0;36m<module>\u001b[1;34m\u001b[0m\n\u001b[1;32m----> 1\u001b[1;33m chart = alt.Chart(iris).mark_point().encode(\n\u001b[0m\u001b[0;32m      2\u001b[0m     \u001b[0mx\u001b[0m\u001b[1;33m=\u001b[0m\u001b[1;34m'SepalWidth'\u001b[0m\u001b[1;33m,\u001b[0m\u001b[1;33m\u001b[0m\u001b[1;33m\u001b[0m\u001b[0m\n\u001b[0;32m      3\u001b[0m     \u001b[0my\u001b[0m\u001b[1;33m=\u001b[0m\u001b[1;34m'SepalLength'\u001b[0m\u001b[1;33m\u001b[0m\u001b[1;33m\u001b[0m\u001b[0m\n\u001b[0;32m      4\u001b[0m \u001b[1;33m)\u001b[0m\u001b[1;33m.\u001b[0m\u001b[0mtransform_filter\u001b[0m\u001b[1;33m(\u001b[0m\u001b[1;33m\u001b[0m\u001b[1;33m\u001b[0m\u001b[0m\n\u001b[0;32m      5\u001b[0m     \u001b[0mdatum\u001b[0m\u001b[1;33m.\u001b[0m\u001b[0mSpecies\u001b[0m \u001b[1;33m==\u001b[0m \u001b[1;34m'Iris-setosa'\u001b[0m\u001b[1;33m\u001b[0m\u001b[1;33m\u001b[0m\u001b[0m\n",
      "\u001b[1;31mNameError\u001b[0m: name 'alt' is not defined"
     ]
    }
   ],
   "source": [
    "chart = alt.Chart(iris).mark_point().encode(\n",
    "    x='SepalWidth',\n",
    "    y='SepalLength'\n",
    ").transform_filter(\n",
    "    datum.Species == 'Iris-setosa'\n",
    ")\n",
    "\n",
    "chart + chart.transform_regression('SepalWidth', 'SepalLength').mark_line()"
   ]
  },
  {
   "cell_type": "markdown",
   "metadata": {},
   "source": [
    "# Design Decision 3: 数据分布展示方法选择"
   ]
  },
  {
   "cell_type": "markdown",
   "metadata": {},
   "source": [
    "密度图 vs 数据分布图 展示分布情况。密度图无条目记录，但是更直观的展现了每个参数的中位数。"
   ]
  },
  {
   "cell_type": "code",
   "execution_count": null,
   "metadata": {},
   "outputs": [],
   "source": [
    "###数据分布图###\n",
    "line1 = alt.Chart(iris).mark_bar(interpolate='monotone').encode(\n",
    "    x='PetalLength:Q', \n",
    "    y='count(PetalLength):Q',\n",
    "    color='Species:N',\n",
    "    # facet=alt.Facet('Species:N', title=None)\n",
    ").properties(width=180, height=150)\n",
    "\n",
    "line2 = alt.Chart(iris).mark_line(interpolate='monotone').encode(\n",
    "    x='PetalWidth:Q',\n",
    "    y='count(PetalWidth):Q',\n",
    "    color='Species:N',\n",
    "    # facet=alt.Facet('Species:N', title=None)\n",
    ").properties(width=180, height=150)\n",
    "\n",
    "line3 = alt.Chart(iris).mark_area(interpolate='monotone').encode(\n",
    "    x='SepalLength:Q',\n",
    "    y='count(SepalLength):Q',\n",
    "    color='Species:N',\n",
    "    # facet=alt.Facet('Species:N', title=None)\n",
    ").properties(width=180, height=150)\n",
    "\n",
    "line4 = alt.Chart(iris).mark_area(interpolate='monotone').encode(\n",
    "    x='SepalWidth:Q',\n",
    "    y='count(SepalWidth):Q',\n",
    "    color='Species:N',\n",
    "    # facet=alt.Facet('Species:N', title=None)\n",
    ").properties(width=180, height=150)\n",
    "\n",
    "alt.hconcat(line1,line2,line3,line4)"
   ]
  },
  {
   "cell_type": "code",
   "execution_count": 4,
   "metadata": {},
   "outputs": [
    {
     "data": {
      "text/html": [
       "\n",
       "<div id=\"altair-viz-93ae41464a9446c4a8cc181eb2b92cba\"></div>\n",
       "<script type=\"text/javascript\">\n",
       "  (function(spec, embedOpt){\n",
       "    let outputDiv = document.currentScript.previousElementSibling;\n",
       "    if (outputDiv.id !== \"altair-viz-93ae41464a9446c4a8cc181eb2b92cba\") {\n",
       "      outputDiv = document.getElementById(\"altair-viz-93ae41464a9446c4a8cc181eb2b92cba\");\n",
       "    }\n",
       "    const paths = {\n",
       "      \"vega\": \"https://cdn.jsdelivr.net/npm//vega@5?noext\",\n",
       "      \"vega-lib\": \"https://cdn.jsdelivr.net/npm//vega-lib?noext\",\n",
       "      \"vega-lite\": \"https://cdn.jsdelivr.net/npm//vega-lite@4.8.1?noext\",\n",
       "      \"vega-embed\": \"https://cdn.jsdelivr.net/npm//vega-embed@6?noext\",\n",
       "    };\n",
       "\n",
       "    function loadScript(lib) {\n",
       "      return new Promise(function(resolve, reject) {\n",
       "        var s = document.createElement('script');\n",
       "        s.src = paths[lib];\n",
       "        s.async = true;\n",
       "        s.onload = () => resolve(paths[lib]);\n",
       "        s.onerror = () => reject(`Error loading script: ${paths[lib]}`);\n",
       "        document.getElementsByTagName(\"head\")[0].appendChild(s);\n",
       "      });\n",
       "    }\n",
       "\n",
       "    function showError(err) {\n",
       "      outputDiv.innerHTML = `<div class=\"error\" style=\"color:red;\">${err}</div>`;\n",
       "      throw err;\n",
       "    }\n",
       "\n",
       "    function displayChart(vegaEmbed) {\n",
       "      vegaEmbed(outputDiv, spec, embedOpt)\n",
       "        .catch(err => showError(`Javascript Error: ${err.message}<br>This usually means there's a typo in your chart specification. See the javascript console for the full traceback.`));\n",
       "    }\n",
       "\n",
       "    if(typeof define === \"function\" && define.amd) {\n",
       "      requirejs.config({paths});\n",
       "      require([\"vega-embed\"], displayChart, err => showError(`Error loading script: ${err.message}`));\n",
       "    } else if (typeof vegaEmbed === \"function\") {\n",
       "      displayChart(vegaEmbed);\n",
       "    } else {\n",
       "      loadScript(\"vega\")\n",
       "        .then(() => loadScript(\"vega-lite\"))\n",
       "        .then(() => loadScript(\"vega-embed\"))\n",
       "        .catch(showError)\n",
       "        .then(() => displayChart(vegaEmbed));\n",
       "    }\n",
       "  })({\"config\": {\"view\": {\"continuousWidth\": 400, \"continuousHeight\": 300, \"stroke\": null}, \"facet\": {\"spacing\": 0}}, \"data\": {\"name\": \"data-17573b73165b324fe49516a27bcc2ed5\"}, \"mark\": {\"type\": \"area\", \"orient\": \"horizontal\"}, \"encoding\": {\"color\": {\"type\": \"nominal\", \"field\": \"Species\"}, \"column\": {\"type\": \"nominal\", \"field\": \"Species\", \"header\": {\"labelOrient\": \"bottom\", \"labelPadding\": 0, \"titleOrient\": \"bottom\"}}, \"x\": {\"type\": \"quantitative\", \"axis\": {\"grid\": false, \"labels\": false, \"ticks\": true, \"values\": [0]}, \"field\": \"density\", \"impute\": null, \"stack\": \"center\", \"title\": null}, \"y\": {\"type\": \"quantitative\", \"field\": \"SepalLength\"}}, \"transform\": [{\"density\": \"SepalLength\", \"groupby\": [\"Species\"], \"as\": [\"SepalLength\", \"density\"]}], \"width\": 100, \"$schema\": \"https://vega.github.io/schema/vega-lite/v4.8.1.json\", \"datasets\": {\"data-17573b73165b324fe49516a27bcc2ed5\": [{\"SepalLength\": 5.1, \"SepalWidth\": 3.5, \"PetalLength\": 1.4, \"PetalWidth\": 0.2, \"Species\": \"Iris-setosa\"}, {\"SepalLength\": 4.9, \"SepalWidth\": 3.0, \"PetalLength\": 1.4, \"PetalWidth\": 0.2, \"Species\": \"Iris-setosa\"}, {\"SepalLength\": 4.7, \"SepalWidth\": 3.2, \"PetalLength\": 1.3, \"PetalWidth\": 0.2, \"Species\": \"Iris-setosa\"}, {\"SepalLength\": 4.6, \"SepalWidth\": 3.1, \"PetalLength\": 1.5, \"PetalWidth\": 0.2, \"Species\": \"Iris-setosa\"}, {\"SepalLength\": 5.0, \"SepalWidth\": 3.6, \"PetalLength\": 1.4, \"PetalWidth\": 0.2, \"Species\": \"Iris-setosa\"}, {\"SepalLength\": 5.4, \"SepalWidth\": 3.9, \"PetalLength\": 1.7, \"PetalWidth\": 0.4, \"Species\": \"Iris-setosa\"}, {\"SepalLength\": 4.6, \"SepalWidth\": 3.4, \"PetalLength\": 1.4, \"PetalWidth\": 0.3, \"Species\": \"Iris-setosa\"}, {\"SepalLength\": 5.0, \"SepalWidth\": 3.4, \"PetalLength\": 1.5, \"PetalWidth\": 0.2, \"Species\": \"Iris-setosa\"}, {\"SepalLength\": 4.4, \"SepalWidth\": 2.9, \"PetalLength\": 1.4, \"PetalWidth\": 0.2, \"Species\": \"Iris-setosa\"}, {\"SepalLength\": 4.9, \"SepalWidth\": 3.1, \"PetalLength\": 1.5, \"PetalWidth\": 0.1, \"Species\": \"Iris-setosa\"}, {\"SepalLength\": 5.4, \"SepalWidth\": 3.7, \"PetalLength\": 1.5, \"PetalWidth\": 0.2, \"Species\": \"Iris-setosa\"}, {\"SepalLength\": 4.8, \"SepalWidth\": 3.4, \"PetalLength\": 1.6, \"PetalWidth\": 0.2, \"Species\": \"Iris-setosa\"}, {\"SepalLength\": 4.8, \"SepalWidth\": 3.0, \"PetalLength\": 1.4, \"PetalWidth\": 0.1, \"Species\": \"Iris-setosa\"}, {\"SepalLength\": 4.3, \"SepalWidth\": 3.0, \"PetalLength\": 1.1, \"PetalWidth\": 0.1, \"Species\": \"Iris-setosa\"}, {\"SepalLength\": 5.8, \"SepalWidth\": 4.0, \"PetalLength\": 1.2, \"PetalWidth\": 0.2, \"Species\": \"Iris-setosa\"}, {\"SepalLength\": 5.7, \"SepalWidth\": 4.4, \"PetalLength\": 1.5, \"PetalWidth\": 0.4, \"Species\": \"Iris-setosa\"}, {\"SepalLength\": 5.4, \"SepalWidth\": 3.9, \"PetalLength\": 1.3, \"PetalWidth\": 0.4, \"Species\": \"Iris-setosa\"}, {\"SepalLength\": 5.1, \"SepalWidth\": 3.5, \"PetalLength\": 1.4, \"PetalWidth\": 0.3, \"Species\": \"Iris-setosa\"}, {\"SepalLength\": 5.7, \"SepalWidth\": 3.8, \"PetalLength\": 1.7, \"PetalWidth\": 0.3, \"Species\": \"Iris-setosa\"}, {\"SepalLength\": 5.1, \"SepalWidth\": 3.8, \"PetalLength\": 1.5, \"PetalWidth\": 0.3, \"Species\": \"Iris-setosa\"}, {\"SepalLength\": 5.4, \"SepalWidth\": 3.4, \"PetalLength\": 1.7, \"PetalWidth\": 0.2, \"Species\": \"Iris-setosa\"}, {\"SepalLength\": 5.1, \"SepalWidth\": 3.7, \"PetalLength\": 1.5, \"PetalWidth\": 0.4, \"Species\": \"Iris-setosa\"}, {\"SepalLength\": 4.6, \"SepalWidth\": 3.6, \"PetalLength\": 1.0, \"PetalWidth\": 0.2, \"Species\": \"Iris-setosa\"}, {\"SepalLength\": 5.1, \"SepalWidth\": 3.3, \"PetalLength\": 1.7, \"PetalWidth\": 0.5, \"Species\": \"Iris-setosa\"}, {\"SepalLength\": 4.8, \"SepalWidth\": 3.4, \"PetalLength\": 1.9, \"PetalWidth\": 0.2, \"Species\": \"Iris-setosa\"}, {\"SepalLength\": 5.0, \"SepalWidth\": 3.0, \"PetalLength\": 1.6, \"PetalWidth\": 0.2, \"Species\": \"Iris-setosa\"}, {\"SepalLength\": 5.0, \"SepalWidth\": 3.4, \"PetalLength\": 1.6, \"PetalWidth\": 0.4, \"Species\": \"Iris-setosa\"}, {\"SepalLength\": 5.2, \"SepalWidth\": 3.5, \"PetalLength\": 1.5, \"PetalWidth\": 0.2, \"Species\": \"Iris-setosa\"}, {\"SepalLength\": 5.2, \"SepalWidth\": 3.4, \"PetalLength\": 1.4, \"PetalWidth\": 0.2, \"Species\": \"Iris-setosa\"}, {\"SepalLength\": 4.7, \"SepalWidth\": 3.2, \"PetalLength\": 1.6, \"PetalWidth\": 0.2, \"Species\": \"Iris-setosa\"}, {\"SepalLength\": 4.8, \"SepalWidth\": 3.1, \"PetalLength\": 1.6, \"PetalWidth\": 0.2, \"Species\": \"Iris-setosa\"}, {\"SepalLength\": 5.4, \"SepalWidth\": 3.4, \"PetalLength\": 1.5, \"PetalWidth\": 0.4, \"Species\": \"Iris-setosa\"}, {\"SepalLength\": 5.2, \"SepalWidth\": 4.1, \"PetalLength\": 1.5, \"PetalWidth\": 0.1, \"Species\": \"Iris-setosa\"}, {\"SepalLength\": 5.5, \"SepalWidth\": 4.2, \"PetalLength\": 1.4, \"PetalWidth\": 0.2, \"Species\": \"Iris-setosa\"}, {\"SepalLength\": 4.9, \"SepalWidth\": 3.1, \"PetalLength\": 1.5, \"PetalWidth\": 0.2, \"Species\": \"Iris-setosa\"}, {\"SepalLength\": 5.0, \"SepalWidth\": 3.2, \"PetalLength\": 1.2, \"PetalWidth\": 0.2, \"Species\": \"Iris-setosa\"}, {\"SepalLength\": 5.5, \"SepalWidth\": 3.5, \"PetalLength\": 1.3, \"PetalWidth\": 0.2, \"Species\": \"Iris-setosa\"}, {\"SepalLength\": 4.9, \"SepalWidth\": 3.6, \"PetalLength\": 1.4, \"PetalWidth\": 0.1, \"Species\": \"Iris-setosa\"}, {\"SepalLength\": 4.4, \"SepalWidth\": 3.0, \"PetalLength\": 1.3, \"PetalWidth\": 0.2, \"Species\": \"Iris-setosa\"}, {\"SepalLength\": 5.1, \"SepalWidth\": 3.4, \"PetalLength\": 1.5, \"PetalWidth\": 0.2, \"Species\": \"Iris-setosa\"}, {\"SepalLength\": 5.0, \"SepalWidth\": 3.5, \"PetalLength\": 1.3, \"PetalWidth\": 0.3, \"Species\": \"Iris-setosa\"}, {\"SepalLength\": 4.5, \"SepalWidth\": 2.3, \"PetalLength\": 1.3, \"PetalWidth\": 0.3, \"Species\": \"Iris-setosa\"}, {\"SepalLength\": 4.4, \"SepalWidth\": 3.2, \"PetalLength\": 1.3, \"PetalWidth\": 0.2, \"Species\": \"Iris-setosa\"}, {\"SepalLength\": 5.0, \"SepalWidth\": 3.5, \"PetalLength\": 1.6, \"PetalWidth\": 0.6, \"Species\": \"Iris-setosa\"}, {\"SepalLength\": 5.1, \"SepalWidth\": 3.8, \"PetalLength\": 1.9, \"PetalWidth\": 0.4, \"Species\": \"Iris-setosa\"}, {\"SepalLength\": 4.8, \"SepalWidth\": 3.0, \"PetalLength\": 1.4, \"PetalWidth\": 0.3, \"Species\": \"Iris-setosa\"}, {\"SepalLength\": 5.1, \"SepalWidth\": 3.8, \"PetalLength\": 1.6, \"PetalWidth\": 0.2, \"Species\": \"Iris-setosa\"}, {\"SepalLength\": 4.6, \"SepalWidth\": 3.2, \"PetalLength\": 1.4, \"PetalWidth\": 0.2, \"Species\": \"Iris-setosa\"}, {\"SepalLength\": 5.3, \"SepalWidth\": 3.7, \"PetalLength\": 1.5, \"PetalWidth\": 0.2, \"Species\": \"Iris-setosa\"}, {\"SepalLength\": 5.0, \"SepalWidth\": 3.3, \"PetalLength\": 1.4, \"PetalWidth\": 0.2, \"Species\": \"Iris-setosa\"}, {\"SepalLength\": 7.0, \"SepalWidth\": 3.2, \"PetalLength\": 4.7, \"PetalWidth\": 1.4, \"Species\": \"Iris-versicolor\"}, {\"SepalLength\": 6.4, \"SepalWidth\": 3.2, \"PetalLength\": 4.5, \"PetalWidth\": 1.5, \"Species\": \"Iris-versicolor\"}, {\"SepalLength\": 6.9, \"SepalWidth\": 3.1, \"PetalLength\": 4.9, \"PetalWidth\": 1.5, \"Species\": \"Iris-versicolor\"}, {\"SepalLength\": 5.5, \"SepalWidth\": 2.3, \"PetalLength\": 4.0, \"PetalWidth\": 1.3, \"Species\": \"Iris-versicolor\"}, {\"SepalLength\": 6.5, \"SepalWidth\": 2.8, \"PetalLength\": 4.6, \"PetalWidth\": 1.5, \"Species\": \"Iris-versicolor\"}, {\"SepalLength\": 5.7, \"SepalWidth\": 2.8, \"PetalLength\": 4.5, \"PetalWidth\": 1.3, \"Species\": \"Iris-versicolor\"}, {\"SepalLength\": 6.3, \"SepalWidth\": 3.3, \"PetalLength\": 4.7, \"PetalWidth\": 1.6, \"Species\": \"Iris-versicolor\"}, {\"SepalLength\": 4.9, \"SepalWidth\": 2.4, \"PetalLength\": 3.3, \"PetalWidth\": 1.0, \"Species\": \"Iris-versicolor\"}, {\"SepalLength\": 6.6, \"SepalWidth\": 2.9, \"PetalLength\": 4.6, \"PetalWidth\": 1.3, \"Species\": \"Iris-versicolor\"}, {\"SepalLength\": 5.2, \"SepalWidth\": 2.7, \"PetalLength\": 3.9, \"PetalWidth\": 1.4, \"Species\": \"Iris-versicolor\"}, {\"SepalLength\": 5.0, \"SepalWidth\": 2.0, \"PetalLength\": 3.5, \"PetalWidth\": 1.0, \"Species\": \"Iris-versicolor\"}, {\"SepalLength\": 5.9, \"SepalWidth\": 3.0, \"PetalLength\": 4.2, \"PetalWidth\": 1.5, \"Species\": \"Iris-versicolor\"}, {\"SepalLength\": 6.0, \"SepalWidth\": 2.2, \"PetalLength\": 4.0, \"PetalWidth\": 1.0, \"Species\": \"Iris-versicolor\"}, {\"SepalLength\": 6.1, \"SepalWidth\": 2.9, \"PetalLength\": 4.7, \"PetalWidth\": 1.4, \"Species\": \"Iris-versicolor\"}, {\"SepalLength\": 5.6, \"SepalWidth\": 2.9, \"PetalLength\": 3.6, \"PetalWidth\": 1.3, \"Species\": \"Iris-versicolor\"}, {\"SepalLength\": 6.7, \"SepalWidth\": 3.1, \"PetalLength\": 4.4, \"PetalWidth\": 1.4, \"Species\": \"Iris-versicolor\"}, {\"SepalLength\": 5.6, \"SepalWidth\": 3.0, \"PetalLength\": 4.5, \"PetalWidth\": 1.5, \"Species\": \"Iris-versicolor\"}, {\"SepalLength\": 5.8, \"SepalWidth\": 2.7, \"PetalLength\": 4.1, \"PetalWidth\": 1.0, \"Species\": \"Iris-versicolor\"}, {\"SepalLength\": 6.2, \"SepalWidth\": 2.2, \"PetalLength\": 4.5, \"PetalWidth\": 1.5, \"Species\": \"Iris-versicolor\"}, {\"SepalLength\": 5.6, \"SepalWidth\": 2.5, \"PetalLength\": 3.9, \"PetalWidth\": 1.1, \"Species\": \"Iris-versicolor\"}, {\"SepalLength\": 5.9, \"SepalWidth\": 3.2, \"PetalLength\": 4.8, \"PetalWidth\": 1.8, \"Species\": \"Iris-versicolor\"}, {\"SepalLength\": 6.1, \"SepalWidth\": 2.8, \"PetalLength\": 4.0, \"PetalWidth\": 1.3, \"Species\": \"Iris-versicolor\"}, {\"SepalLength\": 6.3, \"SepalWidth\": 2.5, \"PetalLength\": 4.9, \"PetalWidth\": 1.5, \"Species\": \"Iris-versicolor\"}, {\"SepalLength\": 6.1, \"SepalWidth\": 2.8, \"PetalLength\": 4.7, \"PetalWidth\": 1.2, \"Species\": \"Iris-versicolor\"}, {\"SepalLength\": 6.4, \"SepalWidth\": 2.9, \"PetalLength\": 4.3, \"PetalWidth\": 1.3, \"Species\": \"Iris-versicolor\"}, {\"SepalLength\": 6.6, \"SepalWidth\": 3.0, \"PetalLength\": 4.4, \"PetalWidth\": 1.4, \"Species\": \"Iris-versicolor\"}, {\"SepalLength\": 6.8, \"SepalWidth\": 2.8, \"PetalLength\": 4.8, \"PetalWidth\": 1.4, \"Species\": \"Iris-versicolor\"}, {\"SepalLength\": 6.7, \"SepalWidth\": 3.0, \"PetalLength\": 5.0, \"PetalWidth\": 1.7, \"Species\": \"Iris-versicolor\"}, {\"SepalLength\": 6.0, \"SepalWidth\": 2.9, \"PetalLength\": 4.5, \"PetalWidth\": 1.5, \"Species\": \"Iris-versicolor\"}, {\"SepalLength\": 5.7, \"SepalWidth\": 2.6, \"PetalLength\": 3.5, \"PetalWidth\": 1.0, \"Species\": \"Iris-versicolor\"}, {\"SepalLength\": 5.5, \"SepalWidth\": 2.4, \"PetalLength\": 3.8, \"PetalWidth\": 1.1, \"Species\": \"Iris-versicolor\"}, {\"SepalLength\": 5.5, \"SepalWidth\": 2.4, \"PetalLength\": 3.7, \"PetalWidth\": 1.0, \"Species\": \"Iris-versicolor\"}, {\"SepalLength\": 5.8, \"SepalWidth\": 2.7, \"PetalLength\": 3.9, \"PetalWidth\": 1.2, \"Species\": \"Iris-versicolor\"}, {\"SepalLength\": 6.0, \"SepalWidth\": 2.7, \"PetalLength\": 5.1, \"PetalWidth\": 1.6, \"Species\": \"Iris-versicolor\"}, {\"SepalLength\": 5.4, \"SepalWidth\": 3.0, \"PetalLength\": 4.5, \"PetalWidth\": 1.5, \"Species\": \"Iris-versicolor\"}, {\"SepalLength\": 6.0, \"SepalWidth\": 3.4, \"PetalLength\": 4.5, \"PetalWidth\": 1.6, \"Species\": \"Iris-versicolor\"}, {\"SepalLength\": 6.7, \"SepalWidth\": 3.1, \"PetalLength\": 4.7, \"PetalWidth\": 1.5, \"Species\": \"Iris-versicolor\"}, {\"SepalLength\": 6.3, \"SepalWidth\": 2.3, \"PetalLength\": 4.4, \"PetalWidth\": 1.3, \"Species\": \"Iris-versicolor\"}, {\"SepalLength\": 5.6, \"SepalWidth\": 3.0, \"PetalLength\": 4.1, \"PetalWidth\": 1.3, \"Species\": \"Iris-versicolor\"}, {\"SepalLength\": 5.5, \"SepalWidth\": 2.5, \"PetalLength\": 4.0, \"PetalWidth\": 1.3, \"Species\": \"Iris-versicolor\"}, {\"SepalLength\": 5.5, \"SepalWidth\": 2.6, \"PetalLength\": 4.4, \"PetalWidth\": 1.2, \"Species\": \"Iris-versicolor\"}, {\"SepalLength\": 6.1, \"SepalWidth\": 3.0, \"PetalLength\": 4.6, \"PetalWidth\": 1.4, \"Species\": \"Iris-versicolor\"}, {\"SepalLength\": 5.8, \"SepalWidth\": 2.6, \"PetalLength\": 4.0, \"PetalWidth\": 1.2, \"Species\": \"Iris-versicolor\"}, {\"SepalLength\": 5.0, \"SepalWidth\": 2.3, \"PetalLength\": 3.3, \"PetalWidth\": 1.0, \"Species\": \"Iris-versicolor\"}, {\"SepalLength\": 5.6, \"SepalWidth\": 2.7, \"PetalLength\": 4.2, \"PetalWidth\": 1.3, \"Species\": \"Iris-versicolor\"}, {\"SepalLength\": 5.7, \"SepalWidth\": 3.0, \"PetalLength\": 4.2, \"PetalWidth\": 1.2, \"Species\": \"Iris-versicolor\"}, {\"SepalLength\": 5.7, \"SepalWidth\": 2.9, \"PetalLength\": 4.2, \"PetalWidth\": 1.3, \"Species\": \"Iris-versicolor\"}, {\"SepalLength\": 6.2, \"SepalWidth\": 2.9, \"PetalLength\": 4.3, \"PetalWidth\": 1.3, \"Species\": \"Iris-versicolor\"}, {\"SepalLength\": 5.1, \"SepalWidth\": 2.5, \"PetalLength\": 3.0, \"PetalWidth\": 1.1, \"Species\": \"Iris-versicolor\"}, {\"SepalLength\": 5.7, \"SepalWidth\": 2.8, \"PetalLength\": 4.1, \"PetalWidth\": 1.3, \"Species\": \"Iris-versicolor\"}, {\"SepalLength\": 6.3, \"SepalWidth\": 3.3, \"PetalLength\": 6.0, \"PetalWidth\": 2.5, \"Species\": \"Iris-virginica\"}, {\"SepalLength\": 5.8, \"SepalWidth\": 2.7, \"PetalLength\": 5.1, \"PetalWidth\": 1.9, \"Species\": \"Iris-virginica\"}, {\"SepalLength\": 7.1, \"SepalWidth\": 3.0, \"PetalLength\": 5.9, \"PetalWidth\": 2.1, \"Species\": \"Iris-virginica\"}, {\"SepalLength\": 6.3, \"SepalWidth\": 2.9, \"PetalLength\": 5.6, \"PetalWidth\": 1.8, \"Species\": \"Iris-virginica\"}, {\"SepalLength\": 6.5, \"SepalWidth\": 3.0, \"PetalLength\": 5.8, \"PetalWidth\": 2.2, \"Species\": \"Iris-virginica\"}, {\"SepalLength\": 7.6, \"SepalWidth\": 3.0, \"PetalLength\": 6.6, \"PetalWidth\": 2.1, \"Species\": \"Iris-virginica\"}, {\"SepalLength\": 4.9, \"SepalWidth\": 2.5, \"PetalLength\": 4.5, \"PetalWidth\": 1.7, \"Species\": \"Iris-virginica\"}, {\"SepalLength\": 7.3, \"SepalWidth\": 2.9, \"PetalLength\": 6.3, \"PetalWidth\": 1.8, \"Species\": \"Iris-virginica\"}, {\"SepalLength\": 6.7, \"SepalWidth\": 2.5, \"PetalLength\": 5.8, \"PetalWidth\": 1.8, \"Species\": \"Iris-virginica\"}, {\"SepalLength\": 7.2, \"SepalWidth\": 3.6, \"PetalLength\": 6.1, \"PetalWidth\": 2.5, \"Species\": \"Iris-virginica\"}, {\"SepalLength\": 6.5, \"SepalWidth\": 3.2, \"PetalLength\": 5.1, \"PetalWidth\": 2.0, \"Species\": \"Iris-virginica\"}, {\"SepalLength\": 6.4, \"SepalWidth\": 2.7, \"PetalLength\": 5.3, \"PetalWidth\": 1.9, \"Species\": \"Iris-virginica\"}, {\"SepalLength\": 6.8, \"SepalWidth\": 3.0, \"PetalLength\": 5.5, \"PetalWidth\": 2.1, \"Species\": \"Iris-virginica\"}, {\"SepalLength\": 5.7, \"SepalWidth\": 2.5, \"PetalLength\": 5.0, \"PetalWidth\": 2.0, \"Species\": \"Iris-virginica\"}, {\"SepalLength\": 5.8, \"SepalWidth\": 2.8, \"PetalLength\": 5.1, \"PetalWidth\": 2.4, \"Species\": \"Iris-virginica\"}, {\"SepalLength\": 6.4, \"SepalWidth\": 3.2, \"PetalLength\": 5.3, \"PetalWidth\": 2.3, \"Species\": \"Iris-virginica\"}, {\"SepalLength\": 6.5, \"SepalWidth\": 3.0, \"PetalLength\": 5.5, \"PetalWidth\": 1.8, \"Species\": \"Iris-virginica\"}, {\"SepalLength\": 7.7, \"SepalWidth\": 3.8, \"PetalLength\": 6.7, \"PetalWidth\": 2.2, \"Species\": \"Iris-virginica\"}, {\"SepalLength\": 7.7, \"SepalWidth\": 2.6, \"PetalLength\": 6.9, \"PetalWidth\": 2.3, \"Species\": \"Iris-virginica\"}, {\"SepalLength\": 6.0, \"SepalWidth\": 2.2, \"PetalLength\": 5.0, \"PetalWidth\": 1.5, \"Species\": \"Iris-virginica\"}, {\"SepalLength\": 6.9, \"SepalWidth\": 3.2, \"PetalLength\": 5.7, \"PetalWidth\": 2.3, \"Species\": \"Iris-virginica\"}, {\"SepalLength\": 5.6, \"SepalWidth\": 2.8, \"PetalLength\": 4.9, \"PetalWidth\": 2.0, \"Species\": \"Iris-virginica\"}, {\"SepalLength\": 7.7, \"SepalWidth\": 2.8, \"PetalLength\": 6.7, \"PetalWidth\": 2.0, \"Species\": \"Iris-virginica\"}, {\"SepalLength\": 6.3, \"SepalWidth\": 2.7, \"PetalLength\": 4.9, \"PetalWidth\": 1.8, \"Species\": \"Iris-virginica\"}, {\"SepalLength\": 6.7, \"SepalWidth\": 3.3, \"PetalLength\": 5.7, \"PetalWidth\": 2.1, \"Species\": \"Iris-virginica\"}, {\"SepalLength\": 7.2, \"SepalWidth\": 3.2, \"PetalLength\": 6.0, \"PetalWidth\": 1.8, \"Species\": \"Iris-virginica\"}, {\"SepalLength\": 6.2, \"SepalWidth\": 2.8, \"PetalLength\": 4.8, \"PetalWidth\": 1.8, \"Species\": \"Iris-virginica\"}, {\"SepalLength\": 6.1, \"SepalWidth\": 3.0, \"PetalLength\": 4.9, \"PetalWidth\": 1.8, \"Species\": \"Iris-virginica\"}, {\"SepalLength\": 6.4, \"SepalWidth\": 2.8, \"PetalLength\": 5.6, \"PetalWidth\": 2.1, \"Species\": \"Iris-virginica\"}, {\"SepalLength\": 7.2, \"SepalWidth\": 3.0, \"PetalLength\": 5.8, \"PetalWidth\": 1.6, \"Species\": \"Iris-virginica\"}, {\"SepalLength\": 7.4, \"SepalWidth\": 2.8, \"PetalLength\": 6.1, \"PetalWidth\": 1.9, \"Species\": \"Iris-virginica\"}, {\"SepalLength\": 7.9, \"SepalWidth\": 3.8, \"PetalLength\": 6.4, \"PetalWidth\": 2.0, \"Species\": \"Iris-virginica\"}, {\"SepalLength\": 6.4, \"SepalWidth\": 2.8, \"PetalLength\": 5.6, \"PetalWidth\": 2.2, \"Species\": \"Iris-virginica\"}, {\"SepalLength\": 6.3, \"SepalWidth\": 2.8, \"PetalLength\": 5.1, \"PetalWidth\": 1.5, \"Species\": \"Iris-virginica\"}, {\"SepalLength\": 6.1, \"SepalWidth\": 2.6, \"PetalLength\": 5.6, \"PetalWidth\": 1.4, \"Species\": \"Iris-virginica\"}, {\"SepalLength\": 7.7, \"SepalWidth\": 3.0, \"PetalLength\": 6.1, \"PetalWidth\": 2.3, \"Species\": \"Iris-virginica\"}, {\"SepalLength\": 6.3, \"SepalWidth\": 3.4, \"PetalLength\": 5.6, \"PetalWidth\": 2.4, \"Species\": \"Iris-virginica\"}, {\"SepalLength\": 6.4, \"SepalWidth\": 3.1, \"PetalLength\": 5.5, \"PetalWidth\": 1.8, \"Species\": \"Iris-virginica\"}, {\"SepalLength\": 6.0, \"SepalWidth\": 3.0, \"PetalLength\": 4.8, \"PetalWidth\": 1.8, \"Species\": \"Iris-virginica\"}, {\"SepalLength\": 6.9, \"SepalWidth\": 3.1, \"PetalLength\": 5.4, \"PetalWidth\": 2.1, \"Species\": \"Iris-virginica\"}, {\"SepalLength\": 6.7, \"SepalWidth\": 3.1, \"PetalLength\": 5.6, \"PetalWidth\": 2.4, \"Species\": \"Iris-virginica\"}, {\"SepalLength\": 6.9, \"SepalWidth\": 3.1, \"PetalLength\": 5.1, \"PetalWidth\": 2.3, \"Species\": \"Iris-virginica\"}, {\"SepalLength\": 5.8, \"SepalWidth\": 2.7, \"PetalLength\": 5.1, \"PetalWidth\": 1.9, \"Species\": \"Iris-virginica\"}, {\"SepalLength\": 6.8, \"SepalWidth\": 3.2, \"PetalLength\": 5.9, \"PetalWidth\": 2.3, \"Species\": \"Iris-virginica\"}, {\"SepalLength\": 6.7, \"SepalWidth\": 3.3, \"PetalLength\": 5.7, \"PetalWidth\": 2.5, \"Species\": \"Iris-virginica\"}, {\"SepalLength\": 6.7, \"SepalWidth\": 3.0, \"PetalLength\": 5.2, \"PetalWidth\": 2.3, \"Species\": \"Iris-virginica\"}, {\"SepalLength\": 6.3, \"SepalWidth\": 2.5, \"PetalLength\": 5.0, \"PetalWidth\": 1.9, \"Species\": \"Iris-virginica\"}, {\"SepalLength\": 6.5, \"SepalWidth\": 3.0, \"PetalLength\": 5.2, \"PetalWidth\": 2.0, \"Species\": \"Iris-virginica\"}, {\"SepalLength\": 6.2, \"SepalWidth\": 3.4, \"PetalLength\": 5.4, \"PetalWidth\": 2.3, \"Species\": \"Iris-virginica\"}, {\"SepalLength\": 5.9, \"SepalWidth\": 3.0, \"PetalLength\": 5.1, \"PetalWidth\": 1.8, \"Species\": \"Iris-virginica\"}]}}, {\"mode\": \"vega-lite\"});\n",
       "</script>"
      ],
      "text/plain": [
       "alt.Chart(...)"
      ]
     },
     "execution_count": 4,
     "metadata": {},
     "output_type": "execute_result"
    }
   ],
   "source": [
    "###小提琴图###\n",
    "violinplot = alt.Chart(iris).transform_density(\n",
    "    'SepalLength',\n",
    "    as_=['SepalLength', 'density'],\n",
    "    groupby=['Species']\n",
    ").mark_area(orient='horizontal').encode(\n",
    "    y = 'SepalLength:Q',\n",
    "    color='Species:N',\n",
    "    x=alt.X(\n",
    "        'density:Q',\n",
    "        stack='center',\n",
    "        impute=None,\n",
    "        title=None,\n",
    "        axis=alt.Axis(labels=False, values=[0],grid=False, ticks=True),\n",
    "    ),\n",
    "    column=alt.Column(\n",
    "        'Species:N',\n",
    "        header=alt.Header(\n",
    "            titleOrient='bottom',\n",
    "            labelOrient='bottom',\n",
    "            labelPadding=0,\n",
    "        ),\n",
    "    )\n",
    ").properties(\n",
    "    width=100\n",
    ").configure_facet(\n",
    "    spacing=0\n",
    ").configure_view(\n",
    "    stroke=None\n",
    ")\n",
    "\n",
    "violinplot"
   ]
  },
  {
   "cell_type": "code",
   "execution_count": null,
   "metadata": {},
   "outputs": [],
   "source": [
    "first = alt.Chart().mark_point(filled=True,size=20).encode(\n",
    "    alt.X(alt.repeat('column'), type='quantitative'),\n",
    "    alt.Y(alt.repeat('row'), type='quantitative'),\n",
    "    color='Species:N',\n",
    ").properties(\n",
    "    width=150,\n",
    "    height=150\n",
    ").repeat(\n",
    "    data = iris,\n",
    "    row=['SepalLength'],\n",
    "    column=['SepalWidth', 'PetalLength', 'PetalWidth']\n",
    ")\n",
    "#--------------------------------------------------------------------\n",
    "second = alt.Chart().mark_point(filled=True,size=29).encode(\n",
    "    alt.X(alt.repeat('column'), type='quantitative'),\n",
    "    alt.Y(alt.repeat('row'), type='quantitative'),\n",
    "    color='Species:N',\n",
    ").properties(\n",
    "    width=150,\n",
    "    height=150\n",
    ").repeat(\n",
    "    data = iris,\n",
    "    row=['SepalWidth'],\n",
    "    column=['PetalLength', 'PetalWidth']\n",
    ")\n",
    "#--------------------------------------------------------------------\n",
    "third = alt.Chart().mark_point(filled=True,size=20).encode(\n",
    "    alt.X(alt.repeat('column'), type='quantitative'),\n",
    "    alt.Y(alt.repeat('row'), type='quantitative'),\n",
    "    color='Species:N',\n",
    ").properties(\n",
    "    width=150,\n",
    "    height=150\n",
    ").repeat(\n",
    "    data = iris,\n",
    "    row=['PetalLength'],\n",
    "    column=['PetalWidth']\n",
    ")\n",
    "#--------------------------------------------------------------------\n",
    "alt.vconcat(first,second,third)"
   ]
  },
  {
   "cell_type": "markdown",
   "metadata": {},
   "source": [
    "# Design Decision 4: 筛选与不筛选"
   ]
  },
  {
   "cell_type": "markdown",
   "metadata": {},
   "source": [
    "For locating information。\n",
    "筛选掉糅合项，能更便于观测某一品种的分布。需要观测所有属性的分布也可以在集合中把属性添加，比没有这个设计方案更便捷。"
   ]
  },
  {
   "cell_type": "markdown",
   "metadata": {},
   "source": [
    "# Design Decision 5: 热力图与二维直方图"
   ]
  },
  {
   "source": [
    "# Design Decision 6: 是否合并箱线图和琴图"
   ],
   "cell_type": "markdown",
   "metadata": {}
  },
  {
   "cell_type": "code",
   "execution_count": null,
   "metadata": {},
   "outputs": [],
   "source": [
    "antV = ['#1890FF', '#2FC25B', '#FACC14', '#223273', '#8543E0', '#13C2C2', '#3436c7', '#F04864'] \n",
    "f, axes = plt.subplots(2, 2, figsize=(8, 8), sharex=True)\n",
    "sns.despine(left=True)\n",
    "\n",
    "sns.violinplot(x='Species', y='SepalLength', data=iris, palette=antV, ax=axes[0, 0])\n",
    "sns.violinplot(x='Species', y='SepalWidth', data=iris, palette=antV, ax=axes[0, 1])\n",
    "sns.violinplot(x='Species', y='PetalLength', data=iris, palette=antV, ax=axes[1, 0])\n",
    "sns.violinplot(x='Species', y='PetalWidth', data=iris, palette=antV, ax=axes[1, 1])\n",
    "\n",
    "plt.show()"
   ]
  },
  {
   "cell_type": "code",
   "execution_count": null,
   "metadata": {},
   "outputs": [],
   "source": [
    "antV = ['#1890FF', '#2FC25B', '#FACC14', '#223273', '#8543E0', '#13C2C2', '#3436c7', '#F04864'] \n",
    "f, axes = plt.subplots(2, 2, figsize=(8, 8), sharex=True)\n",
    "sns.despine(left=True)\n",
    "\n",
    "sns.boxplot(x='Species', y='SepalLength', data=iris, palette=antV, ax=axes[0, 0])\n",
    "sns.boxplot(x='Species', y='SepalWidth', data=iris, palette=antV, ax=axes[0, 1])\n",
    "sns.boxplot(x='Species', y='PetalLength', data=iris, palette=antV, ax=axes[1, 0])\n",
    "sns.boxplot(x='Species', y='PetalWidth', data=iris, palette=antV, ax=axes[1, 1])\n",
    "\n",
    "plt.show()"
   ]
  },
  {
   "cell_type": "code",
   "execution_count": 6,
   "metadata": {},
   "outputs": [
    {
     "data": {
      "text/html": [
       "\n",
       "<div id=\"altair-viz-fd8c91e9a8be45149c051d5fcc64fa79\"></div>\n",
       "<script type=\"text/javascript\">\n",
       "  (function(spec, embedOpt){\n",
       "    let outputDiv = document.currentScript.previousElementSibling;\n",
       "    if (outputDiv.id !== \"altair-viz-fd8c91e9a8be45149c051d5fcc64fa79\") {\n",
       "      outputDiv = document.getElementById(\"altair-viz-fd8c91e9a8be45149c051d5fcc64fa79\");\n",
       "    }\n",
       "    const paths = {\n",
       "      \"vega\": \"https://cdn.jsdelivr.net/npm//vega@5?noext\",\n",
       "      \"vega-lib\": \"https://cdn.jsdelivr.net/npm//vega-lib?noext\",\n",
       "      \"vega-lite\": \"https://cdn.jsdelivr.net/npm//vega-lite@4.8.1?noext\",\n",
       "      \"vega-embed\": \"https://cdn.jsdelivr.net/npm//vega-embed@6?noext\",\n",
       "    };\n",
       "\n",
       "    function loadScript(lib) {\n",
       "      return new Promise(function(resolve, reject) {\n",
       "        var s = document.createElement('script');\n",
       "        s.src = paths[lib];\n",
       "        s.async = true;\n",
       "        s.onload = () => resolve(paths[lib]);\n",
       "        s.onerror = () => reject(`Error loading script: ${paths[lib]}`);\n",
       "        document.getElementsByTagName(\"head\")[0].appendChild(s);\n",
       "      });\n",
       "    }\n",
       "\n",
       "    function showError(err) {\n",
       "      outputDiv.innerHTML = `<div class=\"error\" style=\"color:red;\">${err}</div>`;\n",
       "      throw err;\n",
       "    }\n",
       "\n",
       "    function displayChart(vegaEmbed) {\n",
       "      vegaEmbed(outputDiv, spec, embedOpt)\n",
       "        .catch(err => showError(`Javascript Error: ${err.message}<br>This usually means there's a typo in your chart specification. See the javascript console for the full traceback.`));\n",
       "    }\n",
       "\n",
       "    if(typeof define === \"function\" && define.amd) {\n",
       "      requirejs.config({paths});\n",
       "      require([\"vega-embed\"], displayChart, err => showError(`Error loading script: ${err.message}`));\n",
       "    } else if (typeof vegaEmbed === \"function\") {\n",
       "      displayChart(vegaEmbed);\n",
       "    } else {\n",
       "      loadScript(\"vega\")\n",
       "        .then(() => loadScript(\"vega-lite\"))\n",
       "        .then(() => loadScript(\"vega-embed\"))\n",
       "        .catch(showError)\n",
       "        .then(() => displayChart(vegaEmbed));\n",
       "    }\n",
       "  })({\"config\": {\"view\": {\"continuousWidth\": 400, \"continuousHeight\": 300}}, \"data\": {\"name\": \"data-17573b73165b324fe49516a27bcc2ed5\"}, \"mark\": \"boxplot\", \"encoding\": {\"y\": {\"type\": \"quantitative\", \"field\": \"PetalWidth\"}}, \"height\": 200, \"width\": 200, \"$schema\": \"https://vega.github.io/schema/vega-lite/v4.8.1.json\", \"datasets\": {\"data-17573b73165b324fe49516a27bcc2ed5\": [{\"SepalLength\": 5.1, \"SepalWidth\": 3.5, \"PetalLength\": 1.4, \"PetalWidth\": 0.2, \"Species\": \"Iris-setosa\"}, {\"SepalLength\": 4.9, \"SepalWidth\": 3.0, \"PetalLength\": 1.4, \"PetalWidth\": 0.2, \"Species\": \"Iris-setosa\"}, {\"SepalLength\": 4.7, \"SepalWidth\": 3.2, \"PetalLength\": 1.3, \"PetalWidth\": 0.2, \"Species\": \"Iris-setosa\"}, {\"SepalLength\": 4.6, \"SepalWidth\": 3.1, \"PetalLength\": 1.5, \"PetalWidth\": 0.2, \"Species\": \"Iris-setosa\"}, {\"SepalLength\": 5.0, \"SepalWidth\": 3.6, \"PetalLength\": 1.4, \"PetalWidth\": 0.2, \"Species\": \"Iris-setosa\"}, {\"SepalLength\": 5.4, \"SepalWidth\": 3.9, \"PetalLength\": 1.7, \"PetalWidth\": 0.4, \"Species\": \"Iris-setosa\"}, {\"SepalLength\": 4.6, \"SepalWidth\": 3.4, \"PetalLength\": 1.4, \"PetalWidth\": 0.3, \"Species\": \"Iris-setosa\"}, {\"SepalLength\": 5.0, \"SepalWidth\": 3.4, \"PetalLength\": 1.5, \"PetalWidth\": 0.2, \"Species\": \"Iris-setosa\"}, {\"SepalLength\": 4.4, \"SepalWidth\": 2.9, \"PetalLength\": 1.4, \"PetalWidth\": 0.2, \"Species\": \"Iris-setosa\"}, {\"SepalLength\": 4.9, \"SepalWidth\": 3.1, \"PetalLength\": 1.5, \"PetalWidth\": 0.1, \"Species\": \"Iris-setosa\"}, {\"SepalLength\": 5.4, \"SepalWidth\": 3.7, \"PetalLength\": 1.5, \"PetalWidth\": 0.2, \"Species\": \"Iris-setosa\"}, {\"SepalLength\": 4.8, \"SepalWidth\": 3.4, \"PetalLength\": 1.6, \"PetalWidth\": 0.2, \"Species\": \"Iris-setosa\"}, {\"SepalLength\": 4.8, \"SepalWidth\": 3.0, \"PetalLength\": 1.4, \"PetalWidth\": 0.1, \"Species\": \"Iris-setosa\"}, {\"SepalLength\": 4.3, \"SepalWidth\": 3.0, \"PetalLength\": 1.1, \"PetalWidth\": 0.1, \"Species\": \"Iris-setosa\"}, {\"SepalLength\": 5.8, \"SepalWidth\": 4.0, \"PetalLength\": 1.2, \"PetalWidth\": 0.2, \"Species\": \"Iris-setosa\"}, {\"SepalLength\": 5.7, \"SepalWidth\": 4.4, \"PetalLength\": 1.5, \"PetalWidth\": 0.4, \"Species\": \"Iris-setosa\"}, {\"SepalLength\": 5.4, \"SepalWidth\": 3.9, \"PetalLength\": 1.3, \"PetalWidth\": 0.4, \"Species\": \"Iris-setosa\"}, {\"SepalLength\": 5.1, \"SepalWidth\": 3.5, \"PetalLength\": 1.4, \"PetalWidth\": 0.3, \"Species\": \"Iris-setosa\"}, {\"SepalLength\": 5.7, \"SepalWidth\": 3.8, \"PetalLength\": 1.7, \"PetalWidth\": 0.3, \"Species\": \"Iris-setosa\"}, {\"SepalLength\": 5.1, \"SepalWidth\": 3.8, \"PetalLength\": 1.5, \"PetalWidth\": 0.3, \"Species\": \"Iris-setosa\"}, {\"SepalLength\": 5.4, \"SepalWidth\": 3.4, \"PetalLength\": 1.7, \"PetalWidth\": 0.2, \"Species\": \"Iris-setosa\"}, {\"SepalLength\": 5.1, \"SepalWidth\": 3.7, \"PetalLength\": 1.5, \"PetalWidth\": 0.4, \"Species\": \"Iris-setosa\"}, {\"SepalLength\": 4.6, \"SepalWidth\": 3.6, \"PetalLength\": 1.0, \"PetalWidth\": 0.2, \"Species\": \"Iris-setosa\"}, {\"SepalLength\": 5.1, \"SepalWidth\": 3.3, \"PetalLength\": 1.7, \"PetalWidth\": 0.5, \"Species\": \"Iris-setosa\"}, {\"SepalLength\": 4.8, \"SepalWidth\": 3.4, \"PetalLength\": 1.9, \"PetalWidth\": 0.2, \"Species\": \"Iris-setosa\"}, {\"SepalLength\": 5.0, \"SepalWidth\": 3.0, \"PetalLength\": 1.6, \"PetalWidth\": 0.2, \"Species\": \"Iris-setosa\"}, {\"SepalLength\": 5.0, \"SepalWidth\": 3.4, \"PetalLength\": 1.6, \"PetalWidth\": 0.4, \"Species\": \"Iris-setosa\"}, {\"SepalLength\": 5.2, \"SepalWidth\": 3.5, \"PetalLength\": 1.5, \"PetalWidth\": 0.2, \"Species\": \"Iris-setosa\"}, {\"SepalLength\": 5.2, \"SepalWidth\": 3.4, \"PetalLength\": 1.4, \"PetalWidth\": 0.2, \"Species\": \"Iris-setosa\"}, {\"SepalLength\": 4.7, \"SepalWidth\": 3.2, \"PetalLength\": 1.6, \"PetalWidth\": 0.2, \"Species\": \"Iris-setosa\"}, {\"SepalLength\": 4.8, \"SepalWidth\": 3.1, \"PetalLength\": 1.6, \"PetalWidth\": 0.2, \"Species\": \"Iris-setosa\"}, {\"SepalLength\": 5.4, \"SepalWidth\": 3.4, \"PetalLength\": 1.5, \"PetalWidth\": 0.4, \"Species\": \"Iris-setosa\"}, {\"SepalLength\": 5.2, \"SepalWidth\": 4.1, \"PetalLength\": 1.5, \"PetalWidth\": 0.1, \"Species\": \"Iris-setosa\"}, {\"SepalLength\": 5.5, \"SepalWidth\": 4.2, \"PetalLength\": 1.4, \"PetalWidth\": 0.2, \"Species\": \"Iris-setosa\"}, {\"SepalLength\": 4.9, \"SepalWidth\": 3.1, \"PetalLength\": 1.5, \"PetalWidth\": 0.2, \"Species\": \"Iris-setosa\"}, {\"SepalLength\": 5.0, \"SepalWidth\": 3.2, \"PetalLength\": 1.2, \"PetalWidth\": 0.2, \"Species\": \"Iris-setosa\"}, {\"SepalLength\": 5.5, \"SepalWidth\": 3.5, \"PetalLength\": 1.3, \"PetalWidth\": 0.2, \"Species\": \"Iris-setosa\"}, {\"SepalLength\": 4.9, \"SepalWidth\": 3.6, \"PetalLength\": 1.4, \"PetalWidth\": 0.1, \"Species\": \"Iris-setosa\"}, {\"SepalLength\": 4.4, \"SepalWidth\": 3.0, \"PetalLength\": 1.3, \"PetalWidth\": 0.2, \"Species\": \"Iris-setosa\"}, {\"SepalLength\": 5.1, \"SepalWidth\": 3.4, \"PetalLength\": 1.5, \"PetalWidth\": 0.2, \"Species\": \"Iris-setosa\"}, {\"SepalLength\": 5.0, \"SepalWidth\": 3.5, \"PetalLength\": 1.3, \"PetalWidth\": 0.3, \"Species\": \"Iris-setosa\"}, {\"SepalLength\": 4.5, \"SepalWidth\": 2.3, \"PetalLength\": 1.3, \"PetalWidth\": 0.3, \"Species\": \"Iris-setosa\"}, {\"SepalLength\": 4.4, \"SepalWidth\": 3.2, \"PetalLength\": 1.3, \"PetalWidth\": 0.2, \"Species\": \"Iris-setosa\"}, {\"SepalLength\": 5.0, \"SepalWidth\": 3.5, \"PetalLength\": 1.6, \"PetalWidth\": 0.6, \"Species\": \"Iris-setosa\"}, {\"SepalLength\": 5.1, \"SepalWidth\": 3.8, \"PetalLength\": 1.9, \"PetalWidth\": 0.4, \"Species\": \"Iris-setosa\"}, {\"SepalLength\": 4.8, \"SepalWidth\": 3.0, \"PetalLength\": 1.4, \"PetalWidth\": 0.3, \"Species\": \"Iris-setosa\"}, {\"SepalLength\": 5.1, \"SepalWidth\": 3.8, \"PetalLength\": 1.6, \"PetalWidth\": 0.2, \"Species\": \"Iris-setosa\"}, {\"SepalLength\": 4.6, \"SepalWidth\": 3.2, \"PetalLength\": 1.4, \"PetalWidth\": 0.2, \"Species\": \"Iris-setosa\"}, {\"SepalLength\": 5.3, \"SepalWidth\": 3.7, \"PetalLength\": 1.5, \"PetalWidth\": 0.2, \"Species\": \"Iris-setosa\"}, {\"SepalLength\": 5.0, \"SepalWidth\": 3.3, \"PetalLength\": 1.4, \"PetalWidth\": 0.2, \"Species\": \"Iris-setosa\"}, {\"SepalLength\": 7.0, \"SepalWidth\": 3.2, \"PetalLength\": 4.7, \"PetalWidth\": 1.4, \"Species\": \"Iris-versicolor\"}, {\"SepalLength\": 6.4, \"SepalWidth\": 3.2, \"PetalLength\": 4.5, \"PetalWidth\": 1.5, \"Species\": \"Iris-versicolor\"}, {\"SepalLength\": 6.9, \"SepalWidth\": 3.1, \"PetalLength\": 4.9, \"PetalWidth\": 1.5, \"Species\": \"Iris-versicolor\"}, {\"SepalLength\": 5.5, \"SepalWidth\": 2.3, \"PetalLength\": 4.0, \"PetalWidth\": 1.3, \"Species\": \"Iris-versicolor\"}, {\"SepalLength\": 6.5, \"SepalWidth\": 2.8, \"PetalLength\": 4.6, \"PetalWidth\": 1.5, \"Species\": \"Iris-versicolor\"}, {\"SepalLength\": 5.7, \"SepalWidth\": 2.8, \"PetalLength\": 4.5, \"PetalWidth\": 1.3, \"Species\": \"Iris-versicolor\"}, {\"SepalLength\": 6.3, \"SepalWidth\": 3.3, \"PetalLength\": 4.7, \"PetalWidth\": 1.6, \"Species\": \"Iris-versicolor\"}, {\"SepalLength\": 4.9, \"SepalWidth\": 2.4, \"PetalLength\": 3.3, \"PetalWidth\": 1.0, \"Species\": \"Iris-versicolor\"}, {\"SepalLength\": 6.6, \"SepalWidth\": 2.9, \"PetalLength\": 4.6, \"PetalWidth\": 1.3, \"Species\": \"Iris-versicolor\"}, {\"SepalLength\": 5.2, \"SepalWidth\": 2.7, \"PetalLength\": 3.9, \"PetalWidth\": 1.4, \"Species\": \"Iris-versicolor\"}, {\"SepalLength\": 5.0, \"SepalWidth\": 2.0, \"PetalLength\": 3.5, \"PetalWidth\": 1.0, \"Species\": \"Iris-versicolor\"}, {\"SepalLength\": 5.9, \"SepalWidth\": 3.0, \"PetalLength\": 4.2, \"PetalWidth\": 1.5, \"Species\": \"Iris-versicolor\"}, {\"SepalLength\": 6.0, \"SepalWidth\": 2.2, \"PetalLength\": 4.0, \"PetalWidth\": 1.0, \"Species\": \"Iris-versicolor\"}, {\"SepalLength\": 6.1, \"SepalWidth\": 2.9, \"PetalLength\": 4.7, \"PetalWidth\": 1.4, \"Species\": \"Iris-versicolor\"}, {\"SepalLength\": 5.6, \"SepalWidth\": 2.9, \"PetalLength\": 3.6, \"PetalWidth\": 1.3, \"Species\": \"Iris-versicolor\"}, {\"SepalLength\": 6.7, \"SepalWidth\": 3.1, \"PetalLength\": 4.4, \"PetalWidth\": 1.4, \"Species\": \"Iris-versicolor\"}, {\"SepalLength\": 5.6, \"SepalWidth\": 3.0, \"PetalLength\": 4.5, \"PetalWidth\": 1.5, \"Species\": \"Iris-versicolor\"}, {\"SepalLength\": 5.8, \"SepalWidth\": 2.7, \"PetalLength\": 4.1, \"PetalWidth\": 1.0, \"Species\": \"Iris-versicolor\"}, {\"SepalLength\": 6.2, \"SepalWidth\": 2.2, \"PetalLength\": 4.5, \"PetalWidth\": 1.5, \"Species\": \"Iris-versicolor\"}, {\"SepalLength\": 5.6, \"SepalWidth\": 2.5, \"PetalLength\": 3.9, \"PetalWidth\": 1.1, \"Species\": \"Iris-versicolor\"}, {\"SepalLength\": 5.9, \"SepalWidth\": 3.2, \"PetalLength\": 4.8, \"PetalWidth\": 1.8, \"Species\": \"Iris-versicolor\"}, {\"SepalLength\": 6.1, \"SepalWidth\": 2.8, \"PetalLength\": 4.0, \"PetalWidth\": 1.3, \"Species\": \"Iris-versicolor\"}, {\"SepalLength\": 6.3, \"SepalWidth\": 2.5, \"PetalLength\": 4.9, \"PetalWidth\": 1.5, \"Species\": \"Iris-versicolor\"}, {\"SepalLength\": 6.1, \"SepalWidth\": 2.8, \"PetalLength\": 4.7, \"PetalWidth\": 1.2, \"Species\": \"Iris-versicolor\"}, {\"SepalLength\": 6.4, \"SepalWidth\": 2.9, \"PetalLength\": 4.3, \"PetalWidth\": 1.3, \"Species\": \"Iris-versicolor\"}, {\"SepalLength\": 6.6, \"SepalWidth\": 3.0, \"PetalLength\": 4.4, \"PetalWidth\": 1.4, \"Species\": \"Iris-versicolor\"}, {\"SepalLength\": 6.8, \"SepalWidth\": 2.8, \"PetalLength\": 4.8, \"PetalWidth\": 1.4, \"Species\": \"Iris-versicolor\"}, {\"SepalLength\": 6.7, \"SepalWidth\": 3.0, \"PetalLength\": 5.0, \"PetalWidth\": 1.7, \"Species\": \"Iris-versicolor\"}, {\"SepalLength\": 6.0, \"SepalWidth\": 2.9, \"PetalLength\": 4.5, \"PetalWidth\": 1.5, \"Species\": \"Iris-versicolor\"}, {\"SepalLength\": 5.7, \"SepalWidth\": 2.6, \"PetalLength\": 3.5, \"PetalWidth\": 1.0, \"Species\": \"Iris-versicolor\"}, {\"SepalLength\": 5.5, \"SepalWidth\": 2.4, \"PetalLength\": 3.8, \"PetalWidth\": 1.1, \"Species\": \"Iris-versicolor\"}, {\"SepalLength\": 5.5, \"SepalWidth\": 2.4, \"PetalLength\": 3.7, \"PetalWidth\": 1.0, \"Species\": \"Iris-versicolor\"}, {\"SepalLength\": 5.8, \"SepalWidth\": 2.7, \"PetalLength\": 3.9, \"PetalWidth\": 1.2, \"Species\": \"Iris-versicolor\"}, {\"SepalLength\": 6.0, \"SepalWidth\": 2.7, \"PetalLength\": 5.1, \"PetalWidth\": 1.6, \"Species\": \"Iris-versicolor\"}, {\"SepalLength\": 5.4, \"SepalWidth\": 3.0, \"PetalLength\": 4.5, \"PetalWidth\": 1.5, \"Species\": \"Iris-versicolor\"}, {\"SepalLength\": 6.0, \"SepalWidth\": 3.4, \"PetalLength\": 4.5, \"PetalWidth\": 1.6, \"Species\": \"Iris-versicolor\"}, {\"SepalLength\": 6.7, \"SepalWidth\": 3.1, \"PetalLength\": 4.7, \"PetalWidth\": 1.5, \"Species\": \"Iris-versicolor\"}, {\"SepalLength\": 6.3, \"SepalWidth\": 2.3, \"PetalLength\": 4.4, \"PetalWidth\": 1.3, \"Species\": \"Iris-versicolor\"}, {\"SepalLength\": 5.6, \"SepalWidth\": 3.0, \"PetalLength\": 4.1, \"PetalWidth\": 1.3, \"Species\": \"Iris-versicolor\"}, {\"SepalLength\": 5.5, \"SepalWidth\": 2.5, \"PetalLength\": 4.0, \"PetalWidth\": 1.3, \"Species\": \"Iris-versicolor\"}, {\"SepalLength\": 5.5, \"SepalWidth\": 2.6, \"PetalLength\": 4.4, \"PetalWidth\": 1.2, \"Species\": \"Iris-versicolor\"}, {\"SepalLength\": 6.1, \"SepalWidth\": 3.0, \"PetalLength\": 4.6, \"PetalWidth\": 1.4, \"Species\": \"Iris-versicolor\"}, {\"SepalLength\": 5.8, \"SepalWidth\": 2.6, \"PetalLength\": 4.0, \"PetalWidth\": 1.2, \"Species\": \"Iris-versicolor\"}, {\"SepalLength\": 5.0, \"SepalWidth\": 2.3, \"PetalLength\": 3.3, \"PetalWidth\": 1.0, \"Species\": \"Iris-versicolor\"}, {\"SepalLength\": 5.6, \"SepalWidth\": 2.7, \"PetalLength\": 4.2, \"PetalWidth\": 1.3, \"Species\": \"Iris-versicolor\"}, {\"SepalLength\": 5.7, \"SepalWidth\": 3.0, \"PetalLength\": 4.2, \"PetalWidth\": 1.2, \"Species\": \"Iris-versicolor\"}, {\"SepalLength\": 5.7, \"SepalWidth\": 2.9, \"PetalLength\": 4.2, \"PetalWidth\": 1.3, \"Species\": \"Iris-versicolor\"}, {\"SepalLength\": 6.2, \"SepalWidth\": 2.9, \"PetalLength\": 4.3, \"PetalWidth\": 1.3, \"Species\": \"Iris-versicolor\"}, {\"SepalLength\": 5.1, \"SepalWidth\": 2.5, \"PetalLength\": 3.0, \"PetalWidth\": 1.1, \"Species\": \"Iris-versicolor\"}, {\"SepalLength\": 5.7, \"SepalWidth\": 2.8, \"PetalLength\": 4.1, \"PetalWidth\": 1.3, \"Species\": \"Iris-versicolor\"}, {\"SepalLength\": 6.3, \"SepalWidth\": 3.3, \"PetalLength\": 6.0, \"PetalWidth\": 2.5, \"Species\": \"Iris-virginica\"}, {\"SepalLength\": 5.8, \"SepalWidth\": 2.7, \"PetalLength\": 5.1, \"PetalWidth\": 1.9, \"Species\": \"Iris-virginica\"}, {\"SepalLength\": 7.1, \"SepalWidth\": 3.0, \"PetalLength\": 5.9, \"PetalWidth\": 2.1, \"Species\": \"Iris-virginica\"}, {\"SepalLength\": 6.3, \"SepalWidth\": 2.9, \"PetalLength\": 5.6, \"PetalWidth\": 1.8, \"Species\": \"Iris-virginica\"}, {\"SepalLength\": 6.5, \"SepalWidth\": 3.0, \"PetalLength\": 5.8, \"PetalWidth\": 2.2, \"Species\": \"Iris-virginica\"}, {\"SepalLength\": 7.6, \"SepalWidth\": 3.0, \"PetalLength\": 6.6, \"PetalWidth\": 2.1, \"Species\": \"Iris-virginica\"}, {\"SepalLength\": 4.9, \"SepalWidth\": 2.5, \"PetalLength\": 4.5, \"PetalWidth\": 1.7, \"Species\": \"Iris-virginica\"}, {\"SepalLength\": 7.3, \"SepalWidth\": 2.9, \"PetalLength\": 6.3, \"PetalWidth\": 1.8, \"Species\": \"Iris-virginica\"}, {\"SepalLength\": 6.7, \"SepalWidth\": 2.5, \"PetalLength\": 5.8, \"PetalWidth\": 1.8, \"Species\": \"Iris-virginica\"}, {\"SepalLength\": 7.2, \"SepalWidth\": 3.6, \"PetalLength\": 6.1, \"PetalWidth\": 2.5, \"Species\": \"Iris-virginica\"}, {\"SepalLength\": 6.5, \"SepalWidth\": 3.2, \"PetalLength\": 5.1, \"PetalWidth\": 2.0, \"Species\": \"Iris-virginica\"}, {\"SepalLength\": 6.4, \"SepalWidth\": 2.7, \"PetalLength\": 5.3, \"PetalWidth\": 1.9, \"Species\": \"Iris-virginica\"}, {\"SepalLength\": 6.8, \"SepalWidth\": 3.0, \"PetalLength\": 5.5, \"PetalWidth\": 2.1, \"Species\": \"Iris-virginica\"}, {\"SepalLength\": 5.7, \"SepalWidth\": 2.5, \"PetalLength\": 5.0, \"PetalWidth\": 2.0, \"Species\": \"Iris-virginica\"}, {\"SepalLength\": 5.8, \"SepalWidth\": 2.8, \"PetalLength\": 5.1, \"PetalWidth\": 2.4, \"Species\": \"Iris-virginica\"}, {\"SepalLength\": 6.4, \"SepalWidth\": 3.2, \"PetalLength\": 5.3, \"PetalWidth\": 2.3, \"Species\": \"Iris-virginica\"}, {\"SepalLength\": 6.5, \"SepalWidth\": 3.0, \"PetalLength\": 5.5, \"PetalWidth\": 1.8, \"Species\": \"Iris-virginica\"}, {\"SepalLength\": 7.7, \"SepalWidth\": 3.8, \"PetalLength\": 6.7, \"PetalWidth\": 2.2, \"Species\": \"Iris-virginica\"}, {\"SepalLength\": 7.7, \"SepalWidth\": 2.6, \"PetalLength\": 6.9, \"PetalWidth\": 2.3, \"Species\": \"Iris-virginica\"}, {\"SepalLength\": 6.0, \"SepalWidth\": 2.2, \"PetalLength\": 5.0, \"PetalWidth\": 1.5, \"Species\": \"Iris-virginica\"}, {\"SepalLength\": 6.9, \"SepalWidth\": 3.2, \"PetalLength\": 5.7, \"PetalWidth\": 2.3, \"Species\": \"Iris-virginica\"}, {\"SepalLength\": 5.6, \"SepalWidth\": 2.8, \"PetalLength\": 4.9, \"PetalWidth\": 2.0, \"Species\": \"Iris-virginica\"}, {\"SepalLength\": 7.7, \"SepalWidth\": 2.8, \"PetalLength\": 6.7, \"PetalWidth\": 2.0, \"Species\": \"Iris-virginica\"}, {\"SepalLength\": 6.3, \"SepalWidth\": 2.7, \"PetalLength\": 4.9, \"PetalWidth\": 1.8, \"Species\": \"Iris-virginica\"}, {\"SepalLength\": 6.7, \"SepalWidth\": 3.3, \"PetalLength\": 5.7, \"PetalWidth\": 2.1, \"Species\": \"Iris-virginica\"}, {\"SepalLength\": 7.2, \"SepalWidth\": 3.2, \"PetalLength\": 6.0, \"PetalWidth\": 1.8, \"Species\": \"Iris-virginica\"}, {\"SepalLength\": 6.2, \"SepalWidth\": 2.8, \"PetalLength\": 4.8, \"PetalWidth\": 1.8, \"Species\": \"Iris-virginica\"}, {\"SepalLength\": 6.1, \"SepalWidth\": 3.0, \"PetalLength\": 4.9, \"PetalWidth\": 1.8, \"Species\": \"Iris-virginica\"}, {\"SepalLength\": 6.4, \"SepalWidth\": 2.8, \"PetalLength\": 5.6, \"PetalWidth\": 2.1, \"Species\": \"Iris-virginica\"}, {\"SepalLength\": 7.2, \"SepalWidth\": 3.0, \"PetalLength\": 5.8, \"PetalWidth\": 1.6, \"Species\": \"Iris-virginica\"}, {\"SepalLength\": 7.4, \"SepalWidth\": 2.8, \"PetalLength\": 6.1, \"PetalWidth\": 1.9, \"Species\": \"Iris-virginica\"}, {\"SepalLength\": 7.9, \"SepalWidth\": 3.8, \"PetalLength\": 6.4, \"PetalWidth\": 2.0, \"Species\": \"Iris-virginica\"}, {\"SepalLength\": 6.4, \"SepalWidth\": 2.8, \"PetalLength\": 5.6, \"PetalWidth\": 2.2, \"Species\": \"Iris-virginica\"}, {\"SepalLength\": 6.3, \"SepalWidth\": 2.8, \"PetalLength\": 5.1, \"PetalWidth\": 1.5, \"Species\": \"Iris-virginica\"}, {\"SepalLength\": 6.1, \"SepalWidth\": 2.6, \"PetalLength\": 5.6, \"PetalWidth\": 1.4, \"Species\": \"Iris-virginica\"}, {\"SepalLength\": 7.7, \"SepalWidth\": 3.0, \"PetalLength\": 6.1, \"PetalWidth\": 2.3, \"Species\": \"Iris-virginica\"}, {\"SepalLength\": 6.3, \"SepalWidth\": 3.4, \"PetalLength\": 5.6, \"PetalWidth\": 2.4, \"Species\": \"Iris-virginica\"}, {\"SepalLength\": 6.4, \"SepalWidth\": 3.1, \"PetalLength\": 5.5, \"PetalWidth\": 1.8, \"Species\": \"Iris-virginica\"}, {\"SepalLength\": 6.0, \"SepalWidth\": 3.0, \"PetalLength\": 4.8, \"PetalWidth\": 1.8, \"Species\": \"Iris-virginica\"}, {\"SepalLength\": 6.9, \"SepalWidth\": 3.1, \"PetalLength\": 5.4, \"PetalWidth\": 2.1, \"Species\": \"Iris-virginica\"}, {\"SepalLength\": 6.7, \"SepalWidth\": 3.1, \"PetalLength\": 5.6, \"PetalWidth\": 2.4, \"Species\": \"Iris-virginica\"}, {\"SepalLength\": 6.9, \"SepalWidth\": 3.1, \"PetalLength\": 5.1, \"PetalWidth\": 2.3, \"Species\": \"Iris-virginica\"}, {\"SepalLength\": 5.8, \"SepalWidth\": 2.7, \"PetalLength\": 5.1, \"PetalWidth\": 1.9, \"Species\": \"Iris-virginica\"}, {\"SepalLength\": 6.8, \"SepalWidth\": 3.2, \"PetalLength\": 5.9, \"PetalWidth\": 2.3, \"Species\": \"Iris-virginica\"}, {\"SepalLength\": 6.7, \"SepalWidth\": 3.3, \"PetalLength\": 5.7, \"PetalWidth\": 2.5, \"Species\": \"Iris-virginica\"}, {\"SepalLength\": 6.7, \"SepalWidth\": 3.0, \"PetalLength\": 5.2, \"PetalWidth\": 2.3, \"Species\": \"Iris-virginica\"}, {\"SepalLength\": 6.3, \"SepalWidth\": 2.5, \"PetalLength\": 5.0, \"PetalWidth\": 1.9, \"Species\": \"Iris-virginica\"}, {\"SepalLength\": 6.5, \"SepalWidth\": 3.0, \"PetalLength\": 5.2, \"PetalWidth\": 2.0, \"Species\": \"Iris-virginica\"}, {\"SepalLength\": 6.2, \"SepalWidth\": 3.4, \"PetalLength\": 5.4, \"PetalWidth\": 2.3, \"Species\": \"Iris-virginica\"}, {\"SepalLength\": 5.9, \"SepalWidth\": 3.0, \"PetalLength\": 5.1, \"PetalWidth\": 1.8, \"Species\": \"Iris-virginica\"}]}}, {\"mode\": \"vega-lite\"});\n",
       "</script>"
      ],
      "text/plain": [
       "alt.Chart(...)"
      ]
     },
     "execution_count": 6,
     "metadata": {},
     "output_type": "execute_result"
    }
   ],
   "source": [
    "alt.Chart(iris).mark_boxplot().encode(\n",
    "    y='PetalWidth:Q',\n",
    "    # x= 'Species:N',\n",
    "    # y='count(PetalLength):Q',\n",
    "    # color='Species:N',\n",
    ").properties(width=200, height=200)"
   ]
  },
  {
   "cell_type": "code",
   "execution_count": 8,
   "metadata": {},
   "outputs": [
    {
     "data": {
      "text/html": [
       "\n",
       "<div id=\"altair-viz-3ac9b16775f84a6eabd25be288ba1558\"></div>\n",
       "<script type=\"text/javascript\">\n",
       "  (function(spec, embedOpt){\n",
       "    let outputDiv = document.currentScript.previousElementSibling;\n",
       "    if (outputDiv.id !== \"altair-viz-3ac9b16775f84a6eabd25be288ba1558\") {\n",
       "      outputDiv = document.getElementById(\"altair-viz-3ac9b16775f84a6eabd25be288ba1558\");\n",
       "    }\n",
       "    const paths = {\n",
       "      \"vega\": \"https://cdn.jsdelivr.net/npm//vega@5?noext\",\n",
       "      \"vega-lib\": \"https://cdn.jsdelivr.net/npm//vega-lib?noext\",\n",
       "      \"vega-lite\": \"https://cdn.jsdelivr.net/npm//vega-lite@4.8.1?noext\",\n",
       "      \"vega-embed\": \"https://cdn.jsdelivr.net/npm//vega-embed@6?noext\",\n",
       "    };\n",
       "\n",
       "    function loadScript(lib) {\n",
       "      return new Promise(function(resolve, reject) {\n",
       "        var s = document.createElement('script');\n",
       "        s.src = paths[lib];\n",
       "        s.async = true;\n",
       "        s.onload = () => resolve(paths[lib]);\n",
       "        s.onerror = () => reject(`Error loading script: ${paths[lib]}`);\n",
       "        document.getElementsByTagName(\"head\")[0].appendChild(s);\n",
       "      });\n",
       "    }\n",
       "\n",
       "    function showError(err) {\n",
       "      outputDiv.innerHTML = `<div class=\"error\" style=\"color:red;\">${err}</div>`;\n",
       "      throw err;\n",
       "    }\n",
       "\n",
       "    function displayChart(vegaEmbed) {\n",
       "      vegaEmbed(outputDiv, spec, embedOpt)\n",
       "        .catch(err => showError(`Javascript Error: ${err.message}<br>This usually means there's a typo in your chart specification. See the javascript console for the full traceback.`));\n",
       "    }\n",
       "\n",
       "    if(typeof define === \"function\" && define.amd) {\n",
       "      requirejs.config({paths});\n",
       "      require([\"vega-embed\"], displayChart, err => showError(`Error loading script: ${err.message}`));\n",
       "    } else if (typeof vegaEmbed === \"function\") {\n",
       "      displayChart(vegaEmbed);\n",
       "    } else {\n",
       "      loadScript(\"vega\")\n",
       "        .then(() => loadScript(\"vega-lite\"))\n",
       "        .then(() => loadScript(\"vega-embed\"))\n",
       "        .catch(showError)\n",
       "        .then(() => displayChart(vegaEmbed));\n",
       "    }\n",
       "  })({\"config\": {\"view\": {\"continuousWidth\": 400, \"continuousHeight\": 300}}, \"data\": {\"name\": \"data-17573b73165b324fe49516a27bcc2ed5\"}, \"mark\": \"area\", \"encoding\": {\"color\": {\"type\": \"nominal\", \"field\": \"Measurement_type\"}, \"x\": {\"type\": \"quantitative\", \"field\": \"value\"}, \"y\": {\"type\": \"quantitative\", \"field\": \"density\", \"stack\": \"zero\"}}, \"height\": 100, \"transform\": [{\"fold\": [\"PetalWidth\", \"PetalLength\", \"SepalWidth\", \"SepalLength\"], \"as\": [\"Measurement_type\", \"value\"]}, {\"density\": \"value\", \"bandwidth\": 0.3, \"counts\": true, \"extent\": [0, 8], \"groupby\": [\"Measurement_type\"], \"steps\": 200}], \"width\": 400, \"$schema\": \"https://vega.github.io/schema/vega-lite/v4.8.1.json\", \"datasets\": {\"data-17573b73165b324fe49516a27bcc2ed5\": [{\"SepalLength\": 5.1, \"SepalWidth\": 3.5, \"PetalLength\": 1.4, \"PetalWidth\": 0.2, \"Species\": \"Iris-setosa\"}, {\"SepalLength\": 4.9, \"SepalWidth\": 3.0, \"PetalLength\": 1.4, \"PetalWidth\": 0.2, \"Species\": \"Iris-setosa\"}, {\"SepalLength\": 4.7, \"SepalWidth\": 3.2, \"PetalLength\": 1.3, \"PetalWidth\": 0.2, \"Species\": \"Iris-setosa\"}, {\"SepalLength\": 4.6, \"SepalWidth\": 3.1, \"PetalLength\": 1.5, \"PetalWidth\": 0.2, \"Species\": \"Iris-setosa\"}, {\"SepalLength\": 5.0, \"SepalWidth\": 3.6, \"PetalLength\": 1.4, \"PetalWidth\": 0.2, \"Species\": \"Iris-setosa\"}, {\"SepalLength\": 5.4, \"SepalWidth\": 3.9, \"PetalLength\": 1.7, \"PetalWidth\": 0.4, \"Species\": \"Iris-setosa\"}, {\"SepalLength\": 4.6, \"SepalWidth\": 3.4, \"PetalLength\": 1.4, \"PetalWidth\": 0.3, \"Species\": \"Iris-setosa\"}, {\"SepalLength\": 5.0, \"SepalWidth\": 3.4, \"PetalLength\": 1.5, \"PetalWidth\": 0.2, \"Species\": \"Iris-setosa\"}, {\"SepalLength\": 4.4, \"SepalWidth\": 2.9, \"PetalLength\": 1.4, \"PetalWidth\": 0.2, \"Species\": \"Iris-setosa\"}, {\"SepalLength\": 4.9, \"SepalWidth\": 3.1, \"PetalLength\": 1.5, \"PetalWidth\": 0.1, \"Species\": \"Iris-setosa\"}, {\"SepalLength\": 5.4, \"SepalWidth\": 3.7, \"PetalLength\": 1.5, \"PetalWidth\": 0.2, \"Species\": \"Iris-setosa\"}, {\"SepalLength\": 4.8, \"SepalWidth\": 3.4, \"PetalLength\": 1.6, \"PetalWidth\": 0.2, \"Species\": \"Iris-setosa\"}, {\"SepalLength\": 4.8, \"SepalWidth\": 3.0, \"PetalLength\": 1.4, \"PetalWidth\": 0.1, \"Species\": \"Iris-setosa\"}, {\"SepalLength\": 4.3, \"SepalWidth\": 3.0, \"PetalLength\": 1.1, \"PetalWidth\": 0.1, \"Species\": \"Iris-setosa\"}, {\"SepalLength\": 5.8, \"SepalWidth\": 4.0, \"PetalLength\": 1.2, \"PetalWidth\": 0.2, \"Species\": \"Iris-setosa\"}, {\"SepalLength\": 5.7, \"SepalWidth\": 4.4, \"PetalLength\": 1.5, \"PetalWidth\": 0.4, \"Species\": \"Iris-setosa\"}, {\"SepalLength\": 5.4, \"SepalWidth\": 3.9, \"PetalLength\": 1.3, \"PetalWidth\": 0.4, \"Species\": \"Iris-setosa\"}, {\"SepalLength\": 5.1, \"SepalWidth\": 3.5, \"PetalLength\": 1.4, \"PetalWidth\": 0.3, \"Species\": \"Iris-setosa\"}, {\"SepalLength\": 5.7, \"SepalWidth\": 3.8, \"PetalLength\": 1.7, \"PetalWidth\": 0.3, \"Species\": \"Iris-setosa\"}, {\"SepalLength\": 5.1, \"SepalWidth\": 3.8, \"PetalLength\": 1.5, \"PetalWidth\": 0.3, \"Species\": \"Iris-setosa\"}, {\"SepalLength\": 5.4, \"SepalWidth\": 3.4, \"PetalLength\": 1.7, \"PetalWidth\": 0.2, \"Species\": \"Iris-setosa\"}, {\"SepalLength\": 5.1, \"SepalWidth\": 3.7, \"PetalLength\": 1.5, \"PetalWidth\": 0.4, \"Species\": \"Iris-setosa\"}, {\"SepalLength\": 4.6, \"SepalWidth\": 3.6, \"PetalLength\": 1.0, \"PetalWidth\": 0.2, \"Species\": \"Iris-setosa\"}, {\"SepalLength\": 5.1, \"SepalWidth\": 3.3, \"PetalLength\": 1.7, \"PetalWidth\": 0.5, \"Species\": \"Iris-setosa\"}, {\"SepalLength\": 4.8, \"SepalWidth\": 3.4, \"PetalLength\": 1.9, \"PetalWidth\": 0.2, \"Species\": \"Iris-setosa\"}, {\"SepalLength\": 5.0, \"SepalWidth\": 3.0, \"PetalLength\": 1.6, \"PetalWidth\": 0.2, \"Species\": \"Iris-setosa\"}, {\"SepalLength\": 5.0, \"SepalWidth\": 3.4, \"PetalLength\": 1.6, \"PetalWidth\": 0.4, \"Species\": \"Iris-setosa\"}, {\"SepalLength\": 5.2, \"SepalWidth\": 3.5, \"PetalLength\": 1.5, \"PetalWidth\": 0.2, \"Species\": \"Iris-setosa\"}, {\"SepalLength\": 5.2, \"SepalWidth\": 3.4, \"PetalLength\": 1.4, \"PetalWidth\": 0.2, \"Species\": \"Iris-setosa\"}, {\"SepalLength\": 4.7, \"SepalWidth\": 3.2, \"PetalLength\": 1.6, \"PetalWidth\": 0.2, \"Species\": \"Iris-setosa\"}, {\"SepalLength\": 4.8, \"SepalWidth\": 3.1, \"PetalLength\": 1.6, \"PetalWidth\": 0.2, \"Species\": \"Iris-setosa\"}, {\"SepalLength\": 5.4, \"SepalWidth\": 3.4, \"PetalLength\": 1.5, \"PetalWidth\": 0.4, \"Species\": \"Iris-setosa\"}, {\"SepalLength\": 5.2, \"SepalWidth\": 4.1, \"PetalLength\": 1.5, \"PetalWidth\": 0.1, \"Species\": \"Iris-setosa\"}, {\"SepalLength\": 5.5, \"SepalWidth\": 4.2, \"PetalLength\": 1.4, \"PetalWidth\": 0.2, \"Species\": \"Iris-setosa\"}, {\"SepalLength\": 4.9, \"SepalWidth\": 3.1, \"PetalLength\": 1.5, \"PetalWidth\": 0.2, \"Species\": \"Iris-setosa\"}, {\"SepalLength\": 5.0, \"SepalWidth\": 3.2, \"PetalLength\": 1.2, \"PetalWidth\": 0.2, \"Species\": \"Iris-setosa\"}, {\"SepalLength\": 5.5, \"SepalWidth\": 3.5, \"PetalLength\": 1.3, \"PetalWidth\": 0.2, \"Species\": \"Iris-setosa\"}, {\"SepalLength\": 4.9, \"SepalWidth\": 3.6, \"PetalLength\": 1.4, \"PetalWidth\": 0.1, \"Species\": \"Iris-setosa\"}, {\"SepalLength\": 4.4, \"SepalWidth\": 3.0, \"PetalLength\": 1.3, \"PetalWidth\": 0.2, \"Species\": \"Iris-setosa\"}, {\"SepalLength\": 5.1, \"SepalWidth\": 3.4, \"PetalLength\": 1.5, \"PetalWidth\": 0.2, \"Species\": \"Iris-setosa\"}, {\"SepalLength\": 5.0, \"SepalWidth\": 3.5, \"PetalLength\": 1.3, \"PetalWidth\": 0.3, \"Species\": \"Iris-setosa\"}, {\"SepalLength\": 4.5, \"SepalWidth\": 2.3, \"PetalLength\": 1.3, \"PetalWidth\": 0.3, \"Species\": \"Iris-setosa\"}, {\"SepalLength\": 4.4, \"SepalWidth\": 3.2, \"PetalLength\": 1.3, \"PetalWidth\": 0.2, \"Species\": \"Iris-setosa\"}, {\"SepalLength\": 5.0, \"SepalWidth\": 3.5, \"PetalLength\": 1.6, \"PetalWidth\": 0.6, \"Species\": \"Iris-setosa\"}, {\"SepalLength\": 5.1, \"SepalWidth\": 3.8, \"PetalLength\": 1.9, \"PetalWidth\": 0.4, \"Species\": \"Iris-setosa\"}, {\"SepalLength\": 4.8, \"SepalWidth\": 3.0, \"PetalLength\": 1.4, \"PetalWidth\": 0.3, \"Species\": \"Iris-setosa\"}, {\"SepalLength\": 5.1, \"SepalWidth\": 3.8, \"PetalLength\": 1.6, \"PetalWidth\": 0.2, \"Species\": \"Iris-setosa\"}, {\"SepalLength\": 4.6, \"SepalWidth\": 3.2, \"PetalLength\": 1.4, \"PetalWidth\": 0.2, \"Species\": \"Iris-setosa\"}, {\"SepalLength\": 5.3, \"SepalWidth\": 3.7, \"PetalLength\": 1.5, \"PetalWidth\": 0.2, \"Species\": \"Iris-setosa\"}, {\"SepalLength\": 5.0, \"SepalWidth\": 3.3, \"PetalLength\": 1.4, \"PetalWidth\": 0.2, \"Species\": \"Iris-setosa\"}, {\"SepalLength\": 7.0, \"SepalWidth\": 3.2, \"PetalLength\": 4.7, \"PetalWidth\": 1.4, \"Species\": \"Iris-versicolor\"}, {\"SepalLength\": 6.4, \"SepalWidth\": 3.2, \"PetalLength\": 4.5, \"PetalWidth\": 1.5, \"Species\": \"Iris-versicolor\"}, {\"SepalLength\": 6.9, \"SepalWidth\": 3.1, \"PetalLength\": 4.9, \"PetalWidth\": 1.5, \"Species\": \"Iris-versicolor\"}, {\"SepalLength\": 5.5, \"SepalWidth\": 2.3, \"PetalLength\": 4.0, \"PetalWidth\": 1.3, \"Species\": \"Iris-versicolor\"}, {\"SepalLength\": 6.5, \"SepalWidth\": 2.8, \"PetalLength\": 4.6, \"PetalWidth\": 1.5, \"Species\": \"Iris-versicolor\"}, {\"SepalLength\": 5.7, \"SepalWidth\": 2.8, \"PetalLength\": 4.5, \"PetalWidth\": 1.3, \"Species\": \"Iris-versicolor\"}, {\"SepalLength\": 6.3, \"SepalWidth\": 3.3, \"PetalLength\": 4.7, \"PetalWidth\": 1.6, \"Species\": \"Iris-versicolor\"}, {\"SepalLength\": 4.9, \"SepalWidth\": 2.4, \"PetalLength\": 3.3, \"PetalWidth\": 1.0, \"Species\": \"Iris-versicolor\"}, {\"SepalLength\": 6.6, \"SepalWidth\": 2.9, \"PetalLength\": 4.6, \"PetalWidth\": 1.3, \"Species\": \"Iris-versicolor\"}, {\"SepalLength\": 5.2, \"SepalWidth\": 2.7, \"PetalLength\": 3.9, \"PetalWidth\": 1.4, \"Species\": \"Iris-versicolor\"}, {\"SepalLength\": 5.0, \"SepalWidth\": 2.0, \"PetalLength\": 3.5, \"PetalWidth\": 1.0, \"Species\": \"Iris-versicolor\"}, {\"SepalLength\": 5.9, \"SepalWidth\": 3.0, \"PetalLength\": 4.2, \"PetalWidth\": 1.5, \"Species\": \"Iris-versicolor\"}, {\"SepalLength\": 6.0, \"SepalWidth\": 2.2, \"PetalLength\": 4.0, \"PetalWidth\": 1.0, \"Species\": \"Iris-versicolor\"}, {\"SepalLength\": 6.1, \"SepalWidth\": 2.9, \"PetalLength\": 4.7, \"PetalWidth\": 1.4, \"Species\": \"Iris-versicolor\"}, {\"SepalLength\": 5.6, \"SepalWidth\": 2.9, \"PetalLength\": 3.6, \"PetalWidth\": 1.3, \"Species\": \"Iris-versicolor\"}, {\"SepalLength\": 6.7, \"SepalWidth\": 3.1, \"PetalLength\": 4.4, \"PetalWidth\": 1.4, \"Species\": \"Iris-versicolor\"}, {\"SepalLength\": 5.6, \"SepalWidth\": 3.0, \"PetalLength\": 4.5, \"PetalWidth\": 1.5, \"Species\": \"Iris-versicolor\"}, {\"SepalLength\": 5.8, \"SepalWidth\": 2.7, \"PetalLength\": 4.1, \"PetalWidth\": 1.0, \"Species\": \"Iris-versicolor\"}, {\"SepalLength\": 6.2, \"SepalWidth\": 2.2, \"PetalLength\": 4.5, \"PetalWidth\": 1.5, \"Species\": \"Iris-versicolor\"}, {\"SepalLength\": 5.6, \"SepalWidth\": 2.5, \"PetalLength\": 3.9, \"PetalWidth\": 1.1, \"Species\": \"Iris-versicolor\"}, {\"SepalLength\": 5.9, \"SepalWidth\": 3.2, \"PetalLength\": 4.8, \"PetalWidth\": 1.8, \"Species\": \"Iris-versicolor\"}, {\"SepalLength\": 6.1, \"SepalWidth\": 2.8, \"PetalLength\": 4.0, \"PetalWidth\": 1.3, \"Species\": \"Iris-versicolor\"}, {\"SepalLength\": 6.3, \"SepalWidth\": 2.5, \"PetalLength\": 4.9, \"PetalWidth\": 1.5, \"Species\": \"Iris-versicolor\"}, {\"SepalLength\": 6.1, \"SepalWidth\": 2.8, \"PetalLength\": 4.7, \"PetalWidth\": 1.2, \"Species\": \"Iris-versicolor\"}, {\"SepalLength\": 6.4, \"SepalWidth\": 2.9, \"PetalLength\": 4.3, \"PetalWidth\": 1.3, \"Species\": \"Iris-versicolor\"}, {\"SepalLength\": 6.6, \"SepalWidth\": 3.0, \"PetalLength\": 4.4, \"PetalWidth\": 1.4, \"Species\": \"Iris-versicolor\"}, {\"SepalLength\": 6.8, \"SepalWidth\": 2.8, \"PetalLength\": 4.8, \"PetalWidth\": 1.4, \"Species\": \"Iris-versicolor\"}, {\"SepalLength\": 6.7, \"SepalWidth\": 3.0, \"PetalLength\": 5.0, \"PetalWidth\": 1.7, \"Species\": \"Iris-versicolor\"}, {\"SepalLength\": 6.0, \"SepalWidth\": 2.9, \"PetalLength\": 4.5, \"PetalWidth\": 1.5, \"Species\": \"Iris-versicolor\"}, {\"SepalLength\": 5.7, \"SepalWidth\": 2.6, \"PetalLength\": 3.5, \"PetalWidth\": 1.0, \"Species\": \"Iris-versicolor\"}, {\"SepalLength\": 5.5, \"SepalWidth\": 2.4, \"PetalLength\": 3.8, \"PetalWidth\": 1.1, \"Species\": \"Iris-versicolor\"}, {\"SepalLength\": 5.5, \"SepalWidth\": 2.4, \"PetalLength\": 3.7, \"PetalWidth\": 1.0, \"Species\": \"Iris-versicolor\"}, {\"SepalLength\": 5.8, \"SepalWidth\": 2.7, \"PetalLength\": 3.9, \"PetalWidth\": 1.2, \"Species\": \"Iris-versicolor\"}, {\"SepalLength\": 6.0, \"SepalWidth\": 2.7, \"PetalLength\": 5.1, \"PetalWidth\": 1.6, \"Species\": \"Iris-versicolor\"}, {\"SepalLength\": 5.4, \"SepalWidth\": 3.0, \"PetalLength\": 4.5, \"PetalWidth\": 1.5, \"Species\": \"Iris-versicolor\"}, {\"SepalLength\": 6.0, \"SepalWidth\": 3.4, \"PetalLength\": 4.5, \"PetalWidth\": 1.6, \"Species\": \"Iris-versicolor\"}, {\"SepalLength\": 6.7, \"SepalWidth\": 3.1, \"PetalLength\": 4.7, \"PetalWidth\": 1.5, \"Species\": \"Iris-versicolor\"}, {\"SepalLength\": 6.3, \"SepalWidth\": 2.3, \"PetalLength\": 4.4, \"PetalWidth\": 1.3, \"Species\": \"Iris-versicolor\"}, {\"SepalLength\": 5.6, \"SepalWidth\": 3.0, \"PetalLength\": 4.1, \"PetalWidth\": 1.3, \"Species\": \"Iris-versicolor\"}, {\"SepalLength\": 5.5, \"SepalWidth\": 2.5, \"PetalLength\": 4.0, \"PetalWidth\": 1.3, \"Species\": \"Iris-versicolor\"}, {\"SepalLength\": 5.5, \"SepalWidth\": 2.6, \"PetalLength\": 4.4, \"PetalWidth\": 1.2, \"Species\": \"Iris-versicolor\"}, {\"SepalLength\": 6.1, \"SepalWidth\": 3.0, \"PetalLength\": 4.6, \"PetalWidth\": 1.4, \"Species\": \"Iris-versicolor\"}, {\"SepalLength\": 5.8, \"SepalWidth\": 2.6, \"PetalLength\": 4.0, \"PetalWidth\": 1.2, \"Species\": \"Iris-versicolor\"}, {\"SepalLength\": 5.0, \"SepalWidth\": 2.3, \"PetalLength\": 3.3, \"PetalWidth\": 1.0, \"Species\": \"Iris-versicolor\"}, {\"SepalLength\": 5.6, \"SepalWidth\": 2.7, \"PetalLength\": 4.2, \"PetalWidth\": 1.3, \"Species\": \"Iris-versicolor\"}, {\"SepalLength\": 5.7, \"SepalWidth\": 3.0, \"PetalLength\": 4.2, \"PetalWidth\": 1.2, \"Species\": \"Iris-versicolor\"}, {\"SepalLength\": 5.7, \"SepalWidth\": 2.9, \"PetalLength\": 4.2, \"PetalWidth\": 1.3, \"Species\": \"Iris-versicolor\"}, {\"SepalLength\": 6.2, \"SepalWidth\": 2.9, \"PetalLength\": 4.3, \"PetalWidth\": 1.3, \"Species\": \"Iris-versicolor\"}, {\"SepalLength\": 5.1, \"SepalWidth\": 2.5, \"PetalLength\": 3.0, \"PetalWidth\": 1.1, \"Species\": \"Iris-versicolor\"}, {\"SepalLength\": 5.7, \"SepalWidth\": 2.8, \"PetalLength\": 4.1, \"PetalWidth\": 1.3, \"Species\": \"Iris-versicolor\"}, {\"SepalLength\": 6.3, \"SepalWidth\": 3.3, \"PetalLength\": 6.0, \"PetalWidth\": 2.5, \"Species\": \"Iris-virginica\"}, {\"SepalLength\": 5.8, \"SepalWidth\": 2.7, \"PetalLength\": 5.1, \"PetalWidth\": 1.9, \"Species\": \"Iris-virginica\"}, {\"SepalLength\": 7.1, \"SepalWidth\": 3.0, \"PetalLength\": 5.9, \"PetalWidth\": 2.1, \"Species\": \"Iris-virginica\"}, {\"SepalLength\": 6.3, \"SepalWidth\": 2.9, \"PetalLength\": 5.6, \"PetalWidth\": 1.8, \"Species\": \"Iris-virginica\"}, {\"SepalLength\": 6.5, \"SepalWidth\": 3.0, \"PetalLength\": 5.8, \"PetalWidth\": 2.2, \"Species\": \"Iris-virginica\"}, {\"SepalLength\": 7.6, \"SepalWidth\": 3.0, \"PetalLength\": 6.6, \"PetalWidth\": 2.1, \"Species\": \"Iris-virginica\"}, {\"SepalLength\": 4.9, \"SepalWidth\": 2.5, \"PetalLength\": 4.5, \"PetalWidth\": 1.7, \"Species\": \"Iris-virginica\"}, {\"SepalLength\": 7.3, \"SepalWidth\": 2.9, \"PetalLength\": 6.3, \"PetalWidth\": 1.8, \"Species\": \"Iris-virginica\"}, {\"SepalLength\": 6.7, \"SepalWidth\": 2.5, \"PetalLength\": 5.8, \"PetalWidth\": 1.8, \"Species\": \"Iris-virginica\"}, {\"SepalLength\": 7.2, \"SepalWidth\": 3.6, \"PetalLength\": 6.1, \"PetalWidth\": 2.5, \"Species\": \"Iris-virginica\"}, {\"SepalLength\": 6.5, \"SepalWidth\": 3.2, \"PetalLength\": 5.1, \"PetalWidth\": 2.0, \"Species\": \"Iris-virginica\"}, {\"SepalLength\": 6.4, \"SepalWidth\": 2.7, \"PetalLength\": 5.3, \"PetalWidth\": 1.9, \"Species\": \"Iris-virginica\"}, {\"SepalLength\": 6.8, \"SepalWidth\": 3.0, \"PetalLength\": 5.5, \"PetalWidth\": 2.1, \"Species\": \"Iris-virginica\"}, {\"SepalLength\": 5.7, \"SepalWidth\": 2.5, \"PetalLength\": 5.0, \"PetalWidth\": 2.0, \"Species\": \"Iris-virginica\"}, {\"SepalLength\": 5.8, \"SepalWidth\": 2.8, \"PetalLength\": 5.1, \"PetalWidth\": 2.4, \"Species\": \"Iris-virginica\"}, {\"SepalLength\": 6.4, \"SepalWidth\": 3.2, \"PetalLength\": 5.3, \"PetalWidth\": 2.3, \"Species\": \"Iris-virginica\"}, {\"SepalLength\": 6.5, \"SepalWidth\": 3.0, \"PetalLength\": 5.5, \"PetalWidth\": 1.8, \"Species\": \"Iris-virginica\"}, {\"SepalLength\": 7.7, \"SepalWidth\": 3.8, \"PetalLength\": 6.7, \"PetalWidth\": 2.2, \"Species\": \"Iris-virginica\"}, {\"SepalLength\": 7.7, \"SepalWidth\": 2.6, \"PetalLength\": 6.9, \"PetalWidth\": 2.3, \"Species\": \"Iris-virginica\"}, {\"SepalLength\": 6.0, \"SepalWidth\": 2.2, \"PetalLength\": 5.0, \"PetalWidth\": 1.5, \"Species\": \"Iris-virginica\"}, {\"SepalLength\": 6.9, \"SepalWidth\": 3.2, \"PetalLength\": 5.7, \"PetalWidth\": 2.3, \"Species\": \"Iris-virginica\"}, {\"SepalLength\": 5.6, \"SepalWidth\": 2.8, \"PetalLength\": 4.9, \"PetalWidth\": 2.0, \"Species\": \"Iris-virginica\"}, {\"SepalLength\": 7.7, \"SepalWidth\": 2.8, \"PetalLength\": 6.7, \"PetalWidth\": 2.0, \"Species\": \"Iris-virginica\"}, {\"SepalLength\": 6.3, \"SepalWidth\": 2.7, \"PetalLength\": 4.9, \"PetalWidth\": 1.8, \"Species\": \"Iris-virginica\"}, {\"SepalLength\": 6.7, \"SepalWidth\": 3.3, \"PetalLength\": 5.7, \"PetalWidth\": 2.1, \"Species\": \"Iris-virginica\"}, {\"SepalLength\": 7.2, \"SepalWidth\": 3.2, \"PetalLength\": 6.0, \"PetalWidth\": 1.8, \"Species\": \"Iris-virginica\"}, {\"SepalLength\": 6.2, \"SepalWidth\": 2.8, \"PetalLength\": 4.8, \"PetalWidth\": 1.8, \"Species\": \"Iris-virginica\"}, {\"SepalLength\": 6.1, \"SepalWidth\": 3.0, \"PetalLength\": 4.9, \"PetalWidth\": 1.8, \"Species\": \"Iris-virginica\"}, {\"SepalLength\": 6.4, \"SepalWidth\": 2.8, \"PetalLength\": 5.6, \"PetalWidth\": 2.1, \"Species\": \"Iris-virginica\"}, {\"SepalLength\": 7.2, \"SepalWidth\": 3.0, \"PetalLength\": 5.8, \"PetalWidth\": 1.6, \"Species\": \"Iris-virginica\"}, {\"SepalLength\": 7.4, \"SepalWidth\": 2.8, \"PetalLength\": 6.1, \"PetalWidth\": 1.9, \"Species\": \"Iris-virginica\"}, {\"SepalLength\": 7.9, \"SepalWidth\": 3.8, \"PetalLength\": 6.4, \"PetalWidth\": 2.0, \"Species\": \"Iris-virginica\"}, {\"SepalLength\": 6.4, \"SepalWidth\": 2.8, \"PetalLength\": 5.6, \"PetalWidth\": 2.2, \"Species\": \"Iris-virginica\"}, {\"SepalLength\": 6.3, \"SepalWidth\": 2.8, \"PetalLength\": 5.1, \"PetalWidth\": 1.5, \"Species\": \"Iris-virginica\"}, {\"SepalLength\": 6.1, \"SepalWidth\": 2.6, \"PetalLength\": 5.6, \"PetalWidth\": 1.4, \"Species\": \"Iris-virginica\"}, {\"SepalLength\": 7.7, \"SepalWidth\": 3.0, \"PetalLength\": 6.1, \"PetalWidth\": 2.3, \"Species\": \"Iris-virginica\"}, {\"SepalLength\": 6.3, \"SepalWidth\": 3.4, \"PetalLength\": 5.6, \"PetalWidth\": 2.4, \"Species\": \"Iris-virginica\"}, {\"SepalLength\": 6.4, \"SepalWidth\": 3.1, \"PetalLength\": 5.5, \"PetalWidth\": 1.8, \"Species\": \"Iris-virginica\"}, {\"SepalLength\": 6.0, \"SepalWidth\": 3.0, \"PetalLength\": 4.8, \"PetalWidth\": 1.8, \"Species\": \"Iris-virginica\"}, {\"SepalLength\": 6.9, \"SepalWidth\": 3.1, \"PetalLength\": 5.4, \"PetalWidth\": 2.1, \"Species\": \"Iris-virginica\"}, {\"SepalLength\": 6.7, \"SepalWidth\": 3.1, \"PetalLength\": 5.6, \"PetalWidth\": 2.4, \"Species\": \"Iris-virginica\"}, {\"SepalLength\": 6.9, \"SepalWidth\": 3.1, \"PetalLength\": 5.1, \"PetalWidth\": 2.3, \"Species\": \"Iris-virginica\"}, {\"SepalLength\": 5.8, \"SepalWidth\": 2.7, \"PetalLength\": 5.1, \"PetalWidth\": 1.9, \"Species\": \"Iris-virginica\"}, {\"SepalLength\": 6.8, \"SepalWidth\": 3.2, \"PetalLength\": 5.9, \"PetalWidth\": 2.3, \"Species\": \"Iris-virginica\"}, {\"SepalLength\": 6.7, \"SepalWidth\": 3.3, \"PetalLength\": 5.7, \"PetalWidth\": 2.5, \"Species\": \"Iris-virginica\"}, {\"SepalLength\": 6.7, \"SepalWidth\": 3.0, \"PetalLength\": 5.2, \"PetalWidth\": 2.3, \"Species\": \"Iris-virginica\"}, {\"SepalLength\": 6.3, \"SepalWidth\": 2.5, \"PetalLength\": 5.0, \"PetalWidth\": 1.9, \"Species\": \"Iris-virginica\"}, {\"SepalLength\": 6.5, \"SepalWidth\": 3.0, \"PetalLength\": 5.2, \"PetalWidth\": 2.0, \"Species\": \"Iris-virginica\"}, {\"SepalLength\": 6.2, \"SepalWidth\": 3.4, \"PetalLength\": 5.4, \"PetalWidth\": 2.3, \"Species\": \"Iris-virginica\"}, {\"SepalLength\": 5.9, \"SepalWidth\": 3.0, \"PetalLength\": 5.1, \"PetalWidth\": 1.8, \"Species\": \"Iris-virginica\"}]}}, {\"mode\": \"vega-lite\"});\n",
       "</script>"
      ],
      "text/plain": [
       "alt.Chart(...)"
      ]
     },
     "execution_count": 8,
     "metadata": {},
     "output_type": "execute_result"
    }
   ],
   "source": [
    "alt.Chart(iris).transform_fold(\n",
    "    ['PetalWidth',\n",
    "     'PetalLength',\n",
    "     'SepalWidth',\n",
    "     'SepalLength'],\n",
    "    as_ = ['Measurement_type', 'value']\n",
    ").transform_density(\n",
    "    density='value',\n",
    "    bandwidth=0.3,\n",
    "    groupby=['Measurement_type'],\n",
    "    extent= [0, 8],\n",
    "    counts = True,\n",
    "    steps=200\n",
    ").mark_area().encode(\n",
    "    alt.X('value:Q'),\n",
    "    alt.Y('density:Q', stack='zero'),\n",
    "    alt.Color('Measurement_type:N')\n",
    ").properties(width=400, height=100)"
   ]
  },
  {
   "cell_type": "code",
   "execution_count": 9,
   "metadata": {},
   "outputs": [
    {
     "data": {
      "text/html": [
       "\n",
       "<div id=\"altair-viz-d3dd8be0d7d74fbd8d1c60c579a222e9\"></div>\n",
       "<script type=\"text/javascript\">\n",
       "  (function(spec, embedOpt){\n",
       "    let outputDiv = document.currentScript.previousElementSibling;\n",
       "    if (outputDiv.id !== \"altair-viz-d3dd8be0d7d74fbd8d1c60c579a222e9\") {\n",
       "      outputDiv = document.getElementById(\"altair-viz-d3dd8be0d7d74fbd8d1c60c579a222e9\");\n",
       "    }\n",
       "    const paths = {\n",
       "      \"vega\": \"https://cdn.jsdelivr.net/npm//vega@5?noext\",\n",
       "      \"vega-lib\": \"https://cdn.jsdelivr.net/npm//vega-lib?noext\",\n",
       "      \"vega-lite\": \"https://cdn.jsdelivr.net/npm//vega-lite@4.8.1?noext\",\n",
       "      \"vega-embed\": \"https://cdn.jsdelivr.net/npm//vega-embed@6?noext\",\n",
       "    };\n",
       "\n",
       "    function loadScript(lib) {\n",
       "      return new Promise(function(resolve, reject) {\n",
       "        var s = document.createElement('script');\n",
       "        s.src = paths[lib];\n",
       "        s.async = true;\n",
       "        s.onload = () => resolve(paths[lib]);\n",
       "        s.onerror = () => reject(`Error loading script: ${paths[lib]}`);\n",
       "        document.getElementsByTagName(\"head\")[0].appendChild(s);\n",
       "      });\n",
       "    }\n",
       "\n",
       "    function showError(err) {\n",
       "      outputDiv.innerHTML = `<div class=\"error\" style=\"color:red;\">${err}</div>`;\n",
       "      throw err;\n",
       "    }\n",
       "\n",
       "    function displayChart(vegaEmbed) {\n",
       "      vegaEmbed(outputDiv, spec, embedOpt)\n",
       "        .catch(err => showError(`Javascript Error: ${err.message}<br>This usually means there's a typo in your chart specification. See the javascript console for the full traceback.`));\n",
       "    }\n",
       "\n",
       "    if(typeof define === \"function\" && define.amd) {\n",
       "      requirejs.config({paths});\n",
       "      require([\"vega-embed\"], displayChart, err => showError(`Error loading script: ${err.message}`));\n",
       "    } else if (typeof vegaEmbed === \"function\") {\n",
       "      displayChart(vegaEmbed);\n",
       "    } else {\n",
       "      loadScript(\"vega\")\n",
       "        .then(() => loadScript(\"vega-lite\"))\n",
       "        .then(() => loadScript(\"vega-embed\"))\n",
       "        .catch(showError)\n",
       "        .then(() => displayChart(vegaEmbed));\n",
       "    }\n",
       "  })({\"config\": {\"view\": {\"continuousWidth\": 400, \"continuousHeight\": 300}}, \"data\": {\"name\": \"data-17573b73165b324fe49516a27bcc2ed5\"}, \"mark\": {\"type\": \"area\", \"interpolate\": \"monotone\"}, \"encoding\": {\"color\": {\"type\": \"nominal\", \"field\": \"Species\"}, \"facet\": {\"type\": \"nominal\", \"field\": \"Species\", \"title\": null}, \"x\": {\"type\": \"quantitative\", \"field\": \"SepalLength\"}, \"y\": {\"type\": \"quantitative\", \"aggregate\": \"count\", \"field\": \"SepalLength\"}}, \"height\": 150, \"transform\": [{\"filter\": {\"field\": \"SepalLength\", \"range\": [0, 5.5]}}], \"width\": 200, \"$schema\": \"https://vega.github.io/schema/vega-lite/v4.8.1.json\", \"datasets\": {\"data-17573b73165b324fe49516a27bcc2ed5\": [{\"SepalLength\": 5.1, \"SepalWidth\": 3.5, \"PetalLength\": 1.4, \"PetalWidth\": 0.2, \"Species\": \"Iris-setosa\"}, {\"SepalLength\": 4.9, \"SepalWidth\": 3.0, \"PetalLength\": 1.4, \"PetalWidth\": 0.2, \"Species\": \"Iris-setosa\"}, {\"SepalLength\": 4.7, \"SepalWidth\": 3.2, \"PetalLength\": 1.3, \"PetalWidth\": 0.2, \"Species\": \"Iris-setosa\"}, {\"SepalLength\": 4.6, \"SepalWidth\": 3.1, \"PetalLength\": 1.5, \"PetalWidth\": 0.2, \"Species\": \"Iris-setosa\"}, {\"SepalLength\": 5.0, \"SepalWidth\": 3.6, \"PetalLength\": 1.4, \"PetalWidth\": 0.2, \"Species\": \"Iris-setosa\"}, {\"SepalLength\": 5.4, \"SepalWidth\": 3.9, \"PetalLength\": 1.7, \"PetalWidth\": 0.4, \"Species\": \"Iris-setosa\"}, {\"SepalLength\": 4.6, \"SepalWidth\": 3.4, \"PetalLength\": 1.4, \"PetalWidth\": 0.3, \"Species\": \"Iris-setosa\"}, {\"SepalLength\": 5.0, \"SepalWidth\": 3.4, \"PetalLength\": 1.5, \"PetalWidth\": 0.2, \"Species\": \"Iris-setosa\"}, {\"SepalLength\": 4.4, \"SepalWidth\": 2.9, \"PetalLength\": 1.4, \"PetalWidth\": 0.2, \"Species\": \"Iris-setosa\"}, {\"SepalLength\": 4.9, \"SepalWidth\": 3.1, \"PetalLength\": 1.5, \"PetalWidth\": 0.1, \"Species\": \"Iris-setosa\"}, {\"SepalLength\": 5.4, \"SepalWidth\": 3.7, \"PetalLength\": 1.5, \"PetalWidth\": 0.2, \"Species\": \"Iris-setosa\"}, {\"SepalLength\": 4.8, \"SepalWidth\": 3.4, \"PetalLength\": 1.6, \"PetalWidth\": 0.2, \"Species\": \"Iris-setosa\"}, {\"SepalLength\": 4.8, \"SepalWidth\": 3.0, \"PetalLength\": 1.4, \"PetalWidth\": 0.1, \"Species\": \"Iris-setosa\"}, {\"SepalLength\": 4.3, \"SepalWidth\": 3.0, \"PetalLength\": 1.1, \"PetalWidth\": 0.1, \"Species\": \"Iris-setosa\"}, {\"SepalLength\": 5.8, \"SepalWidth\": 4.0, \"PetalLength\": 1.2, \"PetalWidth\": 0.2, \"Species\": \"Iris-setosa\"}, {\"SepalLength\": 5.7, \"SepalWidth\": 4.4, \"PetalLength\": 1.5, \"PetalWidth\": 0.4, \"Species\": \"Iris-setosa\"}, {\"SepalLength\": 5.4, \"SepalWidth\": 3.9, \"PetalLength\": 1.3, \"PetalWidth\": 0.4, \"Species\": \"Iris-setosa\"}, {\"SepalLength\": 5.1, \"SepalWidth\": 3.5, \"PetalLength\": 1.4, \"PetalWidth\": 0.3, \"Species\": \"Iris-setosa\"}, {\"SepalLength\": 5.7, \"SepalWidth\": 3.8, \"PetalLength\": 1.7, \"PetalWidth\": 0.3, \"Species\": \"Iris-setosa\"}, {\"SepalLength\": 5.1, \"SepalWidth\": 3.8, \"PetalLength\": 1.5, \"PetalWidth\": 0.3, \"Species\": \"Iris-setosa\"}, {\"SepalLength\": 5.4, \"SepalWidth\": 3.4, \"PetalLength\": 1.7, \"PetalWidth\": 0.2, \"Species\": \"Iris-setosa\"}, {\"SepalLength\": 5.1, \"SepalWidth\": 3.7, \"PetalLength\": 1.5, \"PetalWidth\": 0.4, \"Species\": \"Iris-setosa\"}, {\"SepalLength\": 4.6, \"SepalWidth\": 3.6, \"PetalLength\": 1.0, \"PetalWidth\": 0.2, \"Species\": \"Iris-setosa\"}, {\"SepalLength\": 5.1, \"SepalWidth\": 3.3, \"PetalLength\": 1.7, \"PetalWidth\": 0.5, \"Species\": \"Iris-setosa\"}, {\"SepalLength\": 4.8, \"SepalWidth\": 3.4, \"PetalLength\": 1.9, \"PetalWidth\": 0.2, \"Species\": \"Iris-setosa\"}, {\"SepalLength\": 5.0, \"SepalWidth\": 3.0, \"PetalLength\": 1.6, \"PetalWidth\": 0.2, \"Species\": \"Iris-setosa\"}, {\"SepalLength\": 5.0, \"SepalWidth\": 3.4, \"PetalLength\": 1.6, \"PetalWidth\": 0.4, \"Species\": \"Iris-setosa\"}, {\"SepalLength\": 5.2, \"SepalWidth\": 3.5, \"PetalLength\": 1.5, \"PetalWidth\": 0.2, \"Species\": \"Iris-setosa\"}, {\"SepalLength\": 5.2, \"SepalWidth\": 3.4, \"PetalLength\": 1.4, \"PetalWidth\": 0.2, \"Species\": \"Iris-setosa\"}, {\"SepalLength\": 4.7, \"SepalWidth\": 3.2, \"PetalLength\": 1.6, \"PetalWidth\": 0.2, \"Species\": \"Iris-setosa\"}, {\"SepalLength\": 4.8, \"SepalWidth\": 3.1, \"PetalLength\": 1.6, \"PetalWidth\": 0.2, \"Species\": \"Iris-setosa\"}, {\"SepalLength\": 5.4, \"SepalWidth\": 3.4, \"PetalLength\": 1.5, \"PetalWidth\": 0.4, \"Species\": \"Iris-setosa\"}, {\"SepalLength\": 5.2, \"SepalWidth\": 4.1, \"PetalLength\": 1.5, \"PetalWidth\": 0.1, \"Species\": \"Iris-setosa\"}, {\"SepalLength\": 5.5, \"SepalWidth\": 4.2, \"PetalLength\": 1.4, \"PetalWidth\": 0.2, \"Species\": \"Iris-setosa\"}, {\"SepalLength\": 4.9, \"SepalWidth\": 3.1, \"PetalLength\": 1.5, \"PetalWidth\": 0.2, \"Species\": \"Iris-setosa\"}, {\"SepalLength\": 5.0, \"SepalWidth\": 3.2, \"PetalLength\": 1.2, \"PetalWidth\": 0.2, \"Species\": \"Iris-setosa\"}, {\"SepalLength\": 5.5, \"SepalWidth\": 3.5, \"PetalLength\": 1.3, \"PetalWidth\": 0.2, \"Species\": \"Iris-setosa\"}, {\"SepalLength\": 4.9, \"SepalWidth\": 3.6, \"PetalLength\": 1.4, \"PetalWidth\": 0.1, \"Species\": \"Iris-setosa\"}, {\"SepalLength\": 4.4, \"SepalWidth\": 3.0, \"PetalLength\": 1.3, \"PetalWidth\": 0.2, \"Species\": \"Iris-setosa\"}, {\"SepalLength\": 5.1, \"SepalWidth\": 3.4, \"PetalLength\": 1.5, \"PetalWidth\": 0.2, \"Species\": \"Iris-setosa\"}, {\"SepalLength\": 5.0, \"SepalWidth\": 3.5, \"PetalLength\": 1.3, \"PetalWidth\": 0.3, \"Species\": \"Iris-setosa\"}, {\"SepalLength\": 4.5, \"SepalWidth\": 2.3, \"PetalLength\": 1.3, \"PetalWidth\": 0.3, \"Species\": \"Iris-setosa\"}, {\"SepalLength\": 4.4, \"SepalWidth\": 3.2, \"PetalLength\": 1.3, \"PetalWidth\": 0.2, \"Species\": \"Iris-setosa\"}, {\"SepalLength\": 5.0, \"SepalWidth\": 3.5, \"PetalLength\": 1.6, \"PetalWidth\": 0.6, \"Species\": \"Iris-setosa\"}, {\"SepalLength\": 5.1, \"SepalWidth\": 3.8, \"PetalLength\": 1.9, \"PetalWidth\": 0.4, \"Species\": \"Iris-setosa\"}, {\"SepalLength\": 4.8, \"SepalWidth\": 3.0, \"PetalLength\": 1.4, \"PetalWidth\": 0.3, \"Species\": \"Iris-setosa\"}, {\"SepalLength\": 5.1, \"SepalWidth\": 3.8, \"PetalLength\": 1.6, \"PetalWidth\": 0.2, \"Species\": \"Iris-setosa\"}, {\"SepalLength\": 4.6, \"SepalWidth\": 3.2, \"PetalLength\": 1.4, \"PetalWidth\": 0.2, \"Species\": \"Iris-setosa\"}, {\"SepalLength\": 5.3, \"SepalWidth\": 3.7, \"PetalLength\": 1.5, \"PetalWidth\": 0.2, \"Species\": \"Iris-setosa\"}, {\"SepalLength\": 5.0, \"SepalWidth\": 3.3, \"PetalLength\": 1.4, \"PetalWidth\": 0.2, \"Species\": \"Iris-setosa\"}, {\"SepalLength\": 7.0, \"SepalWidth\": 3.2, \"PetalLength\": 4.7, \"PetalWidth\": 1.4, \"Species\": \"Iris-versicolor\"}, {\"SepalLength\": 6.4, \"SepalWidth\": 3.2, \"PetalLength\": 4.5, \"PetalWidth\": 1.5, \"Species\": \"Iris-versicolor\"}, {\"SepalLength\": 6.9, \"SepalWidth\": 3.1, \"PetalLength\": 4.9, \"PetalWidth\": 1.5, \"Species\": \"Iris-versicolor\"}, {\"SepalLength\": 5.5, \"SepalWidth\": 2.3, \"PetalLength\": 4.0, \"PetalWidth\": 1.3, \"Species\": \"Iris-versicolor\"}, {\"SepalLength\": 6.5, \"SepalWidth\": 2.8, \"PetalLength\": 4.6, \"PetalWidth\": 1.5, \"Species\": \"Iris-versicolor\"}, {\"SepalLength\": 5.7, \"SepalWidth\": 2.8, \"PetalLength\": 4.5, \"PetalWidth\": 1.3, \"Species\": \"Iris-versicolor\"}, {\"SepalLength\": 6.3, \"SepalWidth\": 3.3, \"PetalLength\": 4.7, \"PetalWidth\": 1.6, \"Species\": \"Iris-versicolor\"}, {\"SepalLength\": 4.9, \"SepalWidth\": 2.4, \"PetalLength\": 3.3, \"PetalWidth\": 1.0, \"Species\": \"Iris-versicolor\"}, {\"SepalLength\": 6.6, \"SepalWidth\": 2.9, \"PetalLength\": 4.6, \"PetalWidth\": 1.3, \"Species\": \"Iris-versicolor\"}, {\"SepalLength\": 5.2, \"SepalWidth\": 2.7, \"PetalLength\": 3.9, \"PetalWidth\": 1.4, \"Species\": \"Iris-versicolor\"}, {\"SepalLength\": 5.0, \"SepalWidth\": 2.0, \"PetalLength\": 3.5, \"PetalWidth\": 1.0, \"Species\": \"Iris-versicolor\"}, {\"SepalLength\": 5.9, \"SepalWidth\": 3.0, \"PetalLength\": 4.2, \"PetalWidth\": 1.5, \"Species\": \"Iris-versicolor\"}, {\"SepalLength\": 6.0, \"SepalWidth\": 2.2, \"PetalLength\": 4.0, \"PetalWidth\": 1.0, \"Species\": \"Iris-versicolor\"}, {\"SepalLength\": 6.1, \"SepalWidth\": 2.9, \"PetalLength\": 4.7, \"PetalWidth\": 1.4, \"Species\": \"Iris-versicolor\"}, {\"SepalLength\": 5.6, \"SepalWidth\": 2.9, \"PetalLength\": 3.6, \"PetalWidth\": 1.3, \"Species\": \"Iris-versicolor\"}, {\"SepalLength\": 6.7, \"SepalWidth\": 3.1, \"PetalLength\": 4.4, \"PetalWidth\": 1.4, \"Species\": \"Iris-versicolor\"}, {\"SepalLength\": 5.6, \"SepalWidth\": 3.0, \"PetalLength\": 4.5, \"PetalWidth\": 1.5, \"Species\": \"Iris-versicolor\"}, {\"SepalLength\": 5.8, \"SepalWidth\": 2.7, \"PetalLength\": 4.1, \"PetalWidth\": 1.0, \"Species\": \"Iris-versicolor\"}, {\"SepalLength\": 6.2, \"SepalWidth\": 2.2, \"PetalLength\": 4.5, \"PetalWidth\": 1.5, \"Species\": \"Iris-versicolor\"}, {\"SepalLength\": 5.6, \"SepalWidth\": 2.5, \"PetalLength\": 3.9, \"PetalWidth\": 1.1, \"Species\": \"Iris-versicolor\"}, {\"SepalLength\": 5.9, \"SepalWidth\": 3.2, \"PetalLength\": 4.8, \"PetalWidth\": 1.8, \"Species\": \"Iris-versicolor\"}, {\"SepalLength\": 6.1, \"SepalWidth\": 2.8, \"PetalLength\": 4.0, \"PetalWidth\": 1.3, \"Species\": \"Iris-versicolor\"}, {\"SepalLength\": 6.3, \"SepalWidth\": 2.5, \"PetalLength\": 4.9, \"PetalWidth\": 1.5, \"Species\": \"Iris-versicolor\"}, {\"SepalLength\": 6.1, \"SepalWidth\": 2.8, \"PetalLength\": 4.7, \"PetalWidth\": 1.2, \"Species\": \"Iris-versicolor\"}, {\"SepalLength\": 6.4, \"SepalWidth\": 2.9, \"PetalLength\": 4.3, \"PetalWidth\": 1.3, \"Species\": \"Iris-versicolor\"}, {\"SepalLength\": 6.6, \"SepalWidth\": 3.0, \"PetalLength\": 4.4, \"PetalWidth\": 1.4, \"Species\": \"Iris-versicolor\"}, {\"SepalLength\": 6.8, \"SepalWidth\": 2.8, \"PetalLength\": 4.8, \"PetalWidth\": 1.4, \"Species\": \"Iris-versicolor\"}, {\"SepalLength\": 6.7, \"SepalWidth\": 3.0, \"PetalLength\": 5.0, \"PetalWidth\": 1.7, \"Species\": \"Iris-versicolor\"}, {\"SepalLength\": 6.0, \"SepalWidth\": 2.9, \"PetalLength\": 4.5, \"PetalWidth\": 1.5, \"Species\": \"Iris-versicolor\"}, {\"SepalLength\": 5.7, \"SepalWidth\": 2.6, \"PetalLength\": 3.5, \"PetalWidth\": 1.0, \"Species\": \"Iris-versicolor\"}, {\"SepalLength\": 5.5, \"SepalWidth\": 2.4, \"PetalLength\": 3.8, \"PetalWidth\": 1.1, \"Species\": \"Iris-versicolor\"}, {\"SepalLength\": 5.5, \"SepalWidth\": 2.4, \"PetalLength\": 3.7, \"PetalWidth\": 1.0, \"Species\": \"Iris-versicolor\"}, {\"SepalLength\": 5.8, \"SepalWidth\": 2.7, \"PetalLength\": 3.9, \"PetalWidth\": 1.2, \"Species\": \"Iris-versicolor\"}, {\"SepalLength\": 6.0, \"SepalWidth\": 2.7, \"PetalLength\": 5.1, \"PetalWidth\": 1.6, \"Species\": \"Iris-versicolor\"}, {\"SepalLength\": 5.4, \"SepalWidth\": 3.0, \"PetalLength\": 4.5, \"PetalWidth\": 1.5, \"Species\": \"Iris-versicolor\"}, {\"SepalLength\": 6.0, \"SepalWidth\": 3.4, \"PetalLength\": 4.5, \"PetalWidth\": 1.6, \"Species\": \"Iris-versicolor\"}, {\"SepalLength\": 6.7, \"SepalWidth\": 3.1, \"PetalLength\": 4.7, \"PetalWidth\": 1.5, \"Species\": \"Iris-versicolor\"}, {\"SepalLength\": 6.3, \"SepalWidth\": 2.3, \"PetalLength\": 4.4, \"PetalWidth\": 1.3, \"Species\": \"Iris-versicolor\"}, {\"SepalLength\": 5.6, \"SepalWidth\": 3.0, \"PetalLength\": 4.1, \"PetalWidth\": 1.3, \"Species\": \"Iris-versicolor\"}, {\"SepalLength\": 5.5, \"SepalWidth\": 2.5, \"PetalLength\": 4.0, \"PetalWidth\": 1.3, \"Species\": \"Iris-versicolor\"}, {\"SepalLength\": 5.5, \"SepalWidth\": 2.6, \"PetalLength\": 4.4, \"PetalWidth\": 1.2, \"Species\": \"Iris-versicolor\"}, {\"SepalLength\": 6.1, \"SepalWidth\": 3.0, \"PetalLength\": 4.6, \"PetalWidth\": 1.4, \"Species\": \"Iris-versicolor\"}, {\"SepalLength\": 5.8, \"SepalWidth\": 2.6, \"PetalLength\": 4.0, \"PetalWidth\": 1.2, \"Species\": \"Iris-versicolor\"}, {\"SepalLength\": 5.0, \"SepalWidth\": 2.3, \"PetalLength\": 3.3, \"PetalWidth\": 1.0, \"Species\": \"Iris-versicolor\"}, {\"SepalLength\": 5.6, \"SepalWidth\": 2.7, \"PetalLength\": 4.2, \"PetalWidth\": 1.3, \"Species\": \"Iris-versicolor\"}, {\"SepalLength\": 5.7, \"SepalWidth\": 3.0, \"PetalLength\": 4.2, \"PetalWidth\": 1.2, \"Species\": \"Iris-versicolor\"}, {\"SepalLength\": 5.7, \"SepalWidth\": 2.9, \"PetalLength\": 4.2, \"PetalWidth\": 1.3, \"Species\": \"Iris-versicolor\"}, {\"SepalLength\": 6.2, \"SepalWidth\": 2.9, \"PetalLength\": 4.3, \"PetalWidth\": 1.3, \"Species\": \"Iris-versicolor\"}, {\"SepalLength\": 5.1, \"SepalWidth\": 2.5, \"PetalLength\": 3.0, \"PetalWidth\": 1.1, \"Species\": \"Iris-versicolor\"}, {\"SepalLength\": 5.7, \"SepalWidth\": 2.8, \"PetalLength\": 4.1, \"PetalWidth\": 1.3, \"Species\": \"Iris-versicolor\"}, {\"SepalLength\": 6.3, \"SepalWidth\": 3.3, \"PetalLength\": 6.0, \"PetalWidth\": 2.5, \"Species\": \"Iris-virginica\"}, {\"SepalLength\": 5.8, \"SepalWidth\": 2.7, \"PetalLength\": 5.1, \"PetalWidth\": 1.9, \"Species\": \"Iris-virginica\"}, {\"SepalLength\": 7.1, \"SepalWidth\": 3.0, \"PetalLength\": 5.9, \"PetalWidth\": 2.1, \"Species\": \"Iris-virginica\"}, {\"SepalLength\": 6.3, \"SepalWidth\": 2.9, \"PetalLength\": 5.6, \"PetalWidth\": 1.8, \"Species\": \"Iris-virginica\"}, {\"SepalLength\": 6.5, \"SepalWidth\": 3.0, \"PetalLength\": 5.8, \"PetalWidth\": 2.2, \"Species\": \"Iris-virginica\"}, {\"SepalLength\": 7.6, \"SepalWidth\": 3.0, \"PetalLength\": 6.6, \"PetalWidth\": 2.1, \"Species\": \"Iris-virginica\"}, {\"SepalLength\": 4.9, \"SepalWidth\": 2.5, \"PetalLength\": 4.5, \"PetalWidth\": 1.7, \"Species\": \"Iris-virginica\"}, {\"SepalLength\": 7.3, \"SepalWidth\": 2.9, \"PetalLength\": 6.3, \"PetalWidth\": 1.8, \"Species\": \"Iris-virginica\"}, {\"SepalLength\": 6.7, \"SepalWidth\": 2.5, \"PetalLength\": 5.8, \"PetalWidth\": 1.8, \"Species\": \"Iris-virginica\"}, {\"SepalLength\": 7.2, \"SepalWidth\": 3.6, \"PetalLength\": 6.1, \"PetalWidth\": 2.5, \"Species\": \"Iris-virginica\"}, {\"SepalLength\": 6.5, \"SepalWidth\": 3.2, \"PetalLength\": 5.1, \"PetalWidth\": 2.0, \"Species\": \"Iris-virginica\"}, {\"SepalLength\": 6.4, \"SepalWidth\": 2.7, \"PetalLength\": 5.3, \"PetalWidth\": 1.9, \"Species\": \"Iris-virginica\"}, {\"SepalLength\": 6.8, \"SepalWidth\": 3.0, \"PetalLength\": 5.5, \"PetalWidth\": 2.1, \"Species\": \"Iris-virginica\"}, {\"SepalLength\": 5.7, \"SepalWidth\": 2.5, \"PetalLength\": 5.0, \"PetalWidth\": 2.0, \"Species\": \"Iris-virginica\"}, {\"SepalLength\": 5.8, \"SepalWidth\": 2.8, \"PetalLength\": 5.1, \"PetalWidth\": 2.4, \"Species\": \"Iris-virginica\"}, {\"SepalLength\": 6.4, \"SepalWidth\": 3.2, \"PetalLength\": 5.3, \"PetalWidth\": 2.3, \"Species\": \"Iris-virginica\"}, {\"SepalLength\": 6.5, \"SepalWidth\": 3.0, \"PetalLength\": 5.5, \"PetalWidth\": 1.8, \"Species\": \"Iris-virginica\"}, {\"SepalLength\": 7.7, \"SepalWidth\": 3.8, \"PetalLength\": 6.7, \"PetalWidth\": 2.2, \"Species\": \"Iris-virginica\"}, {\"SepalLength\": 7.7, \"SepalWidth\": 2.6, \"PetalLength\": 6.9, \"PetalWidth\": 2.3, \"Species\": \"Iris-virginica\"}, {\"SepalLength\": 6.0, \"SepalWidth\": 2.2, \"PetalLength\": 5.0, \"PetalWidth\": 1.5, \"Species\": \"Iris-virginica\"}, {\"SepalLength\": 6.9, \"SepalWidth\": 3.2, \"PetalLength\": 5.7, \"PetalWidth\": 2.3, \"Species\": \"Iris-virginica\"}, {\"SepalLength\": 5.6, \"SepalWidth\": 2.8, \"PetalLength\": 4.9, \"PetalWidth\": 2.0, \"Species\": \"Iris-virginica\"}, {\"SepalLength\": 7.7, \"SepalWidth\": 2.8, \"PetalLength\": 6.7, \"PetalWidth\": 2.0, \"Species\": \"Iris-virginica\"}, {\"SepalLength\": 6.3, \"SepalWidth\": 2.7, \"PetalLength\": 4.9, \"PetalWidth\": 1.8, \"Species\": \"Iris-virginica\"}, {\"SepalLength\": 6.7, \"SepalWidth\": 3.3, \"PetalLength\": 5.7, \"PetalWidth\": 2.1, \"Species\": \"Iris-virginica\"}, {\"SepalLength\": 7.2, \"SepalWidth\": 3.2, \"PetalLength\": 6.0, \"PetalWidth\": 1.8, \"Species\": \"Iris-virginica\"}, {\"SepalLength\": 6.2, \"SepalWidth\": 2.8, \"PetalLength\": 4.8, \"PetalWidth\": 1.8, \"Species\": \"Iris-virginica\"}, {\"SepalLength\": 6.1, \"SepalWidth\": 3.0, \"PetalLength\": 4.9, \"PetalWidth\": 1.8, \"Species\": \"Iris-virginica\"}, {\"SepalLength\": 6.4, \"SepalWidth\": 2.8, \"PetalLength\": 5.6, \"PetalWidth\": 2.1, \"Species\": \"Iris-virginica\"}, {\"SepalLength\": 7.2, \"SepalWidth\": 3.0, \"PetalLength\": 5.8, \"PetalWidth\": 1.6, \"Species\": \"Iris-virginica\"}, {\"SepalLength\": 7.4, \"SepalWidth\": 2.8, \"PetalLength\": 6.1, \"PetalWidth\": 1.9, \"Species\": \"Iris-virginica\"}, {\"SepalLength\": 7.9, \"SepalWidth\": 3.8, \"PetalLength\": 6.4, \"PetalWidth\": 2.0, \"Species\": \"Iris-virginica\"}, {\"SepalLength\": 6.4, \"SepalWidth\": 2.8, \"PetalLength\": 5.6, \"PetalWidth\": 2.2, \"Species\": \"Iris-virginica\"}, {\"SepalLength\": 6.3, \"SepalWidth\": 2.8, \"PetalLength\": 5.1, \"PetalWidth\": 1.5, \"Species\": \"Iris-virginica\"}, {\"SepalLength\": 6.1, \"SepalWidth\": 2.6, \"PetalLength\": 5.6, \"PetalWidth\": 1.4, \"Species\": \"Iris-virginica\"}, {\"SepalLength\": 7.7, \"SepalWidth\": 3.0, \"PetalLength\": 6.1, \"PetalWidth\": 2.3, \"Species\": \"Iris-virginica\"}, {\"SepalLength\": 6.3, \"SepalWidth\": 3.4, \"PetalLength\": 5.6, \"PetalWidth\": 2.4, \"Species\": \"Iris-virginica\"}, {\"SepalLength\": 6.4, \"SepalWidth\": 3.1, \"PetalLength\": 5.5, \"PetalWidth\": 1.8, \"Species\": \"Iris-virginica\"}, {\"SepalLength\": 6.0, \"SepalWidth\": 3.0, \"PetalLength\": 4.8, \"PetalWidth\": 1.8, \"Species\": \"Iris-virginica\"}, {\"SepalLength\": 6.9, \"SepalWidth\": 3.1, \"PetalLength\": 5.4, \"PetalWidth\": 2.1, \"Species\": \"Iris-virginica\"}, {\"SepalLength\": 6.7, \"SepalWidth\": 3.1, \"PetalLength\": 5.6, \"PetalWidth\": 2.4, \"Species\": \"Iris-virginica\"}, {\"SepalLength\": 6.9, \"SepalWidth\": 3.1, \"PetalLength\": 5.1, \"PetalWidth\": 2.3, \"Species\": \"Iris-virginica\"}, {\"SepalLength\": 5.8, \"SepalWidth\": 2.7, \"PetalLength\": 5.1, \"PetalWidth\": 1.9, \"Species\": \"Iris-virginica\"}, {\"SepalLength\": 6.8, \"SepalWidth\": 3.2, \"PetalLength\": 5.9, \"PetalWidth\": 2.3, \"Species\": \"Iris-virginica\"}, {\"SepalLength\": 6.7, \"SepalWidth\": 3.3, \"PetalLength\": 5.7, \"PetalWidth\": 2.5, \"Species\": \"Iris-virginica\"}, {\"SepalLength\": 6.7, \"SepalWidth\": 3.0, \"PetalLength\": 5.2, \"PetalWidth\": 2.3, \"Species\": \"Iris-virginica\"}, {\"SepalLength\": 6.3, \"SepalWidth\": 2.5, \"PetalLength\": 5.0, \"PetalWidth\": 1.9, \"Species\": \"Iris-virginica\"}, {\"SepalLength\": 6.5, \"SepalWidth\": 3.0, \"PetalLength\": 5.2, \"PetalWidth\": 2.0, \"Species\": \"Iris-virginica\"}, {\"SepalLength\": 6.2, \"SepalWidth\": 3.4, \"PetalLength\": 5.4, \"PetalWidth\": 2.3, \"Species\": \"Iris-virginica\"}, {\"SepalLength\": 5.9, \"SepalWidth\": 3.0, \"PetalLength\": 5.1, \"PetalWidth\": 1.8, \"Species\": \"Iris-virginica\"}]}}, {\"mode\": \"vega-lite\"});\n",
       "</script>"
      ],
      "text/plain": [
       "alt.Chart(...)"
      ]
     },
     "execution_count": 9,
     "metadata": {},
     "output_type": "execute_result"
    }
   ],
   "source": [
    "alt.Chart(iris).mark_area(interpolate='monotone').encode(\n",
    "    x='SepalLength:Q',\n",
    "    y='count(SepalLength):Q',\n",
    "    color='Species:N',\n",
    "    facet=alt.Facet('Species:N', title=None)\n",
    ").transform_filter(\n",
    "    alt.FieldRangePredicate(field='SepalLength', range=[0, 5.5])\n",
    ").properties(width=200, height=150)"
   ]
  },
  {
   "cell_type": "code",
   "execution_count": 10,
   "metadata": {},
   "outputs": [
    {
     "ename": "SyntaxError",
     "evalue": "invalid syntax (<ipython-input-10-a948afef8674>, line 1)",
     "output_type": "error",
     "traceback": [
      "\u001b[0;36m  File \u001b[0;32m\"<ipython-input-10-a948afef8674>\"\u001b[0;36m, line \u001b[0;32m1\u001b[0m\n\u001b[0;31m    'Setosa': [iris[iris['Species']=='Iris-setosa']],\u001b[0m\n\u001b[0m                                                    ^\u001b[0m\n\u001b[0;31mSyntaxError\u001b[0m\u001b[0;31m:\u001b[0m invalid syntax\n"
     ]
    }
   ],
   "source": [
    "'Setosa': [iris[iris['Species']=='Iris-setosa']],"
   ]
  }
 ],
 "metadata": {
  "interpreter": {
   "hash": "ed225720166559e7176d3793db16a2fd8d295f725007103b21ac3099d2a89ee8"
  },
  "kernelspec": {
   "name": "python3",
   "display_name": "Python 3.7.9 64-bit ('base': conda)"
  },
  "language_info": {
   "codemirror_mode": {
    "name": "ipython",
    "version": 3
   },
   "file_extension": ".py",
   "mimetype": "text/x-python",
   "name": "python",
   "nbconvert_exporter": "python",
   "pygments_lexer": "ipython3",
   "version": "3.7.9"
  }
 },
 "nbformat": 4,
 "nbformat_minor": 2
}