{
 "cells": [
  {
   "cell_type": "code",
   "execution_count": null,
   "metadata": {},
   "outputs": [],
   "source": [
    "import altair as alt\n",
    "import numpy as np\n",
    "import pandas as pd\n",
    "import seaborn as sns\n",
    "import matplotlib.pyplot as plt\n",
    "import matplotlib.gridspec as gridspec"
   ]
  },
  {
   "cell_type": "code",
   "execution_count": null,
   "metadata": {},
   "outputs": [],
   "source": [
    "iris = pd.read_csv('iris.csv')\n",
    "iris.info()\n",
    "iris.head(5)\n",
    "iris.describe()"
   ]
  },
  {
   "cell_type": "markdown",
   "metadata": {},
   "source": [
    "# Design decision 1: 散点图可视化iris特征\n",
    "choice 1: 直接的散点图 choice 2: 回归散点图"
   ]
  },
  {
   "cell_type": "code",
   "execution_count": null,
   "metadata": {},
   "outputs": [],
   "source": [
    "###回归散点图###\n",
    "# f, axes = plt.subplots(3, 2, figsize=(15, 15))\n",
    "# # fig = plt.figure(figsize=(15, 15), constrained_layout=False)\n",
    "# # spec = gridspec.GridSpec(ncols=3, nrows=2)\n",
    "\n",
    "f_1 = sns.lmplot(data=iris, x='SepalWidth', y='SepalLength', palette='RdPu', hue='Species')\n",
    "f_2 = sns.lmplot(data=iris, x='SepalWidth', y='PetalLength', palette='RdPu', hue='Species')\n",
    "f_3 = sns.lmplot(data=iris, x='SepalWidth', y='PetalWidth', palette='RdPu', hue='Species')\n",
    "f_4 = sns.lmplot(data=iris, x='SepalLength', y='PetalLength', palette='RdPu', hue='Species')\n",
    "f_5 = sns.lmplot(data=iris, x='SepalLength', y='PetalWidth', palette='RdPu', hue='Species')\n",
    "f_6 = sns.lmplot(data=iris, x='PetalLength', y='PetalWidth', palette='RdPu', hue='Species')\n"
   ]
  },
  {
   "cell_type": "markdown",
   "metadata": {},
   "source": [
    "# Design Decision 2: 核密度估计图\n",
    "choice 1: 单属性kde choice 2: 双属性kde"
   ]
  },
  {
   "cell_type": "code",
   "execution_count": null,
   "metadata": {},
   "outputs": [],
   "source": [
    "f, axes = plt.subplots(3, 2, figsize=(10, 10))\n",
    "\n",
    "swsl = sns.kdeplot(data=iris, x='SepalWidth',  y='SepalLength', palette='nipy_spectral_r', hue='Species', ax = axes[0,0])\n",
    "swpl = sns.kdeplot(data=iris, x='SepalWidth',  y='PetalLength', palette='nipy_spectral_r', hue='Species', ax = axes[1,0])\n",
    "swpw = sns.kdeplot(data=iris, x='SepalWidth',  y='PetalWidth',  palette='nipy_spectral_r', hue='Species', ax = axes[2,0])\n",
    "slpl = sns.kdeplot(data=iris, x='SepalLength', y='PetalLength', palette='nipy_spectral_r', hue='Species', ax = axes[0,1])\n",
    "slpw = sns.kdeplot(data=iris, x='SepalLength', y='PetalWidth',  palette='nipy_spectral_r', hue='Species', ax = axes[1,1])\n",
    "plpw = sns.kdeplot(data=iris, x='PetalLength', y='PetalWidth',  palette='nipy_spectral_r', hue='Species', ax = axes[2,1])"
   ]
  },
  {
   "cell_type": "markdown",
   "metadata": {},
   "source": [
    "# Design Decision 3: 是否合并箱线图和琴图"
   ]
  },
  {
   "cell_type": "code",
   "execution_count": null,
   "metadata": {},
   "outputs": [],
   "source": [
    "###箱线图###\n",
    "f, axes = plt.subplots(2, 2, figsize=(8, 8), sharex=True)\n",
    "sns.despine(left=True)\n",
    "\n",
    "sns.boxplot(x='Species', y='SepalLength', data=iris, palette='cool', ax=axes[0, 0])\n",
    "sns.boxplot(x='Species', y='SepalWidth', data=iris, palette='cool', ax=axes[0, 1])\n",
    "sns.boxplot(x='Species', y='PetalLength', data=iris, palette='cool', ax=axes[1, 0])\n",
    "sns.boxplot(x='Species', y='PetalWidth', data=iris, palette='cool', ax=axes[1, 1])\n",
    "\n",
    "plt.show()"
   ]
  },
  {
   "cell_type": "markdown",
   "metadata": {},
   "source": [
    "# Design Decision 4: Andrew曲线 或者 Parallel_coordinates"
   ]
  },
  {
   "cell_type": "code",
   "execution_count": null,
   "metadata": {},
   "outputs": [],
   "source": [
    "plt.subplots(figsize = (10,8))\n",
    "pd.plotting.parallel_coordinates(iris, 'Species', colormap='cividis')\n",
    "plt.show()"
   ]
  },
  {
   "cell_type": "code",
   "execution_count": null,
   "metadata": {},
   "outputs": [],
   "source": [
    "####################################Not In Decisions#########################################"
   ]
  },
  {
   "cell_type": "markdown",
   "metadata": {},
   "source": [
    "# 密度预估曲线图"
   ]
  },
  {
   "cell_type": "code",
   "execution_count": null,
   "metadata": {},
   "outputs": [],
   "source": [
    "alt.Chart(iris).transform_fold(\n",
    "    ['PetalWidth',\n",
    "     'PetalLength',\n",
    "     'SepalWidth',\n",
    "     'SepalLength'],\n",
    "    as_ = ['Measurement_type', 'value']\n",
    ").transform_density(\n",
    "    density='value',\n",
    "    bandwidth=0.3,\n",
    "    groupby=['Measurement_type'],\n",
    "    extent= [0, 8],\n",
    "    counts = True,\n",
    "    steps=200\n",
    ").mark_area().encode(\n",
    "    alt.X('value:Q'),\n",
    "    alt.Y('density:Q', stack='zero'),\n",
    "    alt.Color('Measurement_type:N')\n",
    ").properties(width=400, height=100)"
   ]
  },
  {
   "cell_type": "code",
   "execution_count": null,
   "metadata": {},
   "outputs": [],
   "source": [
    "alt.Chart(iris).mark_area(interpolate='monotone').encode(\n",
    "    x='SepalLength:Q',\n",
    "    y='count(SepalLength):Q',\n",
    "    color='Species:N',\n",
    "    facet=alt.Facet('Species:N', title=None)\n",
    ").properties(width=200, height=150)"
   ]
  },
  {
   "cell_type": "code",
   "execution_count": null,
   "metadata": {},
   "outputs": [],
   "source": [
    "alt.Chart(iris).mark_area(interpolate='monotone').encode(\n",
    "    x='SepalLength:Q',\n",
    "    y='count(SepalLength):Q',\n",
    "    color='Species:N',\n",
    "    facet=alt.Facet('Species:N', title=None)\n",
    ").transform_lookup(\n",
    "    lookup='PetalLength',\n",
    "    from_=alt.LookupData(data=iris, key='PetalLength',\n",
    "                         fields=['PetalLength', 'SepalLength'])\n",
    ").transform_filter(\n",
    "    alt.FieldRangePredicate(field='SepalLength', range=[0, 100])\n",
    ").properties(width=200, height=150)"
   ]
  }
 ],
 "metadata": {
  "interpreter": {
   "hash": "47d97859861914db0cae8ef85b434b86c94eb8b41d7951e6413cfaacb17f8e54"
  },
  "kernelspec": {
   "display_name": "Python 3",
   "language": "python",
   "name": "python3"
  },
  "language_info": {
   "codemirror_mode": {
    "name": "ipython",
    "version": 3
   },
   "file_extension": ".py",
   "mimetype": "text/x-python",
   "name": "python",
   "nbconvert_exporter": "python",
   "pygments_lexer": "ipython3",
   "version": "3.7.2"
  }
 },
 "nbformat": 4,
 "nbformat_minor": 2
}
